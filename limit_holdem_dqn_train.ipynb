{
 "cells": [
  {
   "cell_type": "markdown",
   "metadata": {},
   "source": [
    "Adapted from `rlcard/examples/leduc_holdem_dqn_pytorch.py`\n",
    "\n",
    "The below cell clones the project repo and then clones my fork of RLCard inside of it. It then connects the notebook to Google Drive to save checkpoints."
   ]
  },
  {
   "cell_type": "code",
   "execution_count": null,
   "metadata": {},
   "outputs": [],
   "source": [
    "!git clone https://github.com/DanielKerrigan/CS-GY_9223_Deep_Learning.git\n",
    "\n",
    "%cd CS-GY_9223_Deep_Learning\n",
    "\n",
    "!git clone https://github.com/DanielKerrigan/rlcard.git\n",
    "\n",
    "%cd rlcard\n",
    "\n",
    "!git checkout dan\n",
    "\n",
    "%cd ..\n",
    "\n",
    "from google.colab import drive\n",
    "drive.mount('/content/gdrive')\n",
    "drive_dir = '/content/gdrive/My Drive/deep-learning/limit-holdem-dqn-05'"
   ]
  },
  {
   "cell_type": "code",
   "execution_count": null,
   "metadata": {},
   "outputs": [],
   "source": [
    "import os\n",
    "import sys\n",
    "sys.path.insert(0, os.path.abspath('./rlcard'))"
   ]
  },
  {
   "cell_type": "code",
   "execution_count": null,
   "metadata": {},
   "outputs": [],
   "source": [
    "import warnings\n",
    "warnings.simplefilter(action='ignore', category=FutureWarning)"
   ]
  },
  {
   "cell_type": "code",
   "execution_count": null,
   "metadata": {},
   "outputs": [],
   "source": [
    "import torch\n",
    "import rlcard\n",
    "from DQNAgent import DQNAgent\n",
    "from rlcard.agents import RandomAgent\n",
    "from rlcard.utils import set_global_seed, tournament\n",
    "from rlcard.utils import Logger"
   ]
  },
  {
   "cell_type": "code",
   "execution_count": null,
   "metadata": {},
   "outputs": [],
   "source": [
    "# Make environment\n",
    "env = rlcard.make('limit-holdem', config={'seed': 0})\n",
    "eval_env = rlcard.make('limit-holdem', config={'seed': 0})"
   ]
  },
  {
   "cell_type": "code",
   "execution_count": null,
   "metadata": {},
   "outputs": [],
   "source": [
    "# Set the iterations numbers and how frequently we evaluate the performance\n",
    "evaluate_every = 20_000\n",
    "evaluate_num = 10_000\n",
    "episode_num = 1_000_000"
   ]
  },
  {
   "cell_type": "code",
   "execution_count": null,
   "metadata": {},
   "outputs": [],
   "source": [
    "# Set a global seed\n",
    "set_global_seed(0)"
   ]
  },
  {
   "cell_type": "code",
   "execution_count": null,
   "metadata": {},
   "outputs": [],
   "source": [
    "agent = DQNAgent(\n",
    "    env.action_num,\n",
    "    env.state_shape[0],\n",
    "    memory=1_500_000,\n",
    "    lr=0.15,\n",
    "    batch_size=256,\n",
    "    update_every=256,\n",
    "    eps_start=0.9,\n",
    "    eps_end=0.05,\n",
    "    target_update=1000,\n",
    "    hidden_neurons=[1024, 512, 1024, 512],\n",
    "    clip_grads=True,\n",
    "    smooth_loss=True,\n",
    ")\n",
    "\n",
    "eval_agent = DQNAgent(\n",
    "    env.action_num,\n",
    "    env.state_shape[0],\n",
    "    hidden_neurons=[1024, 512, 1024, 512]\n",
    ")\n",
    "\n",
    "eval_agent.load('/content/gdrive/My Drive/deep-learning/limit-holdem-dqn-03/step-5474450.pt')\n",
    "\n",
    "env.set_agents([agent, agent])\n",
    "eval_env.set_agents([agent, eval_agent])"
   ]
  },
  {
   "cell_type": "code",
   "execution_count": null,
   "metadata": {},
   "outputs": [],
   "source": [
    "# Init a Logger to plot the learning curve\n",
    "logger = Logger(drive_dir)"
   ]
  },
  {
   "cell_type": "code",
   "execution_count": null,
   "metadata": {},
   "outputs": [],
   "source": [
    "losses = []"
   ]
  },
  {
   "cell_type": "code",
   "execution_count": null,
   "metadata": {},
   "outputs": [],
   "source": [
    "for episode in range(episode_num):\n",
    "    # Generate data from the environment\n",
    "    trajectories, _ = env.run(is_training=True)\n",
    "\n",
    "    # Feed transitions into agent memory, and train the agent\n",
    "    for ts in trajectories[0]:\n",
    "        agent.train(ts)\n",
    "\n",
    "    # Evaluate the performance. Play with random agents.\n",
    "    if episode % evaluate_every == 0:\n",
    "        if agent.loss is not None:\n",
    "            losses.append((agent.train_step, agent.loss.item()))\n",
    "        print(f'\\nEpisode: {episode}, Weight updates: {agent.weight_updates}, loss: {agent.loss.item()}')\n",
    "        logger.log_performance(agent.weight_updates,\n",
    "                               tournament(eval_env, evaluate_num)[0])        \n",
    "        agent.save(drive_dir)"
   ]
  },
  {
   "cell_type": "code",
   "execution_count": null,
   "metadata": {},
   "outputs": [],
   "source": [
    "# Close files in the logger\n",
    "logger.close_files()"
   ]
  },
  {
   "cell_type": "code",
   "execution_count": null,
   "metadata": {},
   "outputs": [],
   "source": [
    "# Plot the learning curve\n",
    "logger.plot('DQN')"
   ]
  },
  {
   "cell_type": "code",
   "execution_count": null,
   "metadata": {},
   "outputs": [],
   "source": [
    "eval_env_dqn_dqn = rlcard.make('limit-holdem', config={'seed': 1})\n",
    "eval_env_dqn_dqn.set_agents([agent, agent])\n",
    "payoffs = tournament(eval_env_dqn_dqn, 10000)\n",
    "print(payoffs)"
   ]
  }
 ],
 "metadata": {
  "kernelspec": {
   "display_name": "dl",
   "language": "python",
   "name": "dl"
  },
  "language_info": {
   "codemirror_mode": {
    "name": "ipython",
    "version": 3
   },
   "file_extension": ".py",
   "mimetype": "text/x-python",
   "name": "python",
   "nbconvert_exporter": "python",
   "pygments_lexer": "ipython3",
   "version": "3.6.9"
  }
 },
 "nbformat": 4,
 "nbformat_minor": 4
}
