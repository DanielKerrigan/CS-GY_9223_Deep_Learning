{
 "cells": [
  {
   "cell_type": "markdown",
   "metadata": {},
   "source": [
    "Adapted from `rlcard/examples/leduc_holdem_dqn_pytorch.py`"
   ]
  },
  {
   "cell_type": "code",
   "execution_count": null,
   "metadata": {},
   "outputs": [],
   "source": [
    "!git clone https://github.com/DanielKerrigan/CS-GY_9223_Deep_Learning.git\n",
    "\n",
    "%cd CS-GY_9223_Deep_Learning\n",
    "\n",
    "!git clone https://github.com/DanielKerrigan/rlcard.git\n",
    "\n",
    "%cd rlcard\n",
    "\n",
    "!git checkout dan\n",
    "\n",
    "%cd ..\n",
    "\n",
    "from google.colab import drive\n",
    "drive.mount('/content/gdrive')\n",
    "drive_dir = '/content/gdrive/My Drive/deep-learning'"
   ]
  },
  {
   "cell_type": "code",
   "execution_count": null,
   "metadata": {},
   "outputs": [],
   "source": [
    "import os\n",
    "import sys\n",
    "sys.path.insert(0, os.path.abspath('./rlcard'))"
   ]
  },
  {
   "cell_type": "code",
   "execution_count": null,
   "metadata": {},
   "outputs": [],
   "source": [
    "import warnings\n",
    "warnings.simplefilter(action='ignore', category=FutureWarning)"
   ]
  },
  {
   "cell_type": "code",
   "execution_count": null,
   "metadata": {},
   "outputs": [],
   "source": [
    "import torch\n",
    "import rlcard\n",
    "from DQNAgent import DQNAgent\n",
    "from rlcard.agents import RandomAgent\n",
    "from rlcard.utils import set_global_seed, tournament\n",
    "from rlcard.utils import Logger"
   ]
  },
  {
   "cell_type": "code",
   "execution_count": null,
   "metadata": {},
   "outputs": [],
   "source": [
    "# Make environment\n",
    "env = rlcard.make('limit-holdem', config={'seed': 0})\n",
    "eval_env = rlcard.make('limit-holdem', config={'seed': 0})"
   ]
  },
  {
   "cell_type": "code",
   "execution_count": null,
   "metadata": {},
   "outputs": [],
   "source": [
    "# Set the iterations numbers and how frequently we evaluate the performance\n",
    "evaluate_every = 20_000\n",
    "evaluate_num = 10_000\n",
    "episode_num = 1_000_000\n",
    "save_every = 100_000"
   ]
  },
  {
   "cell_type": "code",
   "execution_count": null,
   "metadata": {},
   "outputs": [],
   "source": [
    "# Set a global seed\n",
    "set_global_seed(0)"
   ]
  },
  {
   "cell_type": "code",
   "execution_count": null,
   "metadata": {},
   "outputs": [],
   "source": [
    "agent = DQNAgent(\n",
    "    env.action_num,\n",
    "    env.state_shape[0],\n",
    "    memory=10_000_000,\n",
    "    lr=0.1,\n",
    "    batch_size=256,\n",
    "    update_every=128,\n",
    "    eps_start=0.12,\n",
    "    target_update=500,\n",
    "    hidden_neurons=[1024, 512, 1024, 512]\n",
    ")\n",
    "\n",
    "random_agent = RandomAgent(action_num=eval_env.action_num)\n",
    "env.set_agents([agent, agent])\n",
    "eval_env.set_agents([agent, random_agent])"
   ]
  },
  {
   "cell_type": "code",
   "execution_count": null,
   "metadata": {},
   "outputs": [],
   "source": [
    "# Init a Logger to plot the learning curve\n",
    "logger = Logger(drive_dir)"
   ]
  },
  {
   "cell_type": "code",
   "execution_count": null,
   "metadata": {},
   "outputs": [],
   "source": [
    "for episode in range(episode_num):\n",
    "    # Generate data from the environment\n",
    "    trajectories, _ = env.run(is_training=True)\n",
    "\n",
    "    # Feed transitions into agent memory, and train the agent\n",
    "    for ts in trajectories[0]:\n",
    "        agent.train(ts)\n",
    "\n",
    "    # Evaluate the performance. Play with random agents.\n",
    "    if episode % evaluate_every == 0:\n",
    "        logger.log_performance(agent.weight_updates,\n",
    "                               tournament(eval_env, evaluate_num)[0])\n",
    "        \n",
    "    if episode % save_every == 0:\n",
    "        agent.save(drive_dir)"
   ]
  },
  {
   "cell_type": "code",
   "execution_count": null,
   "metadata": {},
   "outputs": [],
   "source": [
    "# Close files in the logger\n",
    "logger.close_files()"
   ]
  },
  {
   "cell_type": "code",
   "execution_count": null,
   "metadata": {},
   "outputs": [],
   "source": [
    "# Plot the learning curve\n",
    "logger.plot('DQN')"
   ]
  },
  {
   "cell_type": "code",
   "execution_count": null,
   "metadata": {},
   "outputs": [],
   "source": [
    "eval_env_dqn_dqn = rlcard.make('limit-holdem', config={'seed': 1})\n",
    "eval_env_dqn_dqn.set_agents([agent, agent])\n",
    "payoffs = tournament(eval_env_dqn_dqn, 10000)\n",
    "print(payoffs)"
   ]
  }
 ],
 "metadata": {
  "kernelspec": {
   "display_name": "dl",
   "language": "python",
   "name": "dl"
  },
  "language_info": {
   "codemirror_mode": {
    "name": "ipython",
    "version": 3
   },
   "file_extension": ".py",
   "mimetype": "text/x-python",
   "name": "python",
   "nbconvert_exporter": "python",
   "pygments_lexer": "ipython3",
   "version": "3.6.9"
  }
 },
 "nbformat": 4,
 "nbformat_minor": 4
}
