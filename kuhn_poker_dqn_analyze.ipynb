{
 "cells": [
  {
   "cell_type": "markdown",
   "metadata": {},
   "source": [
    "Adapted from `rlcard/examples/leduc_holdem_dqn_pytorch.py`"
   ]
  },
  {
   "cell_type": "code",
   "execution_count": 1,
   "metadata": {},
   "outputs": [],
   "source": [
    "import os\n",
    "import sys\n",
    "sys.path.insert(0, os.path.abspath('./rlcard'))"
   ]
  },
  {
   "cell_type": "code",
   "execution_count": 2,
   "metadata": {},
   "outputs": [],
   "source": [
    "import warnings\n",
    "warnings.simplefilter(action='ignore', category=FutureWarning)"
   ]
  },
  {
   "cell_type": "code",
   "execution_count": 3,
   "metadata": {},
   "outputs": [],
   "source": [
    "import torch\n",
    "import rlcard\n",
    "from DQNAgent import DQNAgent\n",
    "from rlcard.agents import RandomAgent, CFRAgent\n",
    "from rlcard.utils import set_global_seed, tournament\n",
    "from rlcard.utils import Logger"
   ]
  },
  {
   "cell_type": "code",
   "execution_count": 4,
   "metadata": {},
   "outputs": [],
   "source": [
    "set_global_seed(0)"
   ]
  },
  {
   "cell_type": "code",
   "execution_count": 5,
   "metadata": {},
   "outputs": [],
   "source": [
    "eval_env = rlcard.make('kuhn-poker', config={'seed': 0})"
   ]
  },
  {
   "cell_type": "code",
   "execution_count": 6,
   "metadata": {},
   "outputs": [],
   "source": [
    "actions = ['call', 'raise', 'fold', 'check']"
   ]
  },
  {
   "cell_type": "code",
   "execution_count": 7,
   "metadata": {},
   "outputs": [],
   "source": [
    "dqn_agent = DQNAgent(\n",
    "    eval_env.action_num,\n",
    "    eval_env.state_shape[0],\n",
    "    memory=2_000_000,\n",
    "    lr=0.1,\n",
    "    batch_size=128,\n",
    "    update_every=64,\n",
    "    eps_start=0.12,\n",
    "    target_update=300,\n",
    "    hidden_neurons=[64]\n",
    ")\n",
    "\n",
    "dqn_agent.load('models/kuhn_poker_dqn/step-103978.pt')"
   ]
  },
  {
   "cell_type": "markdown",
   "metadata": {},
   "source": [
    "Indices 0-2 represent the hero's hole card\n",
    "* 0 - Jack\n",
    "* 1 - King\n",
    "* 2 - Queen\n",
    "\n",
    "Indices 3-5 represent the number of chips the hero has bet\n",
    "* 3 - 0 chips\n",
    "* 4 - 1 chip\n",
    "* 5 - 2 chips\n",
    "\n",
    "Indices 6-8 represent the number of chips the villain has bet\n",
    "* 6 - 0 chips\n",
    "* 7 - 1 chip\n",
    "* 8 - 2 chips"
   ]
  },
  {
   "cell_type": "code",
   "execution_count": 8,
   "metadata": {},
   "outputs": [],
   "source": [
    "def get_obs(card, hero_bet, villain_bet):\n",
    "    obs = [0, 0, 0, 0, 0, 0, 0, 0, 0]\n",
    "    card_to_index = { 'J': 0, 'Q': 1, 'K': 2 }\n",
    "    obs[card_to_index[card]] = 1\n",
    "    obs[hero_bet + 3] = 1\n",
    "    obs[villain_bet + 6] = 1\n",
    "    return obs\n",
    "\n",
    "def get_actions(moves):\n",
    "    return [actions.index(a) for a in moves]"
   ]
  },
  {
   "cell_type": "code",
   "execution_count": 9,
   "metadata": {},
   "outputs": [
    {
     "data": {
      "text/plain": [
       "'fold'"
      ]
     },
     "execution_count": 9,
     "metadata": {},
     "output_type": "execute_result"
    }
   ],
   "source": [
    "# Jack, first to act or facing check\n",
    "state = {\n",
    "    'obs': get_obs('J', 1, 1),\n",
    "    'legal_actions': [1, 2, 3]\n",
    "}\n",
    "\n",
    "index, _ = dqn_agent.eval_step(state)\n",
    "actions[index]"
   ]
  },
  {
   "cell_type": "code",
   "execution_count": 10,
   "metadata": {},
   "outputs": [
    {
     "data": {
      "text/plain": [
       "'check'"
      ]
     },
     "execution_count": 10,
     "metadata": {},
     "output_type": "execute_result"
    }
   ],
   "source": [
    "# Queen, first to act or facing check\n",
    "state = {\n",
    "    'obs': get_obs('Q', 1, 1),\n",
    "    'legal_actions': get_actions(['raise', 'fold', 'check'])\n",
    "}\n",
    "\n",
    "index, _ = dqn_agent.eval_step(state)\n",
    "actions[index]"
   ]
  },
  {
   "cell_type": "code",
   "execution_count": 11,
   "metadata": {},
   "outputs": [
    {
     "data": {
      "text/plain": [
       "'raise'"
      ]
     },
     "execution_count": 11,
     "metadata": {},
     "output_type": "execute_result"
    }
   ],
   "source": [
    "# King, first to act or facing check\n",
    "state = {\n",
    "    'obs': get_obs('K', 1, 1),\n",
    "    'legal_actions': get_actions(['raise', 'fold', 'check'])\n",
    "}\n",
    "\n",
    "index, _ = dqn_agent.eval_step(state)\n",
    "actions[index]"
   ]
  },
  {
   "cell_type": "code",
   "execution_count": 12,
   "metadata": {},
   "outputs": [
    {
     "data": {
      "text/plain": [
       "'fold'"
      ]
     },
     "execution_count": 12,
     "metadata": {},
     "output_type": "execute_result"
    }
   ],
   "source": [
    "# Jack, facing bet\n",
    "state = {\n",
    "    'obs': get_obs('J', 1, 2),\n",
    "    'legal_actions': get_actions(['call', 'fold'])\n",
    "}\n",
    "\n",
    "index, _ = dqn_agent.eval_step(state)\n",
    "actions[index]"
   ]
  },
  {
   "cell_type": "code",
   "execution_count": 13,
   "metadata": {},
   "outputs": [
    {
     "data": {
      "text/plain": [
       "'fold'"
      ]
     },
     "execution_count": 13,
     "metadata": {},
     "output_type": "execute_result"
    }
   ],
   "source": [
    "# Queen, facing bet\n",
    "state = {\n",
    "    'obs': get_obs('Q', 1, 2),\n",
    "    'legal_actions': get_actions(['call', 'fold'])\n",
    "}\n",
    "\n",
    "index, _ = dqn_agent.eval_step(state)\n",
    "actions[index]"
   ]
  },
  {
   "cell_type": "code",
   "execution_count": 14,
   "metadata": {},
   "outputs": [
    {
     "data": {
      "text/plain": [
       "'call'"
      ]
     },
     "execution_count": 14,
     "metadata": {},
     "output_type": "execute_result"
    }
   ],
   "source": [
    "# King, facing bet\n",
    "state = {\n",
    "    'obs': get_obs('K', 1, 2),\n",
    "    'legal_actions': get_actions(['call', 'fold'])\n",
    "}\n",
    "\n",
    "index, _ = dqn_agent.eval_step(state)\n",
    "actions[index]"
   ]
  }
 ],
 "metadata": {
  "kernelspec": {
   "display_name": "dl",
   "language": "python",
   "name": "dl"
  },
  "language_info": {
   "codemirror_mode": {
    "name": "ipython",
    "version": 3
   },
   "file_extension": ".py",
   "mimetype": "text/x-python",
   "name": "python",
   "nbconvert_exporter": "python",
   "pygments_lexer": "ipython3",
   "version": "3.6.9"
  }
 },
 "nbformat": 4,
 "nbformat_minor": 4
}
