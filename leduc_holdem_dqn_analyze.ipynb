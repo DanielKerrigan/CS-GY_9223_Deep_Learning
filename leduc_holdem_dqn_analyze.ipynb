{
 "cells": [
  {
   "cell_type": "markdown",
   "metadata": {},
   "source": [
    "Adapted from `rlcard/examples/leduc_holdem_dqn_pytorch.py`"
   ]
  },
  {
   "cell_type": "code",
   "execution_count": 1,
   "metadata": {},
   "outputs": [],
   "source": [
    "import os\n",
    "import sys\n",
    "sys.path.insert(0, os.path.abspath('./rlcard'))"
   ]
  },
  {
   "cell_type": "code",
   "execution_count": 2,
   "metadata": {},
   "outputs": [],
   "source": [
    "import warnings\n",
    "warnings.simplefilter(action='ignore', category=FutureWarning)"
   ]
  },
  {
   "cell_type": "code",
   "execution_count": 3,
   "metadata": {},
   "outputs": [],
   "source": [
    "import torch\n",
    "import rlcard\n",
    "import numpy as np\n",
    "from DQNAgent import DQNAgent\n",
    "from rlcard.agents import RandomAgent, CFRAgent\n",
    "from rlcard.utils import set_global_seed, tournament\n",
    "from rlcard.utils import Logger"
   ]
  },
  {
   "cell_type": "code",
   "execution_count": 4,
   "metadata": {},
   "outputs": [],
   "source": [
    "set_global_seed(0)"
   ]
  },
  {
   "cell_type": "code",
   "execution_count": 5,
   "metadata": {},
   "outputs": [],
   "source": [
    "eval_env = rlcard.make('leduc-holdem', config={'seed': 0})"
   ]
  },
  {
   "cell_type": "code",
   "execution_count": 6,
   "metadata": {},
   "outputs": [],
   "source": [
    "actions = ['call', 'raise', 'fold', 'check']"
   ]
  },
  {
   "cell_type": "code",
   "execution_count": 7,
   "metadata": {},
   "outputs": [],
   "source": [
    "dqn_agent = DQNAgent(\n",
    "    eval_env.action_num,\n",
    "    eval_env.state_shape[0],\n",
    "    hidden_neurons=[64]\n",
    ")\n",
    "\n",
    "dqn_agent.load(os.path.join('models/leduc_holdem_dqn', 'model.pth'))"
   ]
  },
  {
   "cell_type": "markdown",
   "metadata": {},
   "source": [
    "Indices 0-2 represent the hero's hole card\n",
    "* 0 - Jack\n",
    "* 1 - Queen\n",
    "* 2 - King\n",
    "\n",
    "Indices 3-5 represent the public card\n",
    "* 3 - Jack\n",
    "* 4 - Queen\n",
    "* 5 - King\n",
    "\n",
    "Indices 6-20 represent the number of chips the hero has bet\n",
    "* 6 + num chips\n",
    "\n",
    "Indices 21-35 represent the number of chips the villain has bet\n",
    "* 21 + num chips"
   ]
  },
  {
   "cell_type": "code",
   "execution_count": 8,
   "metadata": {},
   "outputs": [],
   "source": [
    "def get_obs(hole_card, public_card, hero_bet, villain_bet):\n",
    "    obs = np.zeros(36)\n",
    "    card_to_index = { 'J': 0, 'Q': 1, 'K': 2 }\n",
    "    obs[card_to_index[hole_card]] = 1\n",
    "    \n",
    "    if public_card:\n",
    "        obs[card_to_index[public_card] + 3] = 1\n",
    "    \n",
    "    obs[hero_bet + 6] = 1\n",
    "    obs[villain_bet + 21] = 1\n",
    "    return obs\n",
    "\n",
    "def get_actions(moves):\n",
    "    return [actions.index(a) for a in moves]"
   ]
  },
  {
   "cell_type": "markdown",
   "metadata": {},
   "source": [
    "## First round\n",
    "\n",
    "### Jack gole card\n",
    "\n",
    "First to act or facing check"
   ]
  },
  {
   "cell_type": "code",
   "execution_count": 94,
   "metadata": {},
   "outputs": [
    {
     "data": {
      "text/plain": [
       "'check'"
      ]
     },
     "execution_count": 94,
     "metadata": {},
     "output_type": "execute_result"
    }
   ],
   "source": [
    "state = { 'obs': get_obs('J', '', 1, 1), 'legal_actions': get_actions(['raise', 'fold', 'check']) }\n",
    "index, _ = dqn_agent.eval_step(state)\n",
    "actions[index]"
   ]
  },
  {
   "cell_type": "markdown",
   "metadata": {},
   "source": [
    "Facing bet"
   ]
  },
  {
   "cell_type": "code",
   "execution_count": 95,
   "metadata": {},
   "outputs": [
    {
     "data": {
      "text/plain": [
       "'fold'"
      ]
     },
     "execution_count": 95,
     "metadata": {},
     "output_type": "execute_result"
    }
   ],
   "source": [
    "state = { 'obs': get_obs('J', '', 1, 3), 'legal_actions': get_actions(['raise', 'call', 'fold']) }\n",
    "index, _ = dqn_agent.eval_step(state)\n",
    "actions[index]"
   ]
  },
  {
   "cell_type": "markdown",
   "metadata": {},
   "source": [
    "### Queen hole card\n",
    "\n",
    "First to act or facing check"
   ]
  },
  {
   "cell_type": "code",
   "execution_count": 96,
   "metadata": {},
   "outputs": [
    {
     "data": {
      "text/plain": [
       "'check'"
      ]
     },
     "execution_count": 96,
     "metadata": {},
     "output_type": "execute_result"
    }
   ],
   "source": [
    "state = { 'obs': get_obs('Q', '', 1, 1), 'legal_actions': get_actions(['raise', 'fold', 'check']) }\n",
    "index, _ = dqn_agent.eval_step(state)\n",
    "actions[index]"
   ]
  },
  {
   "cell_type": "markdown",
   "metadata": {},
   "source": [
    "Facing bet"
   ]
  },
  {
   "cell_type": "code",
   "execution_count": 97,
   "metadata": {},
   "outputs": [
    {
     "data": {
      "text/plain": [
       "'call'"
      ]
     },
     "execution_count": 97,
     "metadata": {},
     "output_type": "execute_result"
    }
   ],
   "source": [
    "state = { 'obs': get_obs('Q', '', 1, 3), 'legal_actions': get_actions(['raise', 'call', 'fold']) }\n",
    "index, _ = dqn_agent.eval_step(state)\n",
    "actions[index]"
   ]
  },
  {
   "cell_type": "markdown",
   "metadata": {},
   "source": [
    "### King hole card\n",
    "\n",
    "First to act or facing check"
   ]
  },
  {
   "cell_type": "code",
   "execution_count": 98,
   "metadata": {},
   "outputs": [
    {
     "data": {
      "text/plain": [
       "'raise'"
      ]
     },
     "execution_count": 98,
     "metadata": {},
     "output_type": "execute_result"
    }
   ],
   "source": [
    "state = { 'obs': get_obs('K', '', 1, 1), 'legal_actions': get_actions(['raise', 'fold', 'check']) }\n",
    "index, _ = dqn_agent.eval_step(state)\n",
    "actions[index]"
   ]
  },
  {
   "cell_type": "markdown",
   "metadata": {},
   "source": [
    "Facing bet"
   ]
  },
  {
   "cell_type": "code",
   "execution_count": 99,
   "metadata": {},
   "outputs": [
    {
     "data": {
      "text/plain": [
       "'raise'"
      ]
     },
     "execution_count": 99,
     "metadata": {},
     "output_type": "execute_result"
    }
   ],
   "source": [
    "state = { 'obs': get_obs('K', '', 1, 3), 'legal_actions': get_actions(['raise', 'call', 'fold']) }\n",
    "index, _ = dqn_agent.eval_step(state)\n",
    "actions[index]"
   ]
  },
  {
   "cell_type": "markdown",
   "metadata": {},
   "source": [
    "Bet and then facing raise"
   ]
  },
  {
   "cell_type": "code",
   "execution_count": 100,
   "metadata": {},
   "outputs": [
    {
     "data": {
      "text/plain": [
       "'call'"
      ]
     },
     "execution_count": 100,
     "metadata": {},
     "output_type": "execute_result"
    }
   ],
   "source": [
    "state = { 'obs': get_obs('K', '', 3, 5), 'legal_actions': get_actions(['call', 'fold']) }\n",
    "index, _ = dqn_agent.eval_step(state)\n",
    "actions[index]"
   ]
  },
  {
   "cell_type": "markdown",
   "metadata": {},
   "source": [
    "## Second round\n",
    "\n",
    "### Jack hole card\n",
    "\n",
    "#### Jack public card\n",
    "\n",
    "- First round: check-check\n",
    "- Second round: first to act or facing check"
   ]
  },
  {
   "cell_type": "code",
   "execution_count": 101,
   "metadata": {},
   "outputs": [
    {
     "data": {
      "text/plain": [
       "'check'"
      ]
     },
     "execution_count": 101,
     "metadata": {},
     "output_type": "execute_result"
    }
   ],
   "source": [
    "state = { 'obs': get_obs('J', 'J', 1, 1), 'legal_actions': get_actions(['raise', 'check', 'fold']) }\n",
    "index, _ = dqn_agent.eval_step(state)\n",
    "actions[index]"
   ]
  },
  {
   "cell_type": "markdown",
   "metadata": {},
   "source": [
    "- First round: check-check\n",
    "- Second round: facing bet"
   ]
  },
  {
   "cell_type": "code",
   "execution_count": 102,
   "metadata": {},
   "outputs": [
    {
     "data": {
      "text/plain": [
       "'call'"
      ]
     },
     "execution_count": 102,
     "metadata": {},
     "output_type": "execute_result"
    }
   ],
   "source": [
    "state = { 'obs': get_obs('J', 'J', 1, 5), 'legal_actions': get_actions(['raise', 'call', 'fold']) }\n",
    "\n",
    "index, _ = dqn_agent.eval_step(state)\n",
    "actions[index]"
   ]
  },
  {
   "cell_type": "markdown",
   "metadata": {},
   "source": [
    "#### Queen public card\n",
    "\n",
    "- First round: check-check\n",
    "- Second round: first to act or facing check"
   ]
  },
  {
   "cell_type": "code",
   "execution_count": 103,
   "metadata": {},
   "outputs": [
    {
     "data": {
      "text/plain": [
       "'check'"
      ]
     },
     "execution_count": 103,
     "metadata": {},
     "output_type": "execute_result"
    }
   ],
   "source": [
    "state = { 'obs': get_obs('J', 'Q', 1, 1), 'legal_actions': get_actions(['raise', 'check', 'fold']) }\n",
    "index, _ = dqn_agent.eval_step(state)\n",
    "actions[index]"
   ]
  },
  {
   "cell_type": "markdown",
   "metadata": {},
   "source": [
    "- First round: check-check\n",
    "- Second round: facing bet"
   ]
  },
  {
   "cell_type": "code",
   "execution_count": 105,
   "metadata": {},
   "outputs": [
    {
     "data": {
      "text/plain": [
       "'fold'"
      ]
     },
     "execution_count": 105,
     "metadata": {},
     "output_type": "execute_result"
    }
   ],
   "source": [
    "state = { 'obs': get_obs('J', 'Q', 1, 5), 'legal_actions': get_actions(['raise', 'call', 'fold']) }\n",
    "index, _ = dqn_agent.eval_step(state)\n",
    "actions[index]"
   ]
  },
  {
   "cell_type": "markdown",
   "metadata": {},
   "source": [
    "#### King public card\n",
    "\n",
    "- First round: check-check\n",
    "- Second round: first to act or facing check"
   ]
  },
  {
   "cell_type": "code",
   "execution_count": 106,
   "metadata": {},
   "outputs": [
    {
     "data": {
      "text/plain": [
       "'fold'"
      ]
     },
     "execution_count": 106,
     "metadata": {},
     "output_type": "execute_result"
    }
   ],
   "source": [
    "state = { 'obs': get_obs('J', 'K', 1, 1), 'legal_actions': get_actions(['raise', 'check', 'fold'])}\n",
    "index, _ = dqn_agent.eval_step(state)\n",
    "actions[index]"
   ]
  },
  {
   "cell_type": "markdown",
   "metadata": {},
   "source": [
    "- First round: check-check\n",
    "- Second round: facing bet"
   ]
  },
  {
   "cell_type": "code",
   "execution_count": 107,
   "metadata": {},
   "outputs": [
    {
     "data": {
      "text/plain": [
       "'fold'"
      ]
     },
     "execution_count": 107,
     "metadata": {},
     "output_type": "execute_result"
    }
   ],
   "source": [
    "state = { 'obs': get_obs('J', 'K', 1, 5), 'legal_actions': get_actions(['raise', 'call', 'fold']) }\n",
    "index, _ = dqn_agent.eval_step(state)\n",
    "actions[index]"
   ]
  },
  {
   "cell_type": "markdown",
   "metadata": {},
   "source": [
    "### Queen hole card\n",
    "\n",
    "#### Jack public card\n",
    "\n",
    "- First round: check-check\n",
    "- Second round: first to act or facing check"
   ]
  },
  {
   "cell_type": "code",
   "execution_count": 109,
   "metadata": {},
   "outputs": [
    {
     "data": {
      "text/plain": [
       "'check'"
      ]
     },
     "execution_count": 109,
     "metadata": {},
     "output_type": "execute_result"
    }
   ],
   "source": [
    "state = { 'obs': get_obs('Q', 'J', 1, 1), 'legal_actions': get_actions(['raise', 'check', 'fold']) }\n",
    "index, _ = dqn_agent.eval_step(state)\n",
    "actions[index]"
   ]
  },
  {
   "cell_type": "markdown",
   "metadata": {},
   "source": [
    "- First round: check-check\n",
    "- Second round: facing bet"
   ]
  },
  {
   "cell_type": "code",
   "execution_count": 110,
   "metadata": {},
   "outputs": [
    {
     "data": {
      "text/plain": [
       "'fold'"
      ]
     },
     "execution_count": 110,
     "metadata": {},
     "output_type": "execute_result"
    }
   ],
   "source": [
    "state = { 'obs': get_obs('Q', 'J', 1, 5), 'legal_actions': get_actions(['raise', 'call', 'fold']) }\n",
    "index, _ = dqn_agent.eval_step(state)\n",
    "actions[index]"
   ]
  },
  {
   "cell_type": "markdown",
   "metadata": {},
   "source": [
    "- First round: called bet\n",
    "- Second round: first to act or facing check"
   ]
  },
  {
   "cell_type": "code",
   "execution_count": 111,
   "metadata": {},
   "outputs": [
    {
     "data": {
      "text/plain": [
       "'check'"
      ]
     },
     "execution_count": 111,
     "metadata": {},
     "output_type": "execute_result"
    }
   ],
   "source": [
    "state = { 'obs': get_obs('Q', 'J', 3, 3), 'legal_actions': get_actions(['raise', 'check', 'fold']) }\n",
    "index, _ = dqn_agent.eval_step(state)\n",
    "actions[index]"
   ]
  },
  {
   "cell_type": "markdown",
   "metadata": {},
   "source": [
    "- First round: called bet\n",
    "- Second round: facing bet"
   ]
  },
  {
   "cell_type": "code",
   "execution_count": 93,
   "metadata": {},
   "outputs": [
    {
     "data": {
      "text/plain": [
       "'fold'"
      ]
     },
     "execution_count": 93,
     "metadata": {},
     "output_type": "execute_result"
    }
   ],
   "source": [
    "state = { 'obs': get_obs('Q', 'J', 3, 5), 'legal_actions': get_actions(['raise', 'call', 'fold']) }\n",
    "index, _ = dqn_agent.eval_step(state)\n",
    "actions[index]"
   ]
  },
  {
   "cell_type": "markdown",
   "metadata": {},
   "source": [
    "#### Queen public card\n",
    "\n",
    "- First round: check-check\n",
    "- Second round: first to act or facing check"
   ]
  },
  {
   "cell_type": "code",
   "execution_count": 92,
   "metadata": {},
   "outputs": [
    {
     "data": {
      "text/plain": [
       "'check'"
      ]
     },
     "execution_count": 92,
     "metadata": {},
     "output_type": "execute_result"
    }
   ],
   "source": [
    "state = { 'obs': get_obs('Q', 'Q', 1, 1), 'legal_actions': get_actions(['raise', 'check', 'fold']) }\n",
    "index, _ = dqn_agent.eval_step(state)\n",
    "actions[index]"
   ]
  },
  {
   "cell_type": "markdown",
   "metadata": {},
   "source": [
    "- First round: check-check\n",
    "- Second round: facing bet"
   ]
  },
  {
   "cell_type": "code",
   "execution_count": 91,
   "metadata": {},
   "outputs": [
    {
     "data": {
      "text/plain": [
       "'call'"
      ]
     },
     "execution_count": 91,
     "metadata": {},
     "output_type": "execute_result"
    }
   ],
   "source": [
    "state = { 'obs': get_obs('Q', 'Q', 1, 5), 'legal_actions': get_actions(['raise', 'call', 'fold']) }\n",
    "index, _ = dqn_agent.eval_step(state)\n",
    "actions[index]"
   ]
  },
  {
   "cell_type": "markdown",
   "metadata": {},
   "source": [
    "- First round: called bet\n",
    "- Second round: first to act or facing check"
   ]
  },
  {
   "cell_type": "code",
   "execution_count": 90,
   "metadata": {},
   "outputs": [
    {
     "data": {
      "text/plain": [
       "'raise'"
      ]
     },
     "execution_count": 90,
     "metadata": {},
     "output_type": "execute_result"
    }
   ],
   "source": [
    "state = { 'obs': get_obs('Q', 'Q', 3, 3), 'legal_actions': get_actions(['raise', 'check', 'fold']) }\n",
    "index, _ = dqn_agent.eval_step(state)\n",
    "actions[index]"
   ]
  },
  {
   "cell_type": "markdown",
   "metadata": {},
   "source": [
    "- First round: called bet\n",
    "- Second round: facing bet"
   ]
  },
  {
   "cell_type": "code",
   "execution_count": 89,
   "metadata": {},
   "outputs": [
    {
     "data": {
      "text/plain": [
       "'call'"
      ]
     },
     "execution_count": 89,
     "metadata": {},
     "output_type": "execute_result"
    }
   ],
   "source": [
    "state = { 'obs': get_obs('Q', 'Q', 3, 7), 'legal_actions': get_actions(['raise', 'call', 'fold']) }\n",
    "index, _ = dqn_agent.eval_step(state)\n",
    "actions[index]"
   ]
  },
  {
   "cell_type": "markdown",
   "metadata": {},
   "source": [
    "#### King public card\n",
    "\n",
    "- First round: check-check\n",
    "- Second round: first to act or facing check"
   ]
  },
  {
   "cell_type": "code",
   "execution_count": 88,
   "metadata": {},
   "outputs": [
    {
     "data": {
      "text/plain": [
       "'check'"
      ]
     },
     "execution_count": 88,
     "metadata": {},
     "output_type": "execute_result"
    }
   ],
   "source": [
    "state = { 'obs': get_obs('Q', 'K', 1, 1), 'legal_actions': get_actions(['raise', 'check', 'fold']) }\n",
    "index, _ = dqn_agent.eval_step(state)\n",
    "actions[index]"
   ]
  },
  {
   "cell_type": "markdown",
   "metadata": {},
   "source": [
    "- First round: check-check\n",
    "- Second round: facing bet"
   ]
  },
  {
   "cell_type": "code",
   "execution_count": 87,
   "metadata": {},
   "outputs": [
    {
     "data": {
      "text/plain": [
       "'fold'"
      ]
     },
     "execution_count": 87,
     "metadata": {},
     "output_type": "execute_result"
    }
   ],
   "source": [
    "state = { 'obs': get_obs('Q', 'K', 1, 5), 'legal_actions': get_actions(['raise', 'call', 'fold']) }\n",
    "index, _ = dqn_agent.eval_step(state)\n",
    "actions[index]"
   ]
  },
  {
   "cell_type": "markdown",
   "metadata": {},
   "source": [
    "- First round: called bet\n",
    "- Second round: first to act or facing check"
   ]
  },
  {
   "cell_type": "code",
   "execution_count": 86,
   "metadata": {},
   "outputs": [
    {
     "data": {
      "text/plain": [
       "'check'"
      ]
     },
     "execution_count": 86,
     "metadata": {},
     "output_type": "execute_result"
    }
   ],
   "source": [
    "state = { 'obs': get_obs('Q', 'K', 3, 3), 'legal_actions': get_actions(['raise', 'check', 'fold']) }\n",
    "index, _ = dqn_agent.eval_step(state)\n",
    "actions[index]"
   ]
  },
  {
   "cell_type": "markdown",
   "metadata": {},
   "source": [
    "- First round: called bet\n",
    "- Second round: facing bet"
   ]
  },
  {
   "cell_type": "code",
   "execution_count": 85,
   "metadata": {},
   "outputs": [
    {
     "data": {
      "text/plain": [
       "'fold'"
      ]
     },
     "execution_count": 85,
     "metadata": {},
     "output_type": "execute_result"
    }
   ],
   "source": [
    "state = { 'obs': get_obs('Q', 'K', 3, 7), 'legal_actions': get_actions(['raise', 'call', 'fold']) }\n",
    "index, _ = dqn_agent.eval_step(state)\n",
    "actions[index]"
   ]
  },
  {
   "cell_type": "markdown",
   "metadata": {},
   "source": [
    "### King hole card\n",
    "\n",
    "#### Jack public card\n",
    "\n",
    "- First round: called bet\n",
    "- Second round: first to act or facing check"
   ]
  },
  {
   "cell_type": "code",
   "execution_count": 83,
   "metadata": {},
   "outputs": [
    {
     "data": {
      "text/plain": [
       "'check'"
      ]
     },
     "execution_count": 83,
     "metadata": {},
     "output_type": "execute_result"
    }
   ],
   "source": [
    "state = { 'obs': get_obs('K', 'J', 3, 3), 'legal_actions': get_actions(['raise', 'check', 'fold']) }\n",
    "index, _ = dqn_agent.eval_step(state)\n",
    "actions[index]"
   ]
  },
  {
   "cell_type": "markdown",
   "metadata": {},
   "source": [
    "- First round: called bet\n",
    "- Second round: facing bet"
   ]
  },
  {
   "cell_type": "code",
   "execution_count": 82,
   "metadata": {},
   "outputs": [
    {
     "data": {
      "text/plain": [
       "'fold'"
      ]
     },
     "execution_count": 82,
     "metadata": {},
     "output_type": "execute_result"
    }
   ],
   "source": [
    "state = { 'obs': get_obs('K', 'J', 3, 7), 'legal_actions': get_actions(['raise', 'call', 'fold']) }\n",
    "index, _ = dqn_agent.eval_step(state)\n",
    "actions[index]"
   ]
  },
  {
   "cell_type": "markdown",
   "metadata": {},
   "source": [
    "- First round: called raise\n",
    "- Second round: first to act or facing check"
   ]
  },
  {
   "cell_type": "code",
   "execution_count": 81,
   "metadata": {},
   "outputs": [
    {
     "data": {
      "text/plain": [
       "'check'"
      ]
     },
     "execution_count": 81,
     "metadata": {},
     "output_type": "execute_result"
    }
   ],
   "source": [
    "state = { 'obs': get_obs('K', 'J', 5, 5), 'legal_actions': get_actions(['raise', 'check', 'fold']) }\n",
    "index, _ = dqn_agent.eval_step(state)\n",
    "actions[index]"
   ]
  },
  {
   "cell_type": "markdown",
   "metadata": {},
   "source": [
    "- First round: called raise\n",
    "- Second round: facing bet"
   ]
  },
  {
   "cell_type": "code",
   "execution_count": 80,
   "metadata": {},
   "outputs": [
    {
     "data": {
      "text/plain": [
       "'call'"
      ]
     },
     "execution_count": 80,
     "metadata": {},
     "output_type": "execute_result"
    }
   ],
   "source": [
    "state = { 'obs': get_obs('K', 'J', 5, 9), 'legal_actions': get_actions(['raise', 'call', 'fold']) }\n",
    "index, _ = dqn_agent.eval_step(state)\n",
    "actions[index]"
   ]
  },
  {
   "cell_type": "markdown",
   "metadata": {},
   "source": [
    "#### Queen public card\n",
    "\n",
    "- First round: called bet\n",
    "- Second round: first to act or facing check"
   ]
  },
  {
   "cell_type": "code",
   "execution_count": 79,
   "metadata": {},
   "outputs": [
    {
     "data": {
      "text/plain": [
       "'check'"
      ]
     },
     "execution_count": 79,
     "metadata": {},
     "output_type": "execute_result"
    }
   ],
   "source": [
    "state = { 'obs': get_obs('K', 'Q', 3, 3), 'legal_actions': get_actions(['raise', 'check', 'fold']) }\n",
    "index, _ = dqn_agent.eval_step(state)\n",
    "actions[index]"
   ]
  },
  {
   "cell_type": "markdown",
   "metadata": {},
   "source": [
    "- First round: called bet\n",
    "- Second round: facing bet"
   ]
  },
  {
   "cell_type": "code",
   "execution_count": 75,
   "metadata": {},
   "outputs": [
    {
     "data": {
      "text/plain": [
       "'call'"
      ]
     },
     "execution_count": 75,
     "metadata": {},
     "output_type": "execute_result"
    }
   ],
   "source": [
    "state = { 'obs': get_obs('K', 'Q', 3, 7), 'legal_actions': get_actions(['raise', 'call', 'fold']) }\n",
    "index, _ = dqn_agent.eval_step(state)\n",
    "actions[index]"
   ]
  },
  {
   "cell_type": "markdown",
   "metadata": {},
   "source": [
    "- First round: called raise\n",
    "- Second round: first to act or facing check"
   ]
  },
  {
   "cell_type": "code",
   "execution_count": 76,
   "metadata": {},
   "outputs": [
    {
     "data": {
      "text/plain": [
       "'check'"
      ]
     },
     "execution_count": 76,
     "metadata": {},
     "output_type": "execute_result"
    }
   ],
   "source": [
    "state = { 'obs': get_obs('K', 'Q', 5, 5), 'legal_actions': get_actions(['raise', 'check', 'fold']) }\n",
    "index, _ = dqn_agent.eval_step(state)\n",
    "actions[index]"
   ]
  },
  {
   "cell_type": "markdown",
   "metadata": {},
   "source": [
    "- First round: called raise\n",
    "- Second round: facing bet"
   ]
  },
  {
   "cell_type": "code",
   "execution_count": 77,
   "metadata": {},
   "outputs": [
    {
     "data": {
      "text/plain": [
       "'call'"
      ]
     },
     "execution_count": 77,
     "metadata": {},
     "output_type": "execute_result"
    }
   ],
   "source": [
    "state = { 'obs': get_obs('K', 'Q', 5, 9), 'legal_actions': get_actions(['raise', 'call', 'fold']) }\n",
    "index, _ = dqn_agent.eval_step(state)\n",
    "actions[index]"
   ]
  },
  {
   "cell_type": "markdown",
   "metadata": {},
   "source": [
    "#### King public card\n",
    "\n",
    "- First round: called bet\n",
    "- Second round: first to act or facing check"
   ]
  },
  {
   "cell_type": "code",
   "execution_count": 70,
   "metadata": {},
   "outputs": [
    {
     "data": {
      "text/plain": [
       "'raise'"
      ]
     },
     "execution_count": 70,
     "metadata": {},
     "output_type": "execute_result"
    }
   ],
   "source": [
    "state = { 'obs': get_obs('K', 'K', 3, 3), 'legal_actions': get_actions(['raise', 'check', 'fold']) }\n",
    "index, _ = dqn_agent.eval_step(state)\n",
    "actions[index]"
   ]
  },
  {
   "cell_type": "markdown",
   "metadata": {},
   "source": [
    "- First round: called bet\n",
    "- Second round: facing bet"
   ]
  },
  {
   "cell_type": "code",
   "execution_count": 78,
   "metadata": {},
   "outputs": [
    {
     "data": {
      "text/plain": [
       "'raise'"
      ]
     },
     "execution_count": 78,
     "metadata": {},
     "output_type": "execute_result"
    }
   ],
   "source": [
    "state = { 'obs': get_obs('K', 'K', 3, 7), 'legal_actions': get_actions(['raise', 'call', 'fold']) }\n",
    "index, _ = dqn_agent.eval_step(state)\n",
    "actions[index]"
   ]
  },
  {
   "cell_type": "markdown",
   "metadata": {},
   "source": [
    "- First round: called raise\n",
    "- Second round: first to act or facing check"
   ]
  },
  {
   "cell_type": "code",
   "execution_count": 68,
   "metadata": {},
   "outputs": [
    {
     "data": {
      "text/plain": [
       "'raise'"
      ]
     },
     "execution_count": 68,
     "metadata": {},
     "output_type": "execute_result"
    }
   ],
   "source": [
    "state = { 'obs': get_obs('K', 'K', 5, 5), 'legal_actions': get_actions(['raise', 'check', 'fold']) }\n",
    "index, _ = dqn_agent.eval_step(state)\n",
    "actions[index]"
   ]
  },
  {
   "cell_type": "markdown",
   "metadata": {},
   "source": [
    "- First round: called raise\n",
    "- Second round: facing bet"
   ]
  },
  {
   "cell_type": "code",
   "execution_count": 66,
   "metadata": {},
   "outputs": [
    {
     "data": {
      "text/plain": [
       "'call'"
      ]
     },
     "execution_count": 66,
     "metadata": {},
     "output_type": "execute_result"
    }
   ],
   "source": [
    "state = { 'obs': get_obs('K', 'K', 5, 9), 'legal_actions': get_actions(['raise', 'call', 'fold']) }\n",
    "index, _ = dqn_agent.eval_step(state)\n",
    "actions[index]"
   ]
  },
  {
   "cell_type": "code",
   "execution_count": null,
   "metadata": {},
   "outputs": [],
   "source": []
  }
 ],
 "metadata": {
  "kernelspec": {
   "display_name": "dl",
   "language": "python",
   "name": "dl"
  },
  "language_info": {
   "codemirror_mode": {
    "name": "ipython",
    "version": 3
   },
   "file_extension": ".py",
   "mimetype": "text/x-python",
   "name": "python",
   "nbconvert_exporter": "python",
   "pygments_lexer": "ipython3",
   "version": "3.6.9"
  }
 },
 "nbformat": 4,
 "nbformat_minor": 4
}
