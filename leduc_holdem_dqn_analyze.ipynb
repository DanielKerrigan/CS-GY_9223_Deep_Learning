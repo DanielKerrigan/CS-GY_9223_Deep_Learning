{
 "cells": [
  {
   "cell_type": "markdown",
   "metadata": {},
   "source": [
    "Adapted from `rlcard/examples/leduc_holdem_dqn_pytorch.py`"
   ]
  },
  {
   "cell_type": "code",
   "execution_count": 1,
   "metadata": {},
   "outputs": [],
   "source": [
    "import os\n",
    "import sys\n",
    "sys.path.insert(0, os.path.abspath('./rlcard'))"
   ]
  },
  {
   "cell_type": "code",
   "execution_count": 2,
   "metadata": {},
   "outputs": [],
   "source": [
    "import warnings\n",
    "warnings.simplefilter(action='ignore', category=FutureWarning)"
   ]
  },
  {
   "cell_type": "code",
   "execution_count": 3,
   "metadata": {},
   "outputs": [],
   "source": [
    "import torch\n",
    "import rlcard\n",
    "import numpy as np\n",
    "from DQNAgent import DQNAgent\n",
    "from rlcard.agents import RandomAgent, CFRAgent\n",
    "from rlcard.utils import set_global_seed, tournament\n",
    "from rlcard.utils import Logger"
   ]
  },
  {
   "cell_type": "code",
   "execution_count": 4,
   "metadata": {},
   "outputs": [],
   "source": [
    "set_global_seed(0)"
   ]
  },
  {
   "cell_type": "code",
   "execution_count": 5,
   "metadata": {},
   "outputs": [],
   "source": [
    "eval_env = rlcard.make('leduc-holdem', config={'seed': 0})"
   ]
  },
  {
   "cell_type": "code",
   "execution_count": 6,
   "metadata": {},
   "outputs": [],
   "source": [
    "actions = eval_env.actions"
   ]
  },
  {
   "cell_type": "code",
   "execution_count": 7,
   "metadata": {},
   "outputs": [],
   "source": [
    "dqn_agent = DQNAgent(\n",
    "    eval_env.action_num,\n",
    "    eval_env.state_shape[0],\n",
    "    memory=2_000_000,\n",
    "    lr=0.1,\n",
    "    batch_size=128,\n",
    "    update_every=128,\n",
    "    eps_start=0.12,\n",
    "    target_update=300,\n",
    "    hidden_neurons=[64]\n",
    ")\n",
    "\n",
    "dqn_agent.load('models/leduc_holdem_dqn_million/step-1921384.pt')"
   ]
  },
  {
   "cell_type": "markdown",
   "metadata": {},
   "source": [
    "Indices 0-2 represent the hero's hole card\n",
    "* 0 - Jack\n",
    "* 1 - Queen\n",
    "* 2 - King\n",
    "\n",
    "Indices 3-5 represent the public card\n",
    "* 3 - Jack\n",
    "* 4 - Queen\n",
    "* 5 - King\n",
    "\n",
    "Indices 6-20 represent the number of chips the hero has bet\n",
    "* 6 + num chips\n",
    "\n",
    "Indices 21-35 represent the number of chips the villain has bet\n",
    "* 21 + num chips"
   ]
  },
  {
   "cell_type": "code",
   "execution_count": 8,
   "metadata": {},
   "outputs": [],
   "source": [
    "def get_obs(hole_card, public_card, hero_bet, villain_bet):\n",
    "    obs = np.zeros(36)\n",
    "    card_to_index = { 'J': 0, 'Q': 1, 'K': 2 }\n",
    "    obs[card_to_index[hole_card]] = 1\n",
    "    \n",
    "    if public_card:\n",
    "        obs[card_to_index[public_card] + 3] = 1\n",
    "    \n",
    "    obs[hero_bet + 6] = 1\n",
    "    obs[villain_bet + 21] = 1\n",
    "    return obs\n",
    "\n",
    "def get_actions(moves):\n",
    "    return [actions.index(a) for a in moves]"
   ]
  },
  {
   "cell_type": "markdown",
   "metadata": {},
   "source": [
    "## First round\n",
    "\n",
    "### Jack hole card\n",
    "\n",
    "First to act or facing check"
   ]
  },
  {
   "cell_type": "code",
   "execution_count": 9,
   "metadata": {},
   "outputs": [
    {
     "data": {
      "text/plain": [
       "'check'"
      ]
     },
     "execution_count": 9,
     "metadata": {},
     "output_type": "execute_result"
    }
   ],
   "source": [
    "state = { 'obs': get_obs('J', '', 1, 1), 'legal_actions': get_actions(['raise', 'fold', 'check']) }\n",
    "index, _ = dqn_agent.eval_step(state)\n",
    "actions[index]"
   ]
  },
  {
   "cell_type": "markdown",
   "metadata": {},
   "source": [
    "Facing bet"
   ]
  },
  {
   "cell_type": "code",
   "execution_count": 10,
   "metadata": {},
   "outputs": [
    {
     "data": {
      "text/plain": [
       "'call'"
      ]
     },
     "execution_count": 10,
     "metadata": {},
     "output_type": "execute_result"
    }
   ],
   "source": [
    "state = { 'obs': get_obs('J', '', 1, 3), 'legal_actions': get_actions(['raise', 'call', 'fold']) }\n",
    "index, _ = dqn_agent.eval_step(state)\n",
    "actions[index]"
   ]
  },
  {
   "cell_type": "markdown",
   "metadata": {},
   "source": [
    "### Queen hole card\n",
    "\n",
    "First to act or facing check"
   ]
  },
  {
   "cell_type": "code",
   "execution_count": 11,
   "metadata": {},
   "outputs": [
    {
     "data": {
      "text/plain": [
       "'check'"
      ]
     },
     "execution_count": 11,
     "metadata": {},
     "output_type": "execute_result"
    }
   ],
   "source": [
    "state = { 'obs': get_obs('Q', '', 1, 1), 'legal_actions': get_actions(['raise', 'fold', 'check']) }\n",
    "index, _ = dqn_agent.eval_step(state)\n",
    "actions[index]"
   ]
  },
  {
   "cell_type": "markdown",
   "metadata": {},
   "source": [
    "Facing bet"
   ]
  },
  {
   "cell_type": "code",
   "execution_count": 12,
   "metadata": {},
   "outputs": [
    {
     "data": {
      "text/plain": [
       "'call'"
      ]
     },
     "execution_count": 12,
     "metadata": {},
     "output_type": "execute_result"
    }
   ],
   "source": [
    "state = { 'obs': get_obs('Q', '', 1, 3), 'legal_actions': get_actions(['raise', 'call', 'fold']) }\n",
    "index, _ = dqn_agent.eval_step(state)\n",
    "actions[index]"
   ]
  },
  {
   "cell_type": "markdown",
   "metadata": {},
   "source": [
    "### King hole card\n",
    "\n",
    "First to act or facing check"
   ]
  },
  {
   "cell_type": "code",
   "execution_count": 13,
   "metadata": {},
   "outputs": [
    {
     "data": {
      "text/plain": [
       "'raise'"
      ]
     },
     "execution_count": 13,
     "metadata": {},
     "output_type": "execute_result"
    }
   ],
   "source": [
    "state = { 'obs': get_obs('K', '', 1, 1), 'legal_actions': get_actions(['raise', 'fold', 'check']) }\n",
    "index, _ = dqn_agent.eval_step(state)\n",
    "actions[index]"
   ]
  },
  {
   "cell_type": "markdown",
   "metadata": {},
   "source": [
    "Facing bet"
   ]
  },
  {
   "cell_type": "code",
   "execution_count": 14,
   "metadata": {},
   "outputs": [
    {
     "data": {
      "text/plain": [
       "'raise'"
      ]
     },
     "execution_count": 14,
     "metadata": {},
     "output_type": "execute_result"
    }
   ],
   "source": [
    "state = { 'obs': get_obs('K', '', 1, 3), 'legal_actions': get_actions(['raise', 'call', 'fold']) }\n",
    "index, _ = dqn_agent.eval_step(state)\n",
    "actions[index]"
   ]
  },
  {
   "cell_type": "markdown",
   "metadata": {},
   "source": [
    "Bet and then facing raise"
   ]
  },
  {
   "cell_type": "code",
   "execution_count": 15,
   "metadata": {},
   "outputs": [
    {
     "data": {
      "text/plain": [
       "'call'"
      ]
     },
     "execution_count": 15,
     "metadata": {},
     "output_type": "execute_result"
    }
   ],
   "source": [
    "state = { 'obs': get_obs('K', '', 3, 5), 'legal_actions': get_actions(['call', 'fold']) }\n",
    "index, _ = dqn_agent.eval_step(state)\n",
    "actions[index]"
   ]
  },
  {
   "cell_type": "markdown",
   "metadata": {},
   "source": [
    "## Second round\n",
    "\n",
    "### Jack hole card\n",
    "\n",
    "#### Jack public card\n",
    "\n",
    "- First round: check-check\n",
    "- Second round: first to act or facing check"
   ]
  },
  {
   "cell_type": "code",
   "execution_count": 16,
   "metadata": {},
   "outputs": [
    {
     "data": {
      "text/plain": [
       "'raise'"
      ]
     },
     "execution_count": 16,
     "metadata": {},
     "output_type": "execute_result"
    }
   ],
   "source": [
    "state = { 'obs': get_obs('J', 'J', 1, 1), 'legal_actions': get_actions(['raise', 'check', 'fold']) }\n",
    "index, _ = dqn_agent.eval_step(state)\n",
    "actions[index]"
   ]
  },
  {
   "cell_type": "markdown",
   "metadata": {},
   "source": [
    "- First round: check-check\n",
    "- Second round: facing bet"
   ]
  },
  {
   "cell_type": "code",
   "execution_count": 17,
   "metadata": {
    "scrolled": true
   },
   "outputs": [
    {
     "data": {
      "text/plain": [
       "'call'"
      ]
     },
     "execution_count": 17,
     "metadata": {},
     "output_type": "execute_result"
    }
   ],
   "source": [
    "state = { 'obs': get_obs('J', 'J', 1, 5), 'legal_actions': get_actions(['raise', 'call', 'fold']) }\n",
    "\n",
    "index, _ = dqn_agent.eval_step(state)\n",
    "actions[index]"
   ]
  },
  {
   "cell_type": "markdown",
   "metadata": {},
   "source": [
    "- First round: check-check\n",
    "- Second round: re-raised"
   ]
  },
  {
   "cell_type": "code",
   "execution_count": 18,
   "metadata": {
    "scrolled": true
   },
   "outputs": [
    {
     "data": {
      "text/plain": [
       "'call'"
      ]
     },
     "execution_count": 18,
     "metadata": {},
     "output_type": "execute_result"
    }
   ],
   "source": [
    "state = { 'obs': get_obs('J', 'J', 5, 9), 'legal_actions': get_actions(['call', 'fold']) }\n",
    "\n",
    "index, _ = dqn_agent.eval_step(state)\n",
    "actions[index]"
   ]
  },
  {
   "cell_type": "markdown",
   "metadata": {},
   "source": [
    "- First round: called bet\n",
    "- Second round: first to act or facing check"
   ]
  },
  {
   "cell_type": "code",
   "execution_count": 19,
   "metadata": {},
   "outputs": [
    {
     "data": {
      "text/plain": [
       "'raise'"
      ]
     },
     "execution_count": 19,
     "metadata": {},
     "output_type": "execute_result"
    }
   ],
   "source": [
    "state = { 'obs': get_obs('J', 'J', 3, 3), 'legal_actions': get_actions(['raise', 'check', 'fold']) }\n",
    "index, _ = dqn_agent.eval_step(state)\n",
    "actions[index]"
   ]
  },
  {
   "cell_type": "markdown",
   "metadata": {},
   "source": [
    "- First round: called bet\n",
    "- Second round: facing bet"
   ]
  },
  {
   "cell_type": "code",
   "execution_count": 20,
   "metadata": {},
   "outputs": [
    {
     "data": {
      "text/plain": [
       "'raise'"
      ]
     },
     "execution_count": 20,
     "metadata": {},
     "output_type": "execute_result"
    }
   ],
   "source": [
    "state = { 'obs': get_obs('J', 'J', 3, 7), 'legal_actions': get_actions(['raise', 'call', 'fold']) }\n",
    "\n",
    "index, _ = dqn_agent.eval_step(state)\n",
    "actions[index]"
   ]
  },
  {
   "cell_type": "markdown",
   "metadata": {},
   "source": [
    "- First round: called bet\n",
    "- Second round: re-raised"
   ]
  },
  {
   "cell_type": "code",
   "execution_count": 21,
   "metadata": {},
   "outputs": [
    {
     "data": {
      "text/plain": [
       "'call'"
      ]
     },
     "execution_count": 21,
     "metadata": {},
     "output_type": "execute_result"
    }
   ],
   "source": [
    "state = { 'obs': get_obs('J', 'J', 7, 11), 'legal_actions': get_actions(['call', 'fold']) }\n",
    "\n",
    "index, _ = dqn_agent.eval_step(state)\n",
    "actions[index]"
   ]
  },
  {
   "cell_type": "markdown",
   "metadata": {},
   "source": [
    "#### Queen public card\n",
    "\n",
    "- First round: check-check\n",
    "- Second round: first to act or facing check"
   ]
  },
  {
   "cell_type": "code",
   "execution_count": 22,
   "metadata": {},
   "outputs": [
    {
     "data": {
      "text/plain": [
       "'check'"
      ]
     },
     "execution_count": 22,
     "metadata": {},
     "output_type": "execute_result"
    }
   ],
   "source": [
    "state = { 'obs': get_obs('J', 'Q', 1, 1), 'legal_actions': get_actions(['raise', 'check', 'fold']) }\n",
    "index, _ = dqn_agent.eval_step(state)\n",
    "actions[index]"
   ]
  },
  {
   "cell_type": "markdown",
   "metadata": {},
   "source": [
    "- First round: check-check\n",
    "- Second round: facing bet"
   ]
  },
  {
   "cell_type": "code",
   "execution_count": 23,
   "metadata": {
    "scrolled": false
   },
   "outputs": [
    {
     "data": {
      "text/plain": [
       "'fold'"
      ]
     },
     "execution_count": 23,
     "metadata": {},
     "output_type": "execute_result"
    }
   ],
   "source": [
    "state = { 'obs': get_obs('J', 'Q', 1, 5), 'legal_actions': get_actions(['raise', 'call', 'fold']) }\n",
    "index, _ = dqn_agent.eval_step(state)\n",
    "actions[index]"
   ]
  },
  {
   "cell_type": "markdown",
   "metadata": {},
   "source": [
    "- First round: called bet\n",
    "- Second round: first to act or facing check"
   ]
  },
  {
   "cell_type": "code",
   "execution_count": 24,
   "metadata": {},
   "outputs": [
    {
     "data": {
      "text/plain": [
       "'check'"
      ]
     },
     "execution_count": 24,
     "metadata": {},
     "output_type": "execute_result"
    }
   ],
   "source": [
    "state = { 'obs': get_obs('J', 'Q', 3, 3), 'legal_actions': get_actions(['raise', 'check', 'fold']) }\n",
    "index, _ = dqn_agent.eval_step(state)\n",
    "actions[index]"
   ]
  },
  {
   "cell_type": "markdown",
   "metadata": {},
   "source": [
    "- First round: called bet\n",
    "- Second round: facing bet"
   ]
  },
  {
   "cell_type": "code",
   "execution_count": 25,
   "metadata": {},
   "outputs": [
    {
     "data": {
      "text/plain": [
       "'fold'"
      ]
     },
     "execution_count": 25,
     "metadata": {},
     "output_type": "execute_result"
    }
   ],
   "source": [
    "state = { 'obs': get_obs('J', 'Q', 3, 7), 'legal_actions': get_actions(['raise', 'call', 'fold']) }\n",
    "\n",
    "index, _ = dqn_agent.eval_step(state)\n",
    "actions[index]"
   ]
  },
  {
   "cell_type": "markdown",
   "metadata": {},
   "source": [
    "#### King public card\n",
    "\n",
    "- First round: check-check\n",
    "- Second round: first to act or facing check"
   ]
  },
  {
   "cell_type": "code",
   "execution_count": 26,
   "metadata": {},
   "outputs": [
    {
     "data": {
      "text/plain": [
       "'check'"
      ]
     },
     "execution_count": 26,
     "metadata": {},
     "output_type": "execute_result"
    }
   ],
   "source": [
    "state = { 'obs': get_obs('J', 'K', 1, 1), 'legal_actions': get_actions(['raise', 'check', 'fold'])}\n",
    "index, _ = dqn_agent.eval_step(state)\n",
    "actions[index]"
   ]
  },
  {
   "cell_type": "markdown",
   "metadata": {},
   "source": [
    "- First round: check-check\n",
    "- Second round: facing bet"
   ]
  },
  {
   "cell_type": "code",
   "execution_count": 27,
   "metadata": {
    "scrolled": true
   },
   "outputs": [
    {
     "data": {
      "text/plain": [
       "'fold'"
      ]
     },
     "execution_count": 27,
     "metadata": {},
     "output_type": "execute_result"
    }
   ],
   "source": [
    "state = { 'obs': get_obs('J', 'K', 1, 5), 'legal_actions': get_actions(['raise', 'call', 'fold']) }\n",
    "index, _ = dqn_agent.eval_step(state)\n",
    "actions[index]"
   ]
  },
  {
   "cell_type": "markdown",
   "metadata": {},
   "source": [
    "- First round: called bet\n",
    "- Second round: first to act or facing check"
   ]
  },
  {
   "cell_type": "code",
   "execution_count": 28,
   "metadata": {},
   "outputs": [
    {
     "data": {
      "text/plain": [
       "'check'"
      ]
     },
     "execution_count": 28,
     "metadata": {},
     "output_type": "execute_result"
    }
   ],
   "source": [
    "state = { 'obs': get_obs('J', 'K', 3, 3), 'legal_actions': get_actions(['raise', 'check', 'fold']) }\n",
    "index, _ = dqn_agent.eval_step(state)\n",
    "actions[index]"
   ]
  },
  {
   "cell_type": "markdown",
   "metadata": {},
   "source": [
    "- First round: called bet\n",
    "- Second round: facing bet"
   ]
  },
  {
   "cell_type": "code",
   "execution_count": 29,
   "metadata": {},
   "outputs": [
    {
     "data": {
      "text/plain": [
       "'fold'"
      ]
     },
     "execution_count": 29,
     "metadata": {},
     "output_type": "execute_result"
    }
   ],
   "source": [
    "state = { 'obs': get_obs('J', 'K', 3, 7), 'legal_actions': get_actions(['raise', 'call', 'fold']) }\n",
    "\n",
    "index, _ = dqn_agent.eval_step(state)\n",
    "actions[index]"
   ]
  },
  {
   "cell_type": "markdown",
   "metadata": {},
   "source": [
    "### Queen hole card\n",
    "\n",
    "#### Jack public card\n",
    "\n",
    "- First round: check-check\n",
    "- Second round: first to act or facing check"
   ]
  },
  {
   "cell_type": "code",
   "execution_count": 30,
   "metadata": {},
   "outputs": [
    {
     "data": {
      "text/plain": [
       "'fold'"
      ]
     },
     "execution_count": 30,
     "metadata": {},
     "output_type": "execute_result"
    }
   ],
   "source": [
    "state = { 'obs': get_obs('Q', 'J', 1, 1), 'legal_actions': get_actions(['raise', 'check', 'fold']) }\n",
    "index, _ = dqn_agent.eval_step(state)\n",
    "actions[index]"
   ]
  },
  {
   "cell_type": "markdown",
   "metadata": {},
   "source": [
    "- First round: check-check\n",
    "- Second round: facing bet"
   ]
  },
  {
   "cell_type": "code",
   "execution_count": 31,
   "metadata": {},
   "outputs": [
    {
     "data": {
      "text/plain": [
       "'fold'"
      ]
     },
     "execution_count": 31,
     "metadata": {},
     "output_type": "execute_result"
    }
   ],
   "source": [
    "state = { 'obs': get_obs('Q', 'J', 1, 5), 'legal_actions': get_actions(['raise', 'call', 'fold']) }\n",
    "index, _ = dqn_agent.eval_step(state)\n",
    "actions[index]"
   ]
  },
  {
   "cell_type": "markdown",
   "metadata": {},
   "source": [
    "- First round: called bet\n",
    "- Second round: first to act or facing check"
   ]
  },
  {
   "cell_type": "code",
   "execution_count": 32,
   "metadata": {},
   "outputs": [
    {
     "data": {
      "text/plain": [
       "'check'"
      ]
     },
     "execution_count": 32,
     "metadata": {},
     "output_type": "execute_result"
    }
   ],
   "source": [
    "state = { 'obs': get_obs('Q', 'J', 3, 3), 'legal_actions': get_actions(['raise', 'check', 'fold']) }\n",
    "index, _ = dqn_agent.eval_step(state)\n",
    "actions[index]"
   ]
  },
  {
   "cell_type": "markdown",
   "metadata": {},
   "source": [
    "- First round: called bet\n",
    "- Second round: facing bet"
   ]
  },
  {
   "cell_type": "code",
   "execution_count": 33,
   "metadata": {},
   "outputs": [
    {
     "data": {
      "text/plain": [
       "'fold'"
      ]
     },
     "execution_count": 33,
     "metadata": {},
     "output_type": "execute_result"
    }
   ],
   "source": [
    "state = { 'obs': get_obs('Q', 'J', 3, 7), 'legal_actions': get_actions(['raise', 'call', 'fold']) }\n",
    "index, _ = dqn_agent.eval_step(state)\n",
    "actions[index]"
   ]
  },
  {
   "cell_type": "markdown",
   "metadata": {},
   "source": [
    "#### Queen public card\n",
    "\n",
    "- First round: check-check\n",
    "- Second round: first to act or facing check"
   ]
  },
  {
   "cell_type": "code",
   "execution_count": 34,
   "metadata": {},
   "outputs": [
    {
     "data": {
      "text/plain": [
       "'raise'"
      ]
     },
     "execution_count": 34,
     "metadata": {},
     "output_type": "execute_result"
    }
   ],
   "source": [
    "state = { 'obs': get_obs('Q', 'Q', 1, 1), 'legal_actions': get_actions(['raise', 'check', 'fold']) }\n",
    "index, _ = dqn_agent.eval_step(state)\n",
    "actions[index]"
   ]
  },
  {
   "cell_type": "markdown",
   "metadata": {},
   "source": [
    "- First round: check-check\n",
    "- Second round: facing bet"
   ]
  },
  {
   "cell_type": "code",
   "execution_count": 35,
   "metadata": {},
   "outputs": [
    {
     "data": {
      "text/plain": [
       "'call'"
      ]
     },
     "execution_count": 35,
     "metadata": {},
     "output_type": "execute_result"
    }
   ],
   "source": [
    "state = { 'obs': get_obs('Q', 'Q', 1, 5), 'legal_actions': get_actions(['raise', 'call', 'fold']) }\n",
    "index, _ = dqn_agent.eval_step(state)\n",
    "actions[index]"
   ]
  },
  {
   "cell_type": "markdown",
   "metadata": {},
   "source": [
    "- First round: check-check\n",
    "- Second round: re-raised"
   ]
  },
  {
   "cell_type": "code",
   "execution_count": 36,
   "metadata": {
    "scrolled": true
   },
   "outputs": [
    {
     "data": {
      "text/plain": [
       "'call'"
      ]
     },
     "execution_count": 36,
     "metadata": {},
     "output_type": "execute_result"
    }
   ],
   "source": [
    "state = { 'obs': get_obs('Q', 'Q', 5, 9), 'legal_actions': get_actions(['call', 'fold']) }\n",
    "index, _ = dqn_agent.eval_step(state)\n",
    "actions[index]"
   ]
  },
  {
   "cell_type": "markdown",
   "metadata": {},
   "source": [
    "- First round: called bet\n",
    "- Second round: first to act or facing check"
   ]
  },
  {
   "cell_type": "code",
   "execution_count": 37,
   "metadata": {},
   "outputs": [
    {
     "data": {
      "text/plain": [
       "'raise'"
      ]
     },
     "execution_count": 37,
     "metadata": {},
     "output_type": "execute_result"
    }
   ],
   "source": [
    "state = { 'obs': get_obs('Q', 'Q', 3, 3), 'legal_actions': get_actions(['raise', 'check', 'fold']) }\n",
    "index, _ = dqn_agent.eval_step(state)\n",
    "actions[index]"
   ]
  },
  {
   "cell_type": "markdown",
   "metadata": {},
   "source": [
    "- First round: called bet\n",
    "- Second round: re-raised"
   ]
  },
  {
   "cell_type": "code",
   "execution_count": 38,
   "metadata": {
    "scrolled": true
   },
   "outputs": [
    {
     "data": {
      "text/plain": [
       "'call'"
      ]
     },
     "execution_count": 38,
     "metadata": {},
     "output_type": "execute_result"
    }
   ],
   "source": [
    "state = { 'obs': get_obs('Q', 'Q', 7, 11), 'legal_actions': get_actions(['call', 'fold']) }\n",
    "index, _ = dqn_agent.eval_step(state)\n",
    "actions[index]"
   ]
  },
  {
   "cell_type": "markdown",
   "metadata": {},
   "source": [
    "- First round: called bet\n",
    "- Second round: facing bet"
   ]
  },
  {
   "cell_type": "code",
   "execution_count": 39,
   "metadata": {},
   "outputs": [
    {
     "data": {
      "text/plain": [
       "'call'"
      ]
     },
     "execution_count": 39,
     "metadata": {},
     "output_type": "execute_result"
    }
   ],
   "source": [
    "state = { 'obs': get_obs('Q', 'Q', 3, 7), 'legal_actions': get_actions(['raise', 'call', 'fold']) }\n",
    "index, _ = dqn_agent.eval_step(state)\n",
    "actions[index]"
   ]
  },
  {
   "cell_type": "markdown",
   "metadata": {},
   "source": [
    "#### King public card\n",
    "\n",
    "- First round: check-check\n",
    "- Second round: first to act or facing check"
   ]
  },
  {
   "cell_type": "code",
   "execution_count": 40,
   "metadata": {},
   "outputs": [
    {
     "data": {
      "text/plain": [
       "'check'"
      ]
     },
     "execution_count": 40,
     "metadata": {},
     "output_type": "execute_result"
    }
   ],
   "source": [
    "state = { 'obs': get_obs('Q', 'K', 1, 1), 'legal_actions': get_actions(['raise', 'check', 'fold']) }\n",
    "index, _ = dqn_agent.eval_step(state)\n",
    "actions[index]"
   ]
  },
  {
   "cell_type": "markdown",
   "metadata": {},
   "source": [
    "- First round: check-check\n",
    "- Second round: facing bet"
   ]
  },
  {
   "cell_type": "code",
   "execution_count": 41,
   "metadata": {},
   "outputs": [
    {
     "data": {
      "text/plain": [
       "'fold'"
      ]
     },
     "execution_count": 41,
     "metadata": {},
     "output_type": "execute_result"
    }
   ],
   "source": [
    "state = { 'obs': get_obs('Q', 'K', 1, 5), 'legal_actions': get_actions(['raise', 'call', 'fold']) }\n",
    "index, _ = dqn_agent.eval_step(state)\n",
    "actions[index]"
   ]
  },
  {
   "cell_type": "markdown",
   "metadata": {},
   "source": [
    "- First round: called bet\n",
    "- Second round: first to act or facing check"
   ]
  },
  {
   "cell_type": "code",
   "execution_count": 42,
   "metadata": {},
   "outputs": [
    {
     "data": {
      "text/plain": [
       "'check'"
      ]
     },
     "execution_count": 42,
     "metadata": {},
     "output_type": "execute_result"
    }
   ],
   "source": [
    "state = { 'obs': get_obs('Q', 'K', 3, 3), 'legal_actions': get_actions(['raise', 'check', 'fold']) }\n",
    "index, _ = dqn_agent.eval_step(state)\n",
    "actions[index]"
   ]
  },
  {
   "cell_type": "markdown",
   "metadata": {},
   "source": [
    "- First round: called bet\n",
    "- Second round: facing bet"
   ]
  },
  {
   "cell_type": "code",
   "execution_count": 43,
   "metadata": {},
   "outputs": [
    {
     "data": {
      "text/plain": [
       "'fold'"
      ]
     },
     "execution_count": 43,
     "metadata": {},
     "output_type": "execute_result"
    }
   ],
   "source": [
    "state = { 'obs': get_obs('Q', 'K', 3, 7), 'legal_actions': get_actions(['raise', 'call', 'fold']) }\n",
    "index, _ = dqn_agent.eval_step(state)\n",
    "actions[index]"
   ]
  },
  {
   "cell_type": "markdown",
   "metadata": {},
   "source": [
    "### King hole card\n",
    "\n",
    "#### Jack public card\n",
    "\n",
    "- First round: called bet\n",
    "- Second round: first to act or facing check"
   ]
  },
  {
   "cell_type": "code",
   "execution_count": 44,
   "metadata": {},
   "outputs": [
    {
     "data": {
      "text/plain": [
       "'check'"
      ]
     },
     "execution_count": 44,
     "metadata": {},
     "output_type": "execute_result"
    }
   ],
   "source": [
    "state = { 'obs': get_obs('K', 'J', 3, 3), 'legal_actions': get_actions(['raise', 'check', 'fold']) }\n",
    "index, _ = dqn_agent.eval_step(state)\n",
    "actions[index]"
   ]
  },
  {
   "cell_type": "markdown",
   "metadata": {},
   "source": [
    "- First round: called bet\n",
    "- Second round: facing bet"
   ]
  },
  {
   "cell_type": "code",
   "execution_count": 45,
   "metadata": {},
   "outputs": [
    {
     "data": {
      "text/plain": [
       "'fold'"
      ]
     },
     "execution_count": 45,
     "metadata": {},
     "output_type": "execute_result"
    }
   ],
   "source": [
    "state = { 'obs': get_obs('K', 'J', 3, 7), 'legal_actions': get_actions(['raise', 'call', 'fold']) }\n",
    "index, _ = dqn_agent.eval_step(state)\n",
    "actions[index]"
   ]
  },
  {
   "cell_type": "markdown",
   "metadata": {},
   "source": [
    "- First round: called raise\n",
    "- Second round: first to act or facing check"
   ]
  },
  {
   "cell_type": "code",
   "execution_count": 46,
   "metadata": {},
   "outputs": [
    {
     "data": {
      "text/plain": [
       "'check'"
      ]
     },
     "execution_count": 46,
     "metadata": {},
     "output_type": "execute_result"
    }
   ],
   "source": [
    "state = { 'obs': get_obs('K', 'J', 5, 5), 'legal_actions': get_actions(['raise', 'check', 'fold']) }\n",
    "index, _ = dqn_agent.eval_step(state)\n",
    "actions[index]"
   ]
  },
  {
   "cell_type": "markdown",
   "metadata": {},
   "source": [
    "- First round: called raise\n",
    "- Second round: facing bet"
   ]
  },
  {
   "cell_type": "code",
   "execution_count": 47,
   "metadata": {},
   "outputs": [
    {
     "data": {
      "text/plain": [
       "'fold'"
      ]
     },
     "execution_count": 47,
     "metadata": {},
     "output_type": "execute_result"
    }
   ],
   "source": [
    "state = { 'obs': get_obs('K', 'J', 5, 9), 'legal_actions': get_actions(['raise', 'call', 'fold']) }\n",
    "index, _ = dqn_agent.eval_step(state)\n",
    "actions[index]"
   ]
  },
  {
   "cell_type": "markdown",
   "metadata": {},
   "source": [
    "#### Queen public card\n",
    "\n",
    "- First round: called bet\n",
    "- Second round: first to act or facing check"
   ]
  },
  {
   "cell_type": "code",
   "execution_count": 48,
   "metadata": {},
   "outputs": [
    {
     "data": {
      "text/plain": [
       "'check'"
      ]
     },
     "execution_count": 48,
     "metadata": {},
     "output_type": "execute_result"
    }
   ],
   "source": [
    "state = { 'obs': get_obs('K', 'Q', 3, 3), 'legal_actions': get_actions(['raise', 'check', 'fold']) }\n",
    "index, _ = dqn_agent.eval_step(state)\n",
    "actions[index]"
   ]
  },
  {
   "cell_type": "markdown",
   "metadata": {},
   "source": [
    "- First round: called bet\n",
    "- Second round: facing bet"
   ]
  },
  {
   "cell_type": "code",
   "execution_count": 49,
   "metadata": {},
   "outputs": [
    {
     "data": {
      "text/plain": [
       "'call'"
      ]
     },
     "execution_count": 49,
     "metadata": {},
     "output_type": "execute_result"
    }
   ],
   "source": [
    "state = { 'obs': get_obs('K', 'Q', 3, 7), 'legal_actions': get_actions(['raise', 'call', 'fold']) }\n",
    "index, _ = dqn_agent.eval_step(state)\n",
    "actions[index]"
   ]
  },
  {
   "cell_type": "markdown",
   "metadata": {},
   "source": [
    "- First round: called raise\n",
    "- Second round: first to act or facing check"
   ]
  },
  {
   "cell_type": "code",
   "execution_count": 50,
   "metadata": {},
   "outputs": [
    {
     "data": {
      "text/plain": [
       "'check'"
      ]
     },
     "execution_count": 50,
     "metadata": {},
     "output_type": "execute_result"
    }
   ],
   "source": [
    "state = { 'obs': get_obs('K', 'Q', 5, 5), 'legal_actions': get_actions(['raise', 'check', 'fold']) }\n",
    "index, _ = dqn_agent.eval_step(state)\n",
    "actions[index]"
   ]
  },
  {
   "cell_type": "markdown",
   "metadata": {},
   "source": [
    "- First round: called raise\n",
    "- Second round: facing bet"
   ]
  },
  {
   "cell_type": "code",
   "execution_count": 51,
   "metadata": {},
   "outputs": [
    {
     "data": {
      "text/plain": [
       "'call'"
      ]
     },
     "execution_count": 51,
     "metadata": {},
     "output_type": "execute_result"
    }
   ],
   "source": [
    "state = { 'obs': get_obs('K', 'Q', 5, 9), 'legal_actions': get_actions(['raise', 'call', 'fold']) }\n",
    "index, _ = dqn_agent.eval_step(state)\n",
    "actions[index]"
   ]
  },
  {
   "cell_type": "markdown",
   "metadata": {},
   "source": [
    "#### King public card\n",
    "\n",
    "- First round: called bet\n",
    "- Second round: first to act or facing check"
   ]
  },
  {
   "cell_type": "code",
   "execution_count": 52,
   "metadata": {},
   "outputs": [
    {
     "data": {
      "text/plain": [
       "'raise'"
      ]
     },
     "execution_count": 52,
     "metadata": {},
     "output_type": "execute_result"
    }
   ],
   "source": [
    "state = { 'obs': get_obs('K', 'K', 3, 3), 'legal_actions': get_actions(['raise', 'check', 'fold']) }\n",
    "index, _ = dqn_agent.eval_step(state)\n",
    "actions[index]"
   ]
  },
  {
   "cell_type": "markdown",
   "metadata": {},
   "source": [
    "- First round: called bet\n",
    "- Second round: facing bet"
   ]
  },
  {
   "cell_type": "code",
   "execution_count": 53,
   "metadata": {},
   "outputs": [
    {
     "data": {
      "text/plain": [
       "'raise'"
      ]
     },
     "execution_count": 53,
     "metadata": {},
     "output_type": "execute_result"
    }
   ],
   "source": [
    "state = { 'obs': get_obs('K', 'K', 3, 7), 'legal_actions': get_actions(['raise', 'call', 'fold']) }\n",
    "index, _ = dqn_agent.eval_step(state)\n",
    "actions[index]"
   ]
  },
  {
   "cell_type": "markdown",
   "metadata": {},
   "source": [
    "- First round: called bet\n",
    "- Second round: facing re-raise"
   ]
  },
  {
   "cell_type": "code",
   "execution_count": 54,
   "metadata": {},
   "outputs": [
    {
     "data": {
      "text/plain": [
       "'call'"
      ]
     },
     "execution_count": 54,
     "metadata": {},
     "output_type": "execute_result"
    }
   ],
   "source": [
    "state = { 'obs': get_obs('K', 'K', 7, 11), 'legal_actions': get_actions(['call', 'fold']) }\n",
    "index, _ = dqn_agent.eval_step(state)\n",
    "actions[index]"
   ]
  },
  {
   "cell_type": "markdown",
   "metadata": {},
   "source": [
    "- First round: called raise\n",
    "- Second round: first to act or facing check"
   ]
  },
  {
   "cell_type": "code",
   "execution_count": 55,
   "metadata": {},
   "outputs": [
    {
     "data": {
      "text/plain": [
       "'raise'"
      ]
     },
     "execution_count": 55,
     "metadata": {},
     "output_type": "execute_result"
    }
   ],
   "source": [
    "state = { 'obs': get_obs('K', 'K', 5, 5), 'legal_actions': get_actions(['raise', 'check', 'fold']) }\n",
    "index, _ = dqn_agent.eval_step(state)\n",
    "actions[index]"
   ]
  },
  {
   "cell_type": "markdown",
   "metadata": {},
   "source": [
    "- First round: called raise\n",
    "- Second round: facing re-raise"
   ]
  },
  {
   "cell_type": "code",
   "execution_count": 56,
   "metadata": {},
   "outputs": [
    {
     "data": {
      "text/plain": [
       "'call'"
      ]
     },
     "execution_count": 56,
     "metadata": {},
     "output_type": "execute_result"
    }
   ],
   "source": [
    "state = { 'obs': get_obs('K', 'K', 9, 13), 'legal_actions': get_actions(['call', 'fold']) }\n",
    "index, _ = dqn_agent.eval_step(state)\n",
    "actions[index]"
   ]
  },
  {
   "cell_type": "markdown",
   "metadata": {},
   "source": [
    "- First round: called raise\n",
    "- Second round: facing bet"
   ]
  },
  {
   "cell_type": "code",
   "execution_count": 57,
   "metadata": {},
   "outputs": [
    {
     "data": {
      "text/plain": [
       "'call'"
      ]
     },
     "execution_count": 57,
     "metadata": {},
     "output_type": "execute_result"
    }
   ],
   "source": [
    "state = { 'obs': get_obs('K', 'K', 5, 9), 'legal_actions': get_actions(['raise', 'call', 'fold']) }\n",
    "index, _ = dqn_agent.eval_step(state)\n",
    "actions[index]"
   ]
  }
 ],
 "metadata": {
  "kernelspec": {
   "display_name": "dl",
   "language": "python",
   "name": "dl"
  },
  "language_info": {
   "codemirror_mode": {
    "name": "ipython",
    "version": 3
   },
   "file_extension": ".py",
   "mimetype": "text/x-python",
   "name": "python",
   "nbconvert_exporter": "python",
   "pygments_lexer": "ipython3",
   "version": "3.6.9"
  }
 },
 "nbformat": 4,
 "nbformat_minor": 4
}
