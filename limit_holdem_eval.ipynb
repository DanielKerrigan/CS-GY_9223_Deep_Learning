{
 "cells": [
  {
   "cell_type": "markdown",
   "metadata": {},
   "source": [
    "Adapted from `rlcard/examples/leduc_holdem_dqn_pytorch.py`"
   ]
  },
  {
   "cell_type": "code",
   "execution_count": 1,
   "metadata": {},
   "outputs": [],
   "source": [
    "import os\n",
    "import sys\n",
    "sys.path.insert(0, os.path.abspath('./rlcard'))"
   ]
  },
  {
   "cell_type": "code",
   "execution_count": 2,
   "metadata": {},
   "outputs": [],
   "source": [
    "import warnings\n",
    "warnings.simplefilter(action='ignore', category=FutureWarning)"
   ]
  },
  {
   "cell_type": "code",
   "execution_count": 19,
   "metadata": {},
   "outputs": [],
   "source": [
    "import torch\n",
    "import rlcard\n",
    "import json\n",
    "import numpy as np\n",
    "from DQNAgent import DQNAgent\n",
    "from rlcard.agents import RandomAgent, CFRAgent\n",
    "from rlcard.utils import set_global_seed, tournament\n",
    "from rlcard.utils import Logger"
   ]
  },
  {
   "cell_type": "code",
   "execution_count": 4,
   "metadata": {},
   "outputs": [],
   "source": [
    "set_global_seed(0)"
   ]
  },
  {
   "cell_type": "code",
   "execution_count": 5,
   "metadata": {},
   "outputs": [],
   "source": [
    "eval_env = rlcard.make('limit-holdem', config={'seed': 0})"
   ]
  },
  {
   "cell_type": "code",
   "execution_count": 6,
   "metadata": {},
   "outputs": [],
   "source": [
    "dqn_agent_2 = DQNAgent(\n",
    "    eval_env.action_num,\n",
    "    eval_env.state_shape[0],\n",
    "    hidden_neurons=[1024, 512, 1024, 512]\n",
    ")\n",
    "\n",
    "dqn_agent_2.load(os.path.join('./models/limit_holdem_dqn/02/', 'step-2631447.pt'))"
   ]
  },
  {
   "cell_type": "code",
   "execution_count": 7,
   "metadata": {},
   "outputs": [],
   "source": [
    "dqn_agent_3 = DQNAgent(\n",
    "    eval_env.action_num,\n",
    "    eval_env.state_shape[0],\n",
    "    hidden_neurons=[1024, 512, 1024, 512]\n",
    ")\n",
    "\n",
    "dqn_agent_3.load(os.path.join('./models/limit_holdem_dqn/03/', 'step-5474450.pt'))"
   ]
  },
  {
   "cell_type": "code",
   "execution_count": 13,
   "metadata": {},
   "outputs": [],
   "source": [
    "dqn_agent_4 = DQNAgent(\n",
    "    eval_env.action_num,\n",
    "    eval_env.state_shape[0],\n",
    "    hidden_neurons=[1024, 512, 1024, 512]\n",
    ")\n",
    "\n",
    "dqn_agent_3.load(os.path.join('./models/limit_holdem_dqn/03/', 'step-2500210.pt'))"
   ]
  },
  {
   "cell_type": "code",
   "execution_count": 8,
   "metadata": {},
   "outputs": [],
   "source": [
    "random_agent = RandomAgent(action_num=eval_env.action_num)"
   ]
  },
  {
   "cell_type": "code",
   "execution_count": 9,
   "metadata": {},
   "outputs": [],
   "source": [
    "def eval(agent1, agent2):\n",
    "    eval_env.set_agents([agent1, agent2])\n",
    "    return tournament(eval_env, 100000)"
   ]
  },
  {
   "cell_type": "code",
   "execution_count": 10,
   "metadata": {},
   "outputs": [
    {
     "data": {
      "text/plain": [
       "[-0.28557, 0.28557]"
      ]
     },
     "execution_count": 10,
     "metadata": {},
     "output_type": "execute_result"
    }
   ],
   "source": [
    "eval(dqn_agent_2, dqn_agent_3)"
   ]
  },
  {
   "cell_type": "code",
   "execution_count": 11,
   "metadata": {},
   "outputs": [
    {
     "data": {
      "text/plain": [
       "[0.33526, -0.33526]"
      ]
     },
     "execution_count": 11,
     "metadata": {},
     "output_type": "execute_result"
    }
   ],
   "source": [
    "eval(dqn_agent_3, dqn_agent_2)"
   ]
  },
  {
   "cell_type": "code",
   "execution_count": 12,
   "metadata": {},
   "outputs": [
    {
     "data": {
      "text/plain": [
       "[1.7403, -1.7403]"
      ]
     },
     "execution_count": 12,
     "metadata": {},
     "output_type": "execute_result"
    }
   ],
   "source": [
    "eval(dqn_agent_3, random_agent)"
   ]
  },
  {
   "cell_type": "code",
   "execution_count": 14,
   "metadata": {},
   "outputs": [
    {
     "data": {
      "text/plain": [
       "[5.76854, -5.76854]"
      ]
     },
     "execution_count": 14,
     "metadata": {},
     "output_type": "execute_result"
    }
   ],
   "source": [
    "eval(dqn_agent_2, dqn_agent_4)"
   ]
  },
  {
   "cell_type": "code",
   "execution_count": 15,
   "metadata": {},
   "outputs": [
    {
     "data": {
      "text/plain": [
       "[4.09704, -4.09704]"
      ]
     },
     "execution_count": 15,
     "metadata": {},
     "output_type": "execute_result"
    }
   ],
   "source": [
    "eval(dqn_agent_3, dqn_agent_4)"
   ]
  },
  {
   "cell_type": "code",
   "execution_count": 45,
   "metadata": {},
   "outputs": [],
   "source": [
    "dqn_agent_3.policy_net.eval()\n",
    "\n",
    "with open('rlcard/rlcard/games/limitholdem/card2index.json', 'r') as file:\n",
    "    card2index = json.load(file)\n",
    "\n",
    "ai = { a: i for i, a in enumerate(eval_env.actions)}"
   ]
  },
  {
   "cell_type": "code",
   "execution_count": 46,
   "metadata": {},
   "outputs": [
    {
     "data": {
      "text/plain": [
       "tensor([ 0.0539,  0.4436, -5.2679,  0.1856], grad_fn=<AddBackward0>)"
      ]
     },
     "execution_count": 46,
     "metadata": {},
     "output_type": "execute_result"
    }
   ],
   "source": [
    "obs = np.zeros(228)\n",
    "\n",
    "obs[card2index['S2']] = 1\n",
    "obs[card2index['C7']] = 1\n",
    "obs[208] = 1\n",
    "obs[213] = 1\n",
    "obs[218] = 1\n",
    "obs[223] = 1\n",
    "\n",
    "state = {\n",
    "    'obs': obs,\n",
    "    'legal_actions': [ai['call'], ai['raise'], ai['fold']]\n",
    "}\n",
    "\n",
    "model_input = torch.tensor(state['obs'],\n",
    "                           dtype=torch.float,\n",
    "                           device=dqn_agent_3.device)\n",
    "\n",
    "dqn_agent_3.policy_net(model_input)"
   ]
  },
  {
   "cell_type": "code",
   "execution_count": null,
   "metadata": {},
   "outputs": [],
   "source": []
  }
 ],
 "metadata": {
  "kernelspec": {
   "display_name": "dl",
   "language": "python",
   "name": "dl"
  },
  "language_info": {
   "codemirror_mode": {
    "name": "ipython",
    "version": 3
   },
   "file_extension": ".py",
   "mimetype": "text/x-python",
   "name": "python",
   "nbconvert_exporter": "python",
   "pygments_lexer": "ipython3",
   "version": "3.6.9"
  }
 },
 "nbformat": 4,
 "nbformat_minor": 4
}
