{
 "cells": [
  {
   "cell_type": "code",
   "execution_count": 20,
   "metadata": {},
   "outputs": [],
   "source": [
    "import altair as alt\n",
    "from vega_datasets import data\n",
    "import pandas as pd"
   ]
  },
  {
   "cell_type": "code",
   "execution_count": 31,
   "metadata": {},
   "outputs": [],
   "source": [
    "kuhn = pd.read_csv('experiments/kuhn_poker_dqn_result/performance.csv')"
   ]
  },
  {
   "cell_type": "code",
   "execution_count": 32,
   "metadata": {},
   "outputs": [],
   "source": [
    "kuhn['game'] = 'Kuhn Poker'"
   ]
  },
  {
   "cell_type": "code",
   "execution_count": 35,
   "metadata": {},
   "outputs": [
    {
     "data": {
      "text/html": [
       "<div>\n",
       "<style scoped>\n",
       "    .dataframe tbody tr th:only-of-type {\n",
       "        vertical-align: middle;\n",
       "    }\n",
       "\n",
       "    .dataframe tbody tr th {\n",
       "        vertical-align: top;\n",
       "    }\n",
       "\n",
       "    .dataframe thead th {\n",
       "        text-align: right;\n",
       "    }\n",
       "</style>\n",
       "<table border=\"1\" class=\"dataframe\">\n",
       "  <thead>\n",
       "    <tr style=\"text-align: right;\">\n",
       "      <th></th>\n",
       "      <th>timestep</th>\n",
       "      <th>reward</th>\n",
       "      <th>game</th>\n",
       "    </tr>\n",
       "  </thead>\n",
       "  <tbody>\n",
       "    <tr>\n",
       "      <th>0</th>\n",
       "      <td>0</td>\n",
       "      <td>0.1062</td>\n",
       "      <td>Kuhn Poker</td>\n",
       "    </tr>\n",
       "    <tr>\n",
       "      <th>1</th>\n",
       "      <td>77</td>\n",
       "      <td>0.5110</td>\n",
       "      <td>Kuhn Poker</td>\n",
       "    </tr>\n",
       "    <tr>\n",
       "      <th>2</th>\n",
       "      <td>300</td>\n",
       "      <td>0.3732</td>\n",
       "      <td>Kuhn Poker</td>\n",
       "    </tr>\n",
       "    <tr>\n",
       "      <th>3</th>\n",
       "      <td>519</td>\n",
       "      <td>0.3847</td>\n",
       "      <td>Kuhn Poker</td>\n",
       "    </tr>\n",
       "    <tr>\n",
       "      <th>4</th>\n",
       "      <td>740</td>\n",
       "      <td>0.3918</td>\n",
       "      <td>Kuhn Poker</td>\n",
       "    </tr>\n",
       "  </tbody>\n",
       "</table>\n",
       "</div>"
      ],
      "text/plain": [
       "   timestep  reward        game\n",
       "0         0  0.1062  Kuhn Poker\n",
       "1        77  0.5110  Kuhn Poker\n",
       "2       300  0.3732  Kuhn Poker\n",
       "3       519  0.3847  Kuhn Poker\n",
       "4       740  0.3918  Kuhn Poker"
      ]
     },
     "execution_count": 35,
     "metadata": {},
     "output_type": "execute_result"
    }
   ],
   "source": [
    "kuhn.head()"
   ]
  },
  {
   "cell_type": "code",
   "execution_count": 33,
   "metadata": {},
   "outputs": [],
   "source": [
    "leduc = pd.read_csv('experiments/leduc_holdem_dqn_result/performance.csv')"
   ]
  },
  {
   "cell_type": "code",
   "execution_count": 34,
   "metadata": {},
   "outputs": [],
   "source": [
    "leduc['game'] = \"Leduc Hold'em\""
   ]
  },
  {
   "cell_type": "code",
   "execution_count": 36,
   "metadata": {},
   "outputs": [
    {
     "data": {
      "text/html": [
       "<div>\n",
       "<style scoped>\n",
       "    .dataframe tbody tr th:only-of-type {\n",
       "        vertical-align: middle;\n",
       "    }\n",
       "\n",
       "    .dataframe tbody tr th {\n",
       "        vertical-align: top;\n",
       "    }\n",
       "\n",
       "    .dataframe thead th {\n",
       "        text-align: right;\n",
       "    }\n",
       "</style>\n",
       "<table border=\"1\" class=\"dataframe\">\n",
       "  <thead>\n",
       "    <tr style=\"text-align: right;\">\n",
       "      <th></th>\n",
       "      <th>timestep</th>\n",
       "      <th>reward</th>\n",
       "      <th>game</th>\n",
       "    </tr>\n",
       "  </thead>\n",
       "  <tbody>\n",
       "    <tr>\n",
       "      <th>0</th>\n",
       "      <td>0</td>\n",
       "      <td>-0.50290</td>\n",
       "      <td>Leduc Hold'em</td>\n",
       "    </tr>\n",
       "    <tr>\n",
       "      <th>1</th>\n",
       "      <td>82</td>\n",
       "      <td>0.71235</td>\n",
       "      <td>Leduc Hold'em</td>\n",
       "    </tr>\n",
       "    <tr>\n",
       "      <th>2</th>\n",
       "      <td>537</td>\n",
       "      <td>1.09255</td>\n",
       "      <td>Leduc Hold'em</td>\n",
       "    </tr>\n",
       "    <tr>\n",
       "      <th>3</th>\n",
       "      <td>943</td>\n",
       "      <td>0.83595</td>\n",
       "      <td>Leduc Hold'em</td>\n",
       "    </tr>\n",
       "    <tr>\n",
       "      <th>4</th>\n",
       "      <td>1286</td>\n",
       "      <td>0.87925</td>\n",
       "      <td>Leduc Hold'em</td>\n",
       "    </tr>\n",
       "  </tbody>\n",
       "</table>\n",
       "</div>"
      ],
      "text/plain": [
       "   timestep   reward           game\n",
       "0         0 -0.50290  Leduc Hold'em\n",
       "1        82  0.71235  Leduc Hold'em\n",
       "2       537  1.09255  Leduc Hold'em\n",
       "3       943  0.83595  Leduc Hold'em\n",
       "4      1286  0.87925  Leduc Hold'em"
      ]
     },
     "execution_count": 36,
     "metadata": {},
     "output_type": "execute_result"
    }
   ],
   "source": [
    "leduc.head()"
   ]
  },
  {
   "cell_type": "code",
   "execution_count": 40,
   "metadata": {},
   "outputs": [],
   "source": [
    "df = kuhn.append(leduc)"
   ]
  },
  {
   "cell_type": "code",
   "execution_count": 41,
   "metadata": {},
   "outputs": [
    {
     "data": {
      "text/html": [
       "<div>\n",
       "<style scoped>\n",
       "    .dataframe tbody tr th:only-of-type {\n",
       "        vertical-align: middle;\n",
       "    }\n",
       "\n",
       "    .dataframe tbody tr th {\n",
       "        vertical-align: top;\n",
       "    }\n",
       "\n",
       "    .dataframe thead th {\n",
       "        text-align: right;\n",
       "    }\n",
       "</style>\n",
       "<table border=\"1\" class=\"dataframe\">\n",
       "  <thead>\n",
       "    <tr style=\"text-align: right;\">\n",
       "      <th></th>\n",
       "      <th>timestep</th>\n",
       "      <th>reward</th>\n",
       "      <th>game</th>\n",
       "    </tr>\n",
       "  </thead>\n",
       "  <tbody>\n",
       "    <tr>\n",
       "      <th>0</th>\n",
       "      <td>0</td>\n",
       "      <td>0.10620</td>\n",
       "      <td>Kuhn Poker</td>\n",
       "    </tr>\n",
       "    <tr>\n",
       "      <th>1</th>\n",
       "      <td>77</td>\n",
       "      <td>0.51100</td>\n",
       "      <td>Kuhn Poker</td>\n",
       "    </tr>\n",
       "    <tr>\n",
       "      <th>2</th>\n",
       "      <td>300</td>\n",
       "      <td>0.37320</td>\n",
       "      <td>Kuhn Poker</td>\n",
       "    </tr>\n",
       "    <tr>\n",
       "      <th>3</th>\n",
       "      <td>519</td>\n",
       "      <td>0.38470</td>\n",
       "      <td>Kuhn Poker</td>\n",
       "    </tr>\n",
       "    <tr>\n",
       "      <th>4</th>\n",
       "      <td>740</td>\n",
       "      <td>0.39180</td>\n",
       "      <td>Kuhn Poker</td>\n",
       "    </tr>\n",
       "    <tr>\n",
       "      <th>...</th>\n",
       "      <td>...</td>\n",
       "      <td>...</td>\n",
       "      <td>...</td>\n",
       "    </tr>\n",
       "    <tr>\n",
       "      <th>45</th>\n",
       "      <td>15575</td>\n",
       "      <td>0.75450</td>\n",
       "      <td>Leduc Hold'em</td>\n",
       "    </tr>\n",
       "    <tr>\n",
       "      <th>46</th>\n",
       "      <td>15961</td>\n",
       "      <td>0.62295</td>\n",
       "      <td>Leduc Hold'em</td>\n",
       "    </tr>\n",
       "    <tr>\n",
       "      <th>47</th>\n",
       "      <td>16303</td>\n",
       "      <td>0.68015</td>\n",
       "      <td>Leduc Hold'em</td>\n",
       "    </tr>\n",
       "    <tr>\n",
       "      <th>48</th>\n",
       "      <td>16694</td>\n",
       "      <td>0.78460</td>\n",
       "      <td>Leduc Hold'em</td>\n",
       "    </tr>\n",
       "    <tr>\n",
       "      <th>49</th>\n",
       "      <td>17088</td>\n",
       "      <td>0.76715</td>\n",
       "      <td>Leduc Hold'em</td>\n",
       "    </tr>\n",
       "  </tbody>\n",
       "</table>\n",
       "<p>100 rows × 3 columns</p>\n",
       "</div>"
      ],
      "text/plain": [
       "    timestep   reward           game\n",
       "0          0  0.10620     Kuhn Poker\n",
       "1         77  0.51100     Kuhn Poker\n",
       "2        300  0.37320     Kuhn Poker\n",
       "3        519  0.38470     Kuhn Poker\n",
       "4        740  0.39180     Kuhn Poker\n",
       "..       ...      ...            ...\n",
       "45     15575  0.75450  Leduc Hold'em\n",
       "46     15961  0.62295  Leduc Hold'em\n",
       "47     16303  0.68015  Leduc Hold'em\n",
       "48     16694  0.78460  Leduc Hold'em\n",
       "49     17088  0.76715  Leduc Hold'em\n",
       "\n",
       "[100 rows x 3 columns]"
      ]
     },
     "execution_count": 41,
     "metadata": {},
     "output_type": "execute_result"
    }
   ],
   "source": [
    "df"
   ]
  },
  {
   "cell_type": "code",
   "execution_count": 45,
   "metadata": {},
   "outputs": [
    {
     "data": {
      "text/html": [
       "\n",
       "<div id=\"altair-viz-10562dafc14a478da36699cf44b2da8f\"></div>\n",
       "<script type=\"text/javascript\">\n",
       "  (function(spec, embedOpt){\n",
       "    let outputDiv = document.currentScript.previousElementSibling;\n",
       "    if (outputDiv.id !== \"altair-viz-10562dafc14a478da36699cf44b2da8f\") {\n",
       "      outputDiv = document.getElementById(\"altair-viz-10562dafc14a478da36699cf44b2da8f\");\n",
       "    }\n",
       "    const paths = {\n",
       "      \"vega\": \"https://cdn.jsdelivr.net/npm//vega@5?noext\",\n",
       "      \"vega-lib\": \"https://cdn.jsdelivr.net/npm//vega-lib?noext\",\n",
       "      \"vega-lite\": \"https://cdn.jsdelivr.net/npm//vega-lite@4.8.1?noext\",\n",
       "      \"vega-embed\": \"https://cdn.jsdelivr.net/npm//vega-embed@6?noext\",\n",
       "    };\n",
       "\n",
       "    function loadScript(lib) {\n",
       "      return new Promise(function(resolve, reject) {\n",
       "        var s = document.createElement('script');\n",
       "        s.src = paths[lib];\n",
       "        s.async = true;\n",
       "        s.onload = () => resolve(paths[lib]);\n",
       "        s.onerror = () => reject(`Error loading script: ${paths[lib]}`);\n",
       "        document.getElementsByTagName(\"head\")[0].appendChild(s);\n",
       "      });\n",
       "    }\n",
       "\n",
       "    function showError(err) {\n",
       "      outputDiv.innerHTML = `<div class=\"error\" style=\"color:red;\">${err}</div>`;\n",
       "      throw err;\n",
       "    }\n",
       "\n",
       "    function displayChart(vegaEmbed) {\n",
       "      vegaEmbed(outputDiv, spec, embedOpt)\n",
       "        .catch(err => showError(`Javascript Error: ${err.message}<br>This usually means there's a typo in your chart specification. See the javascript console for the full traceback.`));\n",
       "    }\n",
       "\n",
       "    if(typeof define === \"function\" && define.amd) {\n",
       "      requirejs.config({paths});\n",
       "      require([\"vega-embed\"], displayChart, err => showError(`Error loading script: ${err.message}`));\n",
       "    } else if (typeof vegaEmbed === \"function\") {\n",
       "      displayChart(vegaEmbed);\n",
       "    } else {\n",
       "      loadScript(\"vega\")\n",
       "        .then(() => loadScript(\"vega-lite\"))\n",
       "        .then(() => loadScript(\"vega-embed\"))\n",
       "        .catch(showError)\n",
       "        .then(() => displayChart(vegaEmbed));\n",
       "    }\n",
       "  })({\"config\": {\"view\": {\"continuousWidth\": 400, \"continuousHeight\": 300}}, \"data\": {\"name\": \"data-4c0a47a4f555b3d2956e7524f089ea46\"}, \"mark\": \"line\", \"encoding\": {\"row\": {\"type\": \"nominal\", \"field\": \"game\"}, \"x\": {\"type\": \"quantitative\", \"field\": \"timestep\", \"title\": \"weight updates\"}, \"y\": {\"type\": \"quantitative\", \"field\": \"reward\", \"title\": \"mean reward per hand\"}}, \"height\": 100, \"$schema\": \"https://vega.github.io/schema/vega-lite/v4.8.1.json\", \"datasets\": {\"data-4c0a47a4f555b3d2956e7524f089ea46\": [{\"timestep\": 0, \"reward\": 0.1062, \"game\": \"Kuhn Poker\"}, {\"timestep\": 77, \"reward\": 0.511, \"game\": \"Kuhn Poker\"}, {\"timestep\": 300, \"reward\": 0.3732, \"game\": \"Kuhn Poker\"}, {\"timestep\": 519, \"reward\": 0.3847, \"game\": \"Kuhn Poker\"}, {\"timestep\": 740, \"reward\": 0.3918, \"game\": \"Kuhn Poker\"}, {\"timestep\": 970, \"reward\": 0.4009, \"game\": \"Kuhn Poker\"}, {\"timestep\": 1200, \"reward\": 0.3856, \"game\": \"Kuhn Poker\"}, {\"timestep\": 1439, \"reward\": 0.3883, \"game\": \"Kuhn Poker\"}, {\"timestep\": 1665, \"reward\": 0.4039, \"game\": \"Kuhn Poker\"}, {\"timestep\": 1891, \"reward\": 0.3838, \"game\": \"Kuhn Poker\"}, {\"timestep\": 2116, \"reward\": 0.3821, \"game\": \"Kuhn Poker\"}, {\"timestep\": 2340, \"reward\": 0.379, \"game\": \"Kuhn Poker\"}, {\"timestep\": 2568, \"reward\": 0.2841, \"game\": \"Kuhn Poker\"}, {\"timestep\": 2803, \"reward\": 0.3977, \"game\": \"Kuhn Poker\"}, {\"timestep\": 3029, \"reward\": 0.4079, \"game\": \"Kuhn Poker\"}, {\"timestep\": 3257, \"reward\": 0.3918, \"game\": \"Kuhn Poker\"}, {\"timestep\": 3486, \"reward\": 0.4071, \"game\": \"Kuhn Poker\"}, {\"timestep\": 3729, \"reward\": 0.4095, \"game\": \"Kuhn Poker\"}, {\"timestep\": 3950, \"reward\": 0.3924, \"game\": \"Kuhn Poker\"}, {\"timestep\": 4175, \"reward\": 0.4022, \"game\": \"Kuhn Poker\"}, {\"timestep\": 4402, \"reward\": 0.3791, \"game\": \"Kuhn Poker\"}, {\"timestep\": 4627, \"reward\": 0.3871, \"game\": \"Kuhn Poker\"}, {\"timestep\": 4851, \"reward\": 0.3688, \"game\": \"Kuhn Poker\"}, {\"timestep\": 5083, \"reward\": 0.3932, \"game\": \"Kuhn Poker\"}, {\"timestep\": 5318, \"reward\": 0.4029, \"game\": \"Kuhn Poker\"}, {\"timestep\": 5549, \"reward\": 0.3866, \"game\": \"Kuhn Poker\"}, {\"timestep\": 5778, \"reward\": 0.3877, \"game\": \"Kuhn Poker\"}, {\"timestep\": 6006, \"reward\": 0.3917, \"game\": \"Kuhn Poker\"}, {\"timestep\": 6223, \"reward\": 0.3819, \"game\": \"Kuhn Poker\"}, {\"timestep\": 6441, \"reward\": 0.3652, \"game\": \"Kuhn Poker\"}, {\"timestep\": 6669, \"reward\": 0.273, \"game\": \"Kuhn Poker\"}, {\"timestep\": 6897, \"reward\": 0.3896, \"game\": \"Kuhn Poker\"}, {\"timestep\": 7111, \"reward\": 0.3865, \"game\": \"Kuhn Poker\"}, {\"timestep\": 7332, \"reward\": 0.3888, \"game\": \"Kuhn Poker\"}, {\"timestep\": 7545, \"reward\": 0.3686, \"game\": \"Kuhn Poker\"}, {\"timestep\": 7771, \"reward\": 0.392, \"game\": \"Kuhn Poker\"}, {\"timestep\": 7997, \"reward\": 0.3897, \"game\": \"Kuhn Poker\"}, {\"timestep\": 8222, \"reward\": 0.4019, \"game\": \"Kuhn Poker\"}, {\"timestep\": 8446, \"reward\": 0.38, \"game\": \"Kuhn Poker\"}, {\"timestep\": 8662, \"reward\": 0.3992, \"game\": \"Kuhn Poker\"}, {\"timestep\": 8890, \"reward\": 0.3858, \"game\": \"Kuhn Poker\"}, {\"timestep\": 9111, \"reward\": 0.2721, \"game\": \"Kuhn Poker\"}, {\"timestep\": 9319, \"reward\": 0.3826, \"game\": \"Kuhn Poker\"}, {\"timestep\": 9544, \"reward\": 0.3832, \"game\": \"Kuhn Poker\"}, {\"timestep\": 9772, \"reward\": 0.3957, \"game\": \"Kuhn Poker\"}, {\"timestep\": 9985, \"reward\": 0.261, \"game\": \"Kuhn Poker\"}, {\"timestep\": 10203, \"reward\": 0.3924, \"game\": \"Kuhn Poker\"}, {\"timestep\": 10414, \"reward\": 0.2875, \"game\": \"Kuhn Poker\"}, {\"timestep\": 10637, \"reward\": 0.3959, \"game\": \"Kuhn Poker\"}, {\"timestep\": 10853, \"reward\": 0.3944, \"game\": \"Kuhn Poker\"}, {\"timestep\": 0, \"reward\": -0.5029, \"game\": \"Leduc Hold'em\"}, {\"timestep\": 82, \"reward\": 0.71235, \"game\": \"Leduc Hold'em\"}, {\"timestep\": 537, \"reward\": 1.09255, \"game\": \"Leduc Hold'em\"}, {\"timestep\": 943, \"reward\": 0.83595, \"game\": \"Leduc Hold'em\"}, {\"timestep\": 1286, \"reward\": 0.87925, \"game\": \"Leduc Hold'em\"}, {\"timestep\": 1584, \"reward\": 0.76805, \"game\": \"Leduc Hold'em\"}, {\"timestep\": 1950, \"reward\": 1.1397, \"game\": \"Leduc Hold'em\"}, {\"timestep\": 2336, \"reward\": 0.89095, \"game\": \"Leduc Hold'em\"}, {\"timestep\": 2744, \"reward\": 0.8847, \"game\": \"Leduc Hold'em\"}, {\"timestep\": 3097, \"reward\": 0.78865, \"game\": \"Leduc Hold'em\"}, {\"timestep\": 3467, \"reward\": 0.6911, \"game\": \"Leduc Hold'em\"}, {\"timestep\": 3837, \"reward\": 0.8337, \"game\": \"Leduc Hold'em\"}, {\"timestep\": 4235, \"reward\": 0.7103, \"game\": \"Leduc Hold'em\"}, {\"timestep\": 4607, \"reward\": 0.7309, \"game\": \"Leduc Hold'em\"}, {\"timestep\": 4941, \"reward\": 0.6905, \"game\": \"Leduc Hold'em\"}, {\"timestep\": 5317, \"reward\": 0.61, \"game\": \"Leduc Hold'em\"}, {\"timestep\": 5689, \"reward\": 0.6752, \"game\": \"Leduc Hold'em\"}, {\"timestep\": 6029, \"reward\": 0.74165, \"game\": \"Leduc Hold'em\"}, {\"timestep\": 6381, \"reward\": 0.66135, \"game\": \"Leduc Hold'em\"}, {\"timestep\": 6723, \"reward\": 0.69355, \"game\": \"Leduc Hold'em\"}, {\"timestep\": 7082, \"reward\": 0.70065, \"game\": \"Leduc Hold'em\"}, {\"timestep\": 7411, \"reward\": 0.6784, \"game\": \"Leduc Hold'em\"}, {\"timestep\": 7744, \"reward\": 0.60745, \"game\": \"Leduc Hold'em\"}, {\"timestep\": 8077, \"reward\": 0.5348, \"game\": \"Leduc Hold'em\"}, {\"timestep\": 8383, \"reward\": 0.64565, \"game\": \"Leduc Hold'em\"}, {\"timestep\": 8730, \"reward\": 0.6339, \"game\": \"Leduc Hold'em\"}, {\"timestep\": 9085, \"reward\": 0.58175, \"game\": \"Leduc Hold'em\"}, {\"timestep\": 9452, \"reward\": 0.6208, \"game\": \"Leduc Hold'em\"}, {\"timestep\": 9807, \"reward\": 0.5726, \"game\": \"Leduc Hold'em\"}, {\"timestep\": 10135, \"reward\": 0.7702, \"game\": \"Leduc Hold'em\"}, {\"timestep\": 10482, \"reward\": 0.54535, \"game\": \"Leduc Hold'em\"}, {\"timestep\": 10825, \"reward\": 0.6632, \"game\": \"Leduc Hold'em\"}, {\"timestep\": 11144, \"reward\": 0.62235, \"game\": \"Leduc Hold'em\"}, {\"timestep\": 11493, \"reward\": 0.62135, \"game\": \"Leduc Hold'em\"}, {\"timestep\": 11801, \"reward\": 0.5805, \"game\": \"Leduc Hold'em\"}, {\"timestep\": 12120, \"reward\": 0.55275, \"game\": \"Leduc Hold'em\"}, {\"timestep\": 12440, \"reward\": 0.6967, \"game\": \"Leduc Hold'em\"}, {\"timestep\": 12773, \"reward\": 0.59335, \"game\": \"Leduc Hold'em\"}, {\"timestep\": 13137, \"reward\": 0.6536, \"game\": \"Leduc Hold'em\"}, {\"timestep\": 13491, \"reward\": 0.71045, \"game\": \"Leduc Hold'em\"}, {\"timestep\": 13821, \"reward\": 0.594, \"game\": \"Leduc Hold'em\"}, {\"timestep\": 14161, \"reward\": 0.53005, \"game\": \"Leduc Hold'em\"}, {\"timestep\": 14528, \"reward\": 0.76415, \"game\": \"Leduc Hold'em\"}, {\"timestep\": 14892, \"reward\": 0.6567, \"game\": \"Leduc Hold'em\"}, {\"timestep\": 15222, \"reward\": 0.62425, \"game\": \"Leduc Hold'em\"}, {\"timestep\": 15575, \"reward\": 0.7545, \"game\": \"Leduc Hold'em\"}, {\"timestep\": 15961, \"reward\": 0.62295, \"game\": \"Leduc Hold'em\"}, {\"timestep\": 16303, \"reward\": 0.68015, \"game\": \"Leduc Hold'em\"}, {\"timestep\": 16694, \"reward\": 0.7846, \"game\": \"Leduc Hold'em\"}, {\"timestep\": 17088, \"reward\": 0.76715, \"game\": \"Leduc Hold'em\"}]}}, {\"mode\": \"vega-lite\"});\n",
       "</script>"
      ],
      "text/plain": [
       "alt.Chart(...)"
      ]
     },
     "execution_count": 45,
     "metadata": {},
     "output_type": "execute_result"
    }
   ],
   "source": [
    "alt.Chart(df).mark_line().encode(\n",
    "    x=alt.X(\"timestep:Q\", title=\"weight updates\"),\n",
    "    y=alt.Y(\"reward:Q\", title=\"mean reward per hand\"),\n",
    "    row=\"game:N\"\n",
    ").properties(\n",
    "    height=100\n",
    ")"
   ]
  },
  {
   "cell_type": "code",
   "execution_count": 47,
   "metadata": {},
   "outputs": [
    {
     "data": {
      "text/html": [
       "\n",
       "<div id=\"altair-viz-df56ceae2b7d461eb73e01501b85b71e\"></div>\n",
       "<script type=\"text/javascript\">\n",
       "  (function(spec, embedOpt){\n",
       "    let outputDiv = document.currentScript.previousElementSibling;\n",
       "    if (outputDiv.id !== \"altair-viz-df56ceae2b7d461eb73e01501b85b71e\") {\n",
       "      outputDiv = document.getElementById(\"altair-viz-df56ceae2b7d461eb73e01501b85b71e\");\n",
       "    }\n",
       "    const paths = {\n",
       "      \"vega\": \"https://cdn.jsdelivr.net/npm//vega@5?noext\",\n",
       "      \"vega-lib\": \"https://cdn.jsdelivr.net/npm//vega-lib?noext\",\n",
       "      \"vega-lite\": \"https://cdn.jsdelivr.net/npm//vega-lite@4.8.1?noext\",\n",
       "      \"vega-embed\": \"https://cdn.jsdelivr.net/npm//vega-embed@6?noext\",\n",
       "    };\n",
       "\n",
       "    function loadScript(lib) {\n",
       "      return new Promise(function(resolve, reject) {\n",
       "        var s = document.createElement('script');\n",
       "        s.src = paths[lib];\n",
       "        s.async = true;\n",
       "        s.onload = () => resolve(paths[lib]);\n",
       "        s.onerror = () => reject(`Error loading script: ${paths[lib]}`);\n",
       "        document.getElementsByTagName(\"head\")[0].appendChild(s);\n",
       "      });\n",
       "    }\n",
       "\n",
       "    function showError(err) {\n",
       "      outputDiv.innerHTML = `<div class=\"error\" style=\"color:red;\">${err}</div>`;\n",
       "      throw err;\n",
       "    }\n",
       "\n",
       "    function displayChart(vegaEmbed) {\n",
       "      vegaEmbed(outputDiv, spec, embedOpt)\n",
       "        .catch(err => showError(`Javascript Error: ${err.message}<br>This usually means there's a typo in your chart specification. See the javascript console for the full traceback.`));\n",
       "    }\n",
       "\n",
       "    if(typeof define === \"function\" && define.amd) {\n",
       "      requirejs.config({paths});\n",
       "      require([\"vega-embed\"], displayChart, err => showError(`Error loading script: ${err.message}`));\n",
       "    } else if (typeof vegaEmbed === \"function\") {\n",
       "      displayChart(vegaEmbed);\n",
       "    } else {\n",
       "      loadScript(\"vega\")\n",
       "        .then(() => loadScript(\"vega-lite\"))\n",
       "        .then(() => loadScript(\"vega-embed\"))\n",
       "        .catch(showError)\n",
       "        .then(() => displayChart(vegaEmbed));\n",
       "    }\n",
       "  })({\"config\": {\"view\": {\"continuousWidth\": 400, \"continuousHeight\": 300}}, \"data\": {\"name\": \"data-021eab1f8ed0f422e78a3ec7b56d12b4\"}, \"mark\": \"line\", \"encoding\": {\"x\": {\"type\": \"quantitative\", \"field\": \"timestep\", \"title\": \"weight updates\"}, \"y\": {\"type\": \"quantitative\", \"field\": \"reward\", \"title\": \"mean reward per hand\"}}, \"$schema\": \"https://vega.github.io/schema/vega-lite/v4.8.1.json\", \"datasets\": {\"data-021eab1f8ed0f422e78a3ec7b56d12b4\": [{\"timestep\": 0, \"reward\": 0.1062, \"game\": \"Kuhn Poker\"}, {\"timestep\": 77, \"reward\": 0.511, \"game\": \"Kuhn Poker\"}, {\"timestep\": 300, \"reward\": 0.3732, \"game\": \"Kuhn Poker\"}, {\"timestep\": 519, \"reward\": 0.3847, \"game\": \"Kuhn Poker\"}, {\"timestep\": 740, \"reward\": 0.3918, \"game\": \"Kuhn Poker\"}, {\"timestep\": 970, \"reward\": 0.4009, \"game\": \"Kuhn Poker\"}, {\"timestep\": 1200, \"reward\": 0.3856, \"game\": \"Kuhn Poker\"}, {\"timestep\": 1439, \"reward\": 0.3883, \"game\": \"Kuhn Poker\"}, {\"timestep\": 1665, \"reward\": 0.4039, \"game\": \"Kuhn Poker\"}, {\"timestep\": 1891, \"reward\": 0.3838, \"game\": \"Kuhn Poker\"}, {\"timestep\": 2116, \"reward\": 0.3821, \"game\": \"Kuhn Poker\"}, {\"timestep\": 2340, \"reward\": 0.379, \"game\": \"Kuhn Poker\"}, {\"timestep\": 2568, \"reward\": 0.2841, \"game\": \"Kuhn Poker\"}, {\"timestep\": 2803, \"reward\": 0.3977, \"game\": \"Kuhn Poker\"}, {\"timestep\": 3029, \"reward\": 0.4079, \"game\": \"Kuhn Poker\"}, {\"timestep\": 3257, \"reward\": 0.3918, \"game\": \"Kuhn Poker\"}, {\"timestep\": 3486, \"reward\": 0.4071, \"game\": \"Kuhn Poker\"}, {\"timestep\": 3729, \"reward\": 0.4095, \"game\": \"Kuhn Poker\"}, {\"timestep\": 3950, \"reward\": 0.3924, \"game\": \"Kuhn Poker\"}, {\"timestep\": 4175, \"reward\": 0.4022, \"game\": \"Kuhn Poker\"}, {\"timestep\": 4402, \"reward\": 0.3791, \"game\": \"Kuhn Poker\"}, {\"timestep\": 4627, \"reward\": 0.3871, \"game\": \"Kuhn Poker\"}, {\"timestep\": 4851, \"reward\": 0.3688, \"game\": \"Kuhn Poker\"}, {\"timestep\": 5083, \"reward\": 0.3932, \"game\": \"Kuhn Poker\"}, {\"timestep\": 5318, \"reward\": 0.4029, \"game\": \"Kuhn Poker\"}, {\"timestep\": 5549, \"reward\": 0.3866, \"game\": \"Kuhn Poker\"}, {\"timestep\": 5778, \"reward\": 0.3877, \"game\": \"Kuhn Poker\"}, {\"timestep\": 6006, \"reward\": 0.3917, \"game\": \"Kuhn Poker\"}, {\"timestep\": 6223, \"reward\": 0.3819, \"game\": \"Kuhn Poker\"}, {\"timestep\": 6441, \"reward\": 0.3652, \"game\": \"Kuhn Poker\"}, {\"timestep\": 6669, \"reward\": 0.273, \"game\": \"Kuhn Poker\"}, {\"timestep\": 6897, \"reward\": 0.3896, \"game\": \"Kuhn Poker\"}, {\"timestep\": 7111, \"reward\": 0.3865, \"game\": \"Kuhn Poker\"}, {\"timestep\": 7332, \"reward\": 0.3888, \"game\": \"Kuhn Poker\"}, {\"timestep\": 7545, \"reward\": 0.3686, \"game\": \"Kuhn Poker\"}, {\"timestep\": 7771, \"reward\": 0.392, \"game\": \"Kuhn Poker\"}, {\"timestep\": 7997, \"reward\": 0.3897, \"game\": \"Kuhn Poker\"}, {\"timestep\": 8222, \"reward\": 0.4019, \"game\": \"Kuhn Poker\"}, {\"timestep\": 8446, \"reward\": 0.38, \"game\": \"Kuhn Poker\"}, {\"timestep\": 8662, \"reward\": 0.3992, \"game\": \"Kuhn Poker\"}, {\"timestep\": 8890, \"reward\": 0.3858, \"game\": \"Kuhn Poker\"}, {\"timestep\": 9111, \"reward\": 0.2721, \"game\": \"Kuhn Poker\"}, {\"timestep\": 9319, \"reward\": 0.3826, \"game\": \"Kuhn Poker\"}, {\"timestep\": 9544, \"reward\": 0.3832, \"game\": \"Kuhn Poker\"}, {\"timestep\": 9772, \"reward\": 0.3957, \"game\": \"Kuhn Poker\"}, {\"timestep\": 9985, \"reward\": 0.261, \"game\": \"Kuhn Poker\"}, {\"timestep\": 10203, \"reward\": 0.3924, \"game\": \"Kuhn Poker\"}, {\"timestep\": 10414, \"reward\": 0.2875, \"game\": \"Kuhn Poker\"}, {\"timestep\": 10637, \"reward\": 0.3959, \"game\": \"Kuhn Poker\"}, {\"timestep\": 10853, \"reward\": 0.3944, \"game\": \"Kuhn Poker\"}]}}, {\"mode\": \"vega-lite\"});\n",
       "</script>"
      ],
      "text/plain": [
       "alt.Chart(...)"
      ]
     },
     "execution_count": 47,
     "metadata": {},
     "output_type": "execute_result"
    }
   ],
   "source": [
    "alt.Chart(kuhn).mark_line().encode(\n",
    "    x=alt.X(\"timestep:Q\", title=\"weight updates\"),\n",
    "    y=alt.Y(\"reward:Q\", title=\"mean reward per hand\"),\n",
    ")"
   ]
  },
  {
   "cell_type": "code",
   "execution_count": 48,
   "metadata": {},
   "outputs": [
    {
     "data": {
      "text/html": [
       "\n",
       "<div id=\"altair-viz-4d0f2de296a6409a8f056d56e29b7c85\"></div>\n",
       "<script type=\"text/javascript\">\n",
       "  (function(spec, embedOpt){\n",
       "    let outputDiv = document.currentScript.previousElementSibling;\n",
       "    if (outputDiv.id !== \"altair-viz-4d0f2de296a6409a8f056d56e29b7c85\") {\n",
       "      outputDiv = document.getElementById(\"altair-viz-4d0f2de296a6409a8f056d56e29b7c85\");\n",
       "    }\n",
       "    const paths = {\n",
       "      \"vega\": \"https://cdn.jsdelivr.net/npm//vega@5?noext\",\n",
       "      \"vega-lib\": \"https://cdn.jsdelivr.net/npm//vega-lib?noext\",\n",
       "      \"vega-lite\": \"https://cdn.jsdelivr.net/npm//vega-lite@4.8.1?noext\",\n",
       "      \"vega-embed\": \"https://cdn.jsdelivr.net/npm//vega-embed@6?noext\",\n",
       "    };\n",
       "\n",
       "    function loadScript(lib) {\n",
       "      return new Promise(function(resolve, reject) {\n",
       "        var s = document.createElement('script');\n",
       "        s.src = paths[lib];\n",
       "        s.async = true;\n",
       "        s.onload = () => resolve(paths[lib]);\n",
       "        s.onerror = () => reject(`Error loading script: ${paths[lib]}`);\n",
       "        document.getElementsByTagName(\"head\")[0].appendChild(s);\n",
       "      });\n",
       "    }\n",
       "\n",
       "    function showError(err) {\n",
       "      outputDiv.innerHTML = `<div class=\"error\" style=\"color:red;\">${err}</div>`;\n",
       "      throw err;\n",
       "    }\n",
       "\n",
       "    function displayChart(vegaEmbed) {\n",
       "      vegaEmbed(outputDiv, spec, embedOpt)\n",
       "        .catch(err => showError(`Javascript Error: ${err.message}<br>This usually means there's a typo in your chart specification. See the javascript console for the full traceback.`));\n",
       "    }\n",
       "\n",
       "    if(typeof define === \"function\" && define.amd) {\n",
       "      requirejs.config({paths});\n",
       "      require([\"vega-embed\"], displayChart, err => showError(`Error loading script: ${err.message}`));\n",
       "    } else if (typeof vegaEmbed === \"function\") {\n",
       "      displayChart(vegaEmbed);\n",
       "    } else {\n",
       "      loadScript(\"vega\")\n",
       "        .then(() => loadScript(\"vega-lite\"))\n",
       "        .then(() => loadScript(\"vega-embed\"))\n",
       "        .catch(showError)\n",
       "        .then(() => displayChart(vegaEmbed));\n",
       "    }\n",
       "  })({\"config\": {\"view\": {\"continuousWidth\": 400, \"continuousHeight\": 300}}, \"data\": {\"name\": \"data-76b76148c759c92a8a5bc1002558b0ae\"}, \"mark\": \"line\", \"encoding\": {\"x\": {\"type\": \"quantitative\", \"field\": \"timestep\", \"title\": \"weight updates\"}, \"y\": {\"type\": \"quantitative\", \"field\": \"reward\", \"title\": \"mean reward per hand\"}}, \"$schema\": \"https://vega.github.io/schema/vega-lite/v4.8.1.json\", \"datasets\": {\"data-76b76148c759c92a8a5bc1002558b0ae\": [{\"timestep\": 0, \"reward\": -0.5029, \"game\": \"Leduc Hold'em\"}, {\"timestep\": 82, \"reward\": 0.71235, \"game\": \"Leduc Hold'em\"}, {\"timestep\": 537, \"reward\": 1.09255, \"game\": \"Leduc Hold'em\"}, {\"timestep\": 943, \"reward\": 0.83595, \"game\": \"Leduc Hold'em\"}, {\"timestep\": 1286, \"reward\": 0.87925, \"game\": \"Leduc Hold'em\"}, {\"timestep\": 1584, \"reward\": 0.76805, \"game\": \"Leduc Hold'em\"}, {\"timestep\": 1950, \"reward\": 1.1397, \"game\": \"Leduc Hold'em\"}, {\"timestep\": 2336, \"reward\": 0.89095, \"game\": \"Leduc Hold'em\"}, {\"timestep\": 2744, \"reward\": 0.8847, \"game\": \"Leduc Hold'em\"}, {\"timestep\": 3097, \"reward\": 0.78865, \"game\": \"Leduc Hold'em\"}, {\"timestep\": 3467, \"reward\": 0.6911, \"game\": \"Leduc Hold'em\"}, {\"timestep\": 3837, \"reward\": 0.8337, \"game\": \"Leduc Hold'em\"}, {\"timestep\": 4235, \"reward\": 0.7103, \"game\": \"Leduc Hold'em\"}, {\"timestep\": 4607, \"reward\": 0.7309, \"game\": \"Leduc Hold'em\"}, {\"timestep\": 4941, \"reward\": 0.6905, \"game\": \"Leduc Hold'em\"}, {\"timestep\": 5317, \"reward\": 0.61, \"game\": \"Leduc Hold'em\"}, {\"timestep\": 5689, \"reward\": 0.6752, \"game\": \"Leduc Hold'em\"}, {\"timestep\": 6029, \"reward\": 0.74165, \"game\": \"Leduc Hold'em\"}, {\"timestep\": 6381, \"reward\": 0.66135, \"game\": \"Leduc Hold'em\"}, {\"timestep\": 6723, \"reward\": 0.69355, \"game\": \"Leduc Hold'em\"}, {\"timestep\": 7082, \"reward\": 0.70065, \"game\": \"Leduc Hold'em\"}, {\"timestep\": 7411, \"reward\": 0.6784, \"game\": \"Leduc Hold'em\"}, {\"timestep\": 7744, \"reward\": 0.60745, \"game\": \"Leduc Hold'em\"}, {\"timestep\": 8077, \"reward\": 0.5348, \"game\": \"Leduc Hold'em\"}, {\"timestep\": 8383, \"reward\": 0.64565, \"game\": \"Leduc Hold'em\"}, {\"timestep\": 8730, \"reward\": 0.6339, \"game\": \"Leduc Hold'em\"}, {\"timestep\": 9085, \"reward\": 0.58175, \"game\": \"Leduc Hold'em\"}, {\"timestep\": 9452, \"reward\": 0.6208, \"game\": \"Leduc Hold'em\"}, {\"timestep\": 9807, \"reward\": 0.5726, \"game\": \"Leduc Hold'em\"}, {\"timestep\": 10135, \"reward\": 0.7702, \"game\": \"Leduc Hold'em\"}, {\"timestep\": 10482, \"reward\": 0.54535, \"game\": \"Leduc Hold'em\"}, {\"timestep\": 10825, \"reward\": 0.6632, \"game\": \"Leduc Hold'em\"}, {\"timestep\": 11144, \"reward\": 0.62235, \"game\": \"Leduc Hold'em\"}, {\"timestep\": 11493, \"reward\": 0.62135, \"game\": \"Leduc Hold'em\"}, {\"timestep\": 11801, \"reward\": 0.5805, \"game\": \"Leduc Hold'em\"}, {\"timestep\": 12120, \"reward\": 0.55275, \"game\": \"Leduc Hold'em\"}, {\"timestep\": 12440, \"reward\": 0.6967, \"game\": \"Leduc Hold'em\"}, {\"timestep\": 12773, \"reward\": 0.59335, \"game\": \"Leduc Hold'em\"}, {\"timestep\": 13137, \"reward\": 0.6536, \"game\": \"Leduc Hold'em\"}, {\"timestep\": 13491, \"reward\": 0.71045, \"game\": \"Leduc Hold'em\"}, {\"timestep\": 13821, \"reward\": 0.594, \"game\": \"Leduc Hold'em\"}, {\"timestep\": 14161, \"reward\": 0.53005, \"game\": \"Leduc Hold'em\"}, {\"timestep\": 14528, \"reward\": 0.76415, \"game\": \"Leduc Hold'em\"}, {\"timestep\": 14892, \"reward\": 0.6567, \"game\": \"Leduc Hold'em\"}, {\"timestep\": 15222, \"reward\": 0.62425, \"game\": \"Leduc Hold'em\"}, {\"timestep\": 15575, \"reward\": 0.7545, \"game\": \"Leduc Hold'em\"}, {\"timestep\": 15961, \"reward\": 0.62295, \"game\": \"Leduc Hold'em\"}, {\"timestep\": 16303, \"reward\": 0.68015, \"game\": \"Leduc Hold'em\"}, {\"timestep\": 16694, \"reward\": 0.7846, \"game\": \"Leduc Hold'em\"}, {\"timestep\": 17088, \"reward\": 0.76715, \"game\": \"Leduc Hold'em\"}]}}, {\"mode\": \"vega-lite\"});\n",
       "</script>"
      ],
      "text/plain": [
       "alt.Chart(...)"
      ]
     },
     "execution_count": 48,
     "metadata": {},
     "output_type": "execute_result"
    }
   ],
   "source": [
    "alt.Chart(leduc).mark_line().encode(\n",
    "    x=alt.X(\"timestep:Q\", title=\"weight updates\"),\n",
    "    y=alt.Y(\"reward:Q\", title=\"mean reward per hand\"),\n",
    ")"
   ]
  },
  {
   "cell_type": "code",
   "execution_count": null,
   "metadata": {},
   "outputs": [],
   "source": []
  }
 ],
 "metadata": {
  "kernelspec": {
   "display_name": "dl",
   "language": "python",
   "name": "dl"
  },
  "language_info": {
   "codemirror_mode": {
    "name": "ipython",
    "version": 3
   },
   "file_extension": ".py",
   "mimetype": "text/x-python",
   "name": "python",
   "nbconvert_exporter": "python",
   "pygments_lexer": "ipython3",
   "version": "3.6.9"
  }
 },
 "nbformat": 4,
 "nbformat_minor": 4
}
