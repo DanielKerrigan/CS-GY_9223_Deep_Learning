{
 "cells": [
  {
   "cell_type": "code",
   "execution_count": 1,
   "metadata": {},
   "outputs": [],
   "source": [
    "import altair as alt\n",
    "from vega_datasets import data\n",
    "import pandas as pd"
   ]
  },
  {
   "cell_type": "markdown",
   "metadata": {},
   "source": [
    "# Kuhn poker"
   ]
  },
  {
   "cell_type": "code",
   "execution_count": 2,
   "metadata": {},
   "outputs": [],
   "source": [
    "kuhn = pd.read_csv('experiments/kuhn_poker_dqn_result/performance.csv')"
   ]
  },
  {
   "cell_type": "code",
   "execution_count": 3,
   "metadata": {},
   "outputs": [
    {
     "data": {
      "text/html": [
       "<div>\n",
       "<style scoped>\n",
       "    .dataframe tbody tr th:only-of-type {\n",
       "        vertical-align: middle;\n",
       "    }\n",
       "\n",
       "    .dataframe tbody tr th {\n",
       "        vertical-align: top;\n",
       "    }\n",
       "\n",
       "    .dataframe thead th {\n",
       "        text-align: right;\n",
       "    }\n",
       "</style>\n",
       "<table border=\"1\" class=\"dataframe\">\n",
       "  <thead>\n",
       "    <tr style=\"text-align: right;\">\n",
       "      <th></th>\n",
       "      <th>timestep</th>\n",
       "      <th>reward</th>\n",
       "    </tr>\n",
       "  </thead>\n",
       "  <tbody>\n",
       "    <tr>\n",
       "      <th>0</th>\n",
       "      <td>0</td>\n",
       "      <td>-0.2520</td>\n",
       "    </tr>\n",
       "    <tr>\n",
       "      <th>1</th>\n",
       "      <td>7</td>\n",
       "      <td>-0.1023</td>\n",
       "    </tr>\n",
       "    <tr>\n",
       "      <th>2</th>\n",
       "      <td>16</td>\n",
       "      <td>-0.0596</td>\n",
       "    </tr>\n",
       "    <tr>\n",
       "      <th>3</th>\n",
       "      <td>25</td>\n",
       "      <td>-0.0002</td>\n",
       "    </tr>\n",
       "    <tr>\n",
       "      <th>4</th>\n",
       "      <td>34</td>\n",
       "      <td>0.0150</td>\n",
       "    </tr>\n",
       "  </tbody>\n",
       "</table>\n",
       "</div>"
      ],
      "text/plain": [
       "   timestep  reward\n",
       "0         0 -0.2520\n",
       "1         7 -0.1023\n",
       "2        16 -0.0596\n",
       "3        25 -0.0002\n",
       "4        34  0.0150"
      ]
     },
     "execution_count": 3,
     "metadata": {},
     "output_type": "execute_result"
    }
   ],
   "source": [
    "kuhn.head()"
   ]
  },
  {
   "cell_type": "code",
   "execution_count": 4,
   "metadata": {
    "scrolled": false
   },
   "outputs": [
    {
     "data": {
      "text/html": [
       "\n",
       "<div id=\"altair-viz-9657778a00ff4989ba69d05278039f3c\"></div>\n",
       "<script type=\"text/javascript\">\n",
       "  (function(spec, embedOpt){\n",
       "    let outputDiv = document.currentScript.previousElementSibling;\n",
       "    if (outputDiv.id !== \"altair-viz-9657778a00ff4989ba69d05278039f3c\") {\n",
       "      outputDiv = document.getElementById(\"altair-viz-9657778a00ff4989ba69d05278039f3c\");\n",
       "    }\n",
       "    const paths = {\n",
       "      \"vega\": \"https://cdn.jsdelivr.net/npm//vega@5?noext\",\n",
       "      \"vega-lib\": \"https://cdn.jsdelivr.net/npm//vega-lib?noext\",\n",
       "      \"vega-lite\": \"https://cdn.jsdelivr.net/npm//vega-lite@4.8.1?noext\",\n",
       "      \"vega-embed\": \"https://cdn.jsdelivr.net/npm//vega-embed@6?noext\",\n",
       "    };\n",
       "\n",
       "    function loadScript(lib) {\n",
       "      return new Promise(function(resolve, reject) {\n",
       "        var s = document.createElement('script');\n",
       "        s.src = paths[lib];\n",
       "        s.async = true;\n",
       "        s.onload = () => resolve(paths[lib]);\n",
       "        s.onerror = () => reject(`Error loading script: ${paths[lib]}`);\n",
       "        document.getElementsByTagName(\"head\")[0].appendChild(s);\n",
       "      });\n",
       "    }\n",
       "\n",
       "    function showError(err) {\n",
       "      outputDiv.innerHTML = `<div class=\"error\" style=\"color:red;\">${err}</div>`;\n",
       "      throw err;\n",
       "    }\n",
       "\n",
       "    function displayChart(vegaEmbed) {\n",
       "      vegaEmbed(outputDiv, spec, embedOpt)\n",
       "        .catch(err => showError(`Javascript Error: ${err.message}<br>This usually means there's a typo in your chart specification. See the javascript console for the full traceback.`));\n",
       "    }\n",
       "\n",
       "    if(typeof define === \"function\" && define.amd) {\n",
       "      requirejs.config({paths});\n",
       "      require([\"vega-embed\"], displayChart, err => showError(`Error loading script: ${err.message}`));\n",
       "    } else if (typeof vegaEmbed === \"function\") {\n",
       "      displayChart(vegaEmbed);\n",
       "    } else {\n",
       "      loadScript(\"vega\")\n",
       "        .then(() => loadScript(\"vega-lite\"))\n",
       "        .then(() => loadScript(\"vega-embed\"))\n",
       "        .catch(showError)\n",
       "        .then(() => displayChart(vegaEmbed));\n",
       "    }\n",
       "  })({\"config\": {\"view\": {\"continuousWidth\": 400, \"continuousHeight\": 300}}, \"data\": {\"name\": \"data-040cb1436ce7eb52733d1ce04c09536d\"}, \"mark\": \"line\", \"encoding\": {\"x\": {\"type\": \"quantitative\", \"field\": \"timestep\", \"title\": \"weight updates\"}, \"y\": {\"type\": \"quantitative\", \"field\": \"reward\", \"title\": \"mean reward per hand\"}}, \"title\": \"Kuhn poker\", \"$schema\": \"https://vega.github.io/schema/vega-lite/v4.8.1.json\", \"datasets\": {\"data-040cb1436ce7eb52733d1ce04c09536d\": [{\"timestep\": 0, \"reward\": -0.252}, {\"timestep\": 7, \"reward\": -0.1023}, {\"timestep\": 16, \"reward\": -0.0596}, {\"timestep\": 25, \"reward\": -0.0002}, {\"timestep\": 34, \"reward\": 0.015}, {\"timestep\": 44, \"reward\": 0.0092}, {\"timestep\": 53, \"reward\": 0.0002}, {\"timestep\": 62, \"reward\": -0.0157}, {\"timestep\": 71, \"reward\": 0.0021}, {\"timestep\": 80, \"reward\": -0.0044}, {\"timestep\": 89, \"reward\": -0.0185}, {\"timestep\": 98, \"reward\": -0.0142}, {\"timestep\": 106, \"reward\": -0.0546}, {\"timestep\": 115, \"reward\": -0.0122}, {\"timestep\": 124, \"reward\": -0.0382}, {\"timestep\": 133, \"reward\": -0.0173}, {\"timestep\": 142, \"reward\": 0.0159}, {\"timestep\": 151, \"reward\": 0.009000000000000001}, {\"timestep\": 160, \"reward\": -0.0041}, {\"timestep\": 169, \"reward\": 0.0062}, {\"timestep\": 178, \"reward\": -0.0074}, {\"timestep\": 187, \"reward\": -0.0131}, {\"timestep\": 196, \"reward\": -0.0187}, {\"timestep\": 205, \"reward\": 0.0027}, {\"timestep\": 214, \"reward\": 0.0073}, {\"timestep\": 223, \"reward\": 0.0016}, {\"timestep\": 232, \"reward\": -0.0068}, {\"timestep\": 241, \"reward\": -0.0505}, {\"timestep\": 250, \"reward\": -0.0109}, {\"timestep\": 259, \"reward\": -0.0109}, {\"timestep\": 268, \"reward\": 0.003}, {\"timestep\": 277, \"reward\": -0.0151}, {\"timestep\": 286, \"reward\": -0.0166}, {\"timestep\": 295, \"reward\": -0.059000000000000004}, {\"timestep\": 303, \"reward\": -0.0197}, {\"timestep\": 310, \"reward\": 0.0045}, {\"timestep\": 318, \"reward\": 0.0129}, {\"timestep\": 325, \"reward\": 0.0052}, {\"timestep\": 332, \"reward\": 0.0052}, {\"timestep\": 339, \"reward\": 0.0157}, {\"timestep\": 347, \"reward\": -0.0047}, {\"timestep\": 354, \"reward\": -0.0006}, {\"timestep\": 361, \"reward\": -0.001}, {\"timestep\": 369, \"reward\": 0.0051}, {\"timestep\": 377, \"reward\": 0.0234}, {\"timestep\": 384, \"reward\": -0.0175}, {\"timestep\": 392, \"reward\": 0.0117}, {\"timestep\": 400, \"reward\": -0.0069}, {\"timestep\": 408, \"reward\": 0.0028}, {\"timestep\": 416, \"reward\": -0.0467}, {\"timestep\": 423, \"reward\": -0.0021}, {\"timestep\": 430, \"reward\": -0.0148}, {\"timestep\": 439, \"reward\": 0.0039}, {\"timestep\": 447, \"reward\": -0.0093}, {\"timestep\": 455, \"reward\": 0.0103}, {\"timestep\": 462, \"reward\": 0.0106}, {\"timestep\": 469, \"reward\": -0.013000000000000001}, {\"timestep\": 477, \"reward\": 0.0161}, {\"timestep\": 485, \"reward\": -0.0059}, {\"timestep\": 493, \"reward\": 0.0115}, {\"timestep\": 501, \"reward\": -0.009000000000000001}, {\"timestep\": 509, \"reward\": -0.0029}, {\"timestep\": 516, \"reward\": -0.0561}, {\"timestep\": 524, \"reward\": -0.0102}, {\"timestep\": 532, \"reward\": -0.0056}, {\"timestep\": 540, \"reward\": -0.0174}, {\"timestep\": 548, \"reward\": 0.0016}, {\"timestep\": 556, \"reward\": 0.0071}, {\"timestep\": 564, \"reward\": -0.0164}, {\"timestep\": 571, \"reward\": 0.0031}, {\"timestep\": 580, \"reward\": -0.0447}, {\"timestep\": 587, \"reward\": -0.0717}, {\"timestep\": 595, \"reward\": 0.0108}, {\"timestep\": 603, \"reward\": -0.0164}, {\"timestep\": 610, \"reward\": 0.0035}, {\"timestep\": 618, \"reward\": 0.004}, {\"timestep\": 625, \"reward\": -0.0098}, {\"timestep\": 633, \"reward\": -0.0185}, {\"timestep\": 640, \"reward\": -0.017}, {\"timestep\": 648, \"reward\": 0.0061}, {\"timestep\": 656, \"reward\": 0.0167}, {\"timestep\": 663, \"reward\": -0.0479}, {\"timestep\": 671, \"reward\": -0.0123}, {\"timestep\": 679, \"reward\": -0.0016}, {\"timestep\": 687, \"reward\": -0.0023}, {\"timestep\": 695, \"reward\": -0.0491}, {\"timestep\": 703, \"reward\": -0.0192}, {\"timestep\": 711, \"reward\": 0.013000000000000001}, {\"timestep\": 718, \"reward\": -0.003}, {\"timestep\": 726, \"reward\": -0.0079}, {\"timestep\": 734, \"reward\": 0.005}, {\"timestep\": 742, \"reward\": -0.0465}, {\"timestep\": 750, \"reward\": 0.0001}, {\"timestep\": 757, \"reward\": -0.001}, {\"timestep\": 765, \"reward\": -0.0219}, {\"timestep\": 773, \"reward\": -0.0032}, {\"timestep\": 780, \"reward\": -0.0018}, {\"timestep\": 788, \"reward\": -0.0001}, {\"timestep\": 796, \"reward\": -0.0027}, {\"timestep\": 803, \"reward\": -0.0089}]}}, {\"mode\": \"vega-lite\"});\n",
       "</script>"
      ],
      "text/plain": [
       "alt.Chart(...)"
      ]
     },
     "execution_count": 4,
     "metadata": {},
     "output_type": "execute_result"
    }
   ],
   "source": [
    "alt.Chart(kuhn).mark_line().encode(\n",
    "    x=alt.X(\"timestep:Q\", title=\"weight updates\"),\n",
    "    y=alt.Y(\"reward:Q\", title=\"mean reward per hand\"),\n",
    ").properties(title=\"Kuhn poker\")"
   ]
  },
  {
   "cell_type": "markdown",
   "metadata": {},
   "source": [
    "# Leduc hold'em"
   ]
  },
  {
   "cell_type": "code",
   "execution_count": 5,
   "metadata": {},
   "outputs": [],
   "source": [
    "leduc = pd.read_csv('experiments/leduc_holdem_dqn_result_million/performance.csv')"
   ]
  },
  {
   "cell_type": "code",
   "execution_count": 6,
   "metadata": {},
   "outputs": [
    {
     "data": {
      "text/html": [
       "<div>\n",
       "<style scoped>\n",
       "    .dataframe tbody tr th:only-of-type {\n",
       "        vertical-align: middle;\n",
       "    }\n",
       "\n",
       "    .dataframe tbody tr th {\n",
       "        vertical-align: top;\n",
       "    }\n",
       "\n",
       "    .dataframe thead th {\n",
       "        text-align: right;\n",
       "    }\n",
       "</style>\n",
       "<table border=\"1\" class=\"dataframe\">\n",
       "  <thead>\n",
       "    <tr style=\"text-align: right;\">\n",
       "      <th></th>\n",
       "      <th>timestep</th>\n",
       "      <th>reward</th>\n",
       "    </tr>\n",
       "  </thead>\n",
       "  <tbody>\n",
       "    <tr>\n",
       "      <th>0</th>\n",
       "      <td>0</td>\n",
       "      <td>-0.49285</td>\n",
       "    </tr>\n",
       "    <tr>\n",
       "      <th>1</th>\n",
       "      <td>189</td>\n",
       "      <td>-0.33145</td>\n",
       "    </tr>\n",
       "    <tr>\n",
       "      <th>2</th>\n",
       "      <td>383</td>\n",
       "      <td>-0.08425</td>\n",
       "    </tr>\n",
       "    <tr>\n",
       "      <th>3</th>\n",
       "      <td>581</td>\n",
       "      <td>-0.15775</td>\n",
       "    </tr>\n",
       "    <tr>\n",
       "      <th>4</th>\n",
       "      <td>765</td>\n",
       "      <td>-0.01900</td>\n",
       "    </tr>\n",
       "  </tbody>\n",
       "</table>\n",
       "</div>"
      ],
      "text/plain": [
       "   timestep   reward\n",
       "0         0 -0.49285\n",
       "1       189 -0.33145\n",
       "2       383 -0.08425\n",
       "3       581 -0.15775\n",
       "4       765 -0.01900"
      ]
     },
     "execution_count": 6,
     "metadata": {},
     "output_type": "execute_result"
    }
   ],
   "source": [
    "leduc.head()"
   ]
  },
  {
   "cell_type": "code",
   "execution_count": 7,
   "metadata": {},
   "outputs": [
    {
     "data": {
      "text/html": [
       "\n",
       "<div id=\"altair-viz-954f09b2a93644cd8b187b27a68a17d2\"></div>\n",
       "<script type=\"text/javascript\">\n",
       "  (function(spec, embedOpt){\n",
       "    let outputDiv = document.currentScript.previousElementSibling;\n",
       "    if (outputDiv.id !== \"altair-viz-954f09b2a93644cd8b187b27a68a17d2\") {\n",
       "      outputDiv = document.getElementById(\"altair-viz-954f09b2a93644cd8b187b27a68a17d2\");\n",
       "    }\n",
       "    const paths = {\n",
       "      \"vega\": \"https://cdn.jsdelivr.net/npm//vega@5?noext\",\n",
       "      \"vega-lib\": \"https://cdn.jsdelivr.net/npm//vega-lib?noext\",\n",
       "      \"vega-lite\": \"https://cdn.jsdelivr.net/npm//vega-lite@4.8.1?noext\",\n",
       "      \"vega-embed\": \"https://cdn.jsdelivr.net/npm//vega-embed@6?noext\",\n",
       "    };\n",
       "\n",
       "    function loadScript(lib) {\n",
       "      return new Promise(function(resolve, reject) {\n",
       "        var s = document.createElement('script');\n",
       "        s.src = paths[lib];\n",
       "        s.async = true;\n",
       "        s.onload = () => resolve(paths[lib]);\n",
       "        s.onerror = () => reject(`Error loading script: ${paths[lib]}`);\n",
       "        document.getElementsByTagName(\"head\")[0].appendChild(s);\n",
       "      });\n",
       "    }\n",
       "\n",
       "    function showError(err) {\n",
       "      outputDiv.innerHTML = `<div class=\"error\" style=\"color:red;\">${err}</div>`;\n",
       "      throw err;\n",
       "    }\n",
       "\n",
       "    function displayChart(vegaEmbed) {\n",
       "      vegaEmbed(outputDiv, spec, embedOpt)\n",
       "        .catch(err => showError(`Javascript Error: ${err.message}<br>This usually means there's a typo in your chart specification. See the javascript console for the full traceback.`));\n",
       "    }\n",
       "\n",
       "    if(typeof define === \"function\" && define.amd) {\n",
       "      requirejs.config({paths});\n",
       "      require([\"vega-embed\"], displayChart, err => showError(`Error loading script: ${err.message}`));\n",
       "    } else if (typeof vegaEmbed === \"function\") {\n",
       "      displayChart(vegaEmbed);\n",
       "    } else {\n",
       "      loadScript(\"vega\")\n",
       "        .then(() => loadScript(\"vega-lite\"))\n",
       "        .then(() => loadScript(\"vega-embed\"))\n",
       "        .catch(showError)\n",
       "        .then(() => displayChart(vegaEmbed));\n",
       "    }\n",
       "  })({\"config\": {\"view\": {\"continuousWidth\": 400, \"continuousHeight\": 300}}, \"data\": {\"name\": \"data-b94731f3cd6df3902f06e60e983bf58d\"}, \"mark\": \"line\", \"encoding\": {\"x\": {\"type\": \"quantitative\", \"field\": \"timestep\", \"title\": \"weight updates\"}, \"y\": {\"type\": \"quantitative\", \"field\": \"reward\", \"title\": \"mean reward per hand\"}}, \"title\": \"Leduc hold'em\", \"$schema\": \"https://vega.github.io/schema/vega-lite/v4.8.1.json\", \"datasets\": {\"data-b94731f3cd6df3902f06e60e983bf58d\": [{\"timestep\": 0, \"reward\": -0.49285}, {\"timestep\": 189, \"reward\": -0.33145}, {\"timestep\": 383, \"reward\": -0.08425}, {\"timestep\": 581, \"reward\": -0.15775}, {\"timestep\": 765, \"reward\": -0.019}, {\"timestep\": 953, \"reward\": -0.05745}, {\"timestep\": 1136, \"reward\": -0.1202}, {\"timestep\": 1310, \"reward\": -0.06885}, {\"timestep\": 1482, \"reward\": -0.013000000000000001}, {\"timestep\": 1669, \"reward\": -0.0097}, {\"timestep\": 1855, \"reward\": -0.0804}, {\"timestep\": 2035, \"reward\": 0.0169}, {\"timestep\": 2209, \"reward\": -0.039}, {\"timestep\": 2385, \"reward\": -0.0335}, {\"timestep\": 2571, \"reward\": 0.0838}, {\"timestep\": 2761, \"reward\": 0.0006}, {\"timestep\": 2946, \"reward\": -0.03155}, {\"timestep\": 3132, \"reward\": -0.1043}, {\"timestep\": 3311, \"reward\": -0.0412}, {\"timestep\": 3489, \"reward\": 0.0798}, {\"timestep\": 3668, \"reward\": -0.01455}, {\"timestep\": 3828, \"reward\": 0.0788}, {\"timestep\": 3985, \"reward\": 0.0183}, {\"timestep\": 4127, \"reward\": -0.00545}, {\"timestep\": 4274, \"reward\": 0.00665}, {\"timestep\": 4423, \"reward\": 0.0404}, {\"timestep\": 4580, \"reward\": 0.03805}, {\"timestep\": 4742, \"reward\": 0.03175}, {\"timestep\": 4906, \"reward\": -0.05455}, {\"timestep\": 5083, \"reward\": -0.00835}, {\"timestep\": 5221, \"reward\": -0.01945}, {\"timestep\": 5356, \"reward\": 0.07085}, {\"timestep\": 5478, \"reward\": 0.0179}, {\"timestep\": 5604, \"reward\": 0.07575}, {\"timestep\": 5732, \"reward\": 0.06475}, {\"timestep\": 5880, \"reward\": -0.00445}, {\"timestep\": 6036, \"reward\": -0.0589}, {\"timestep\": 6197, \"reward\": 0.09}, {\"timestep\": 6346, \"reward\": -0.00525}, {\"timestep\": 6483, \"reward\": 0.0646}, {\"timestep\": 6612, \"reward\": 0.05825}, {\"timestep\": 6745, \"reward\": 0.06555}, {\"timestep\": 6880, \"reward\": 0.0426}, {\"timestep\": 7055, \"reward\": -0.04345}, {\"timestep\": 7238, \"reward\": 0.01165}, {\"timestep\": 7398, \"reward\": 0.0498}, {\"timestep\": 7553, \"reward\": 0.0081}, {\"timestep\": 7711, \"reward\": 0.01675}, {\"timestep\": 7863, \"reward\": -0.0362}, {\"timestep\": 8019, \"reward\": -0.03465}, {\"timestep\": 8165, \"reward\": 0.00315}, {\"timestep\": 8296, \"reward\": 0.05705}, {\"timestep\": 8423, \"reward\": -0.01955}, {\"timestep\": 8551, \"reward\": 0.00235}, {\"timestep\": 8679, \"reward\": 0.0398}, {\"timestep\": 8821, \"reward\": 0.028999999999999998}, {\"timestep\": 8968, \"reward\": 0.07085}, {\"timestep\": 9129, \"reward\": -0.0021}, {\"timestep\": 9285, \"reward\": 0.0589}, {\"timestep\": 9473, \"reward\": 0.02405}, {\"timestep\": 9646, \"reward\": -0.0655}, {\"timestep\": 9792, \"reward\": 0.0725}, {\"timestep\": 9929, \"reward\": -0.00435}, {\"timestep\": 10055, \"reward\": 0.00655}, {\"timestep\": 10180, \"reward\": 0.0225}, {\"timestep\": 10311, \"reward\": -0.053}, {\"timestep\": 10454, \"reward\": 0.04115}, {\"timestep\": 10582, \"reward\": -0.01245}, {\"timestep\": 10711, \"reward\": 0.00115}, {\"timestep\": 10835, \"reward\": -0.01185}, {\"timestep\": 10946, \"reward\": 0.0356}, {\"timestep\": 11069, \"reward\": 0.02905}, {\"timestep\": 11194, \"reward\": 0.0565}, {\"timestep\": 11324, \"reward\": -0.0049}, {\"timestep\": 11454, \"reward\": 0.0565}, {\"timestep\": 11584, \"reward\": 0.0099}, {\"timestep\": 11710, \"reward\": 0.06015}, {\"timestep\": 11839, \"reward\": 0.03765}, {\"timestep\": 11963, \"reward\": 0.05385}, {\"timestep\": 12094, \"reward\": 0.01225}, {\"timestep\": 12237, \"reward\": -0.07965}, {\"timestep\": 12382, \"reward\": 0.0246}, {\"timestep\": 12545, \"reward\": -0.04705}, {\"timestep\": 12683, \"reward\": -0.00455}, {\"timestep\": 12807, \"reward\": 0.0823}, {\"timestep\": 12941, \"reward\": 0.02035}, {\"timestep\": 13085, \"reward\": 0.0221}, {\"timestep\": 13220, \"reward\": 0.00845}, {\"timestep\": 13353, \"reward\": 0.0411}, {\"timestep\": 13489, \"reward\": 0.0533}, {\"timestep\": 13624, \"reward\": 0.0416}, {\"timestep\": 13757, \"reward\": 0.0296}, {\"timestep\": 13916, \"reward\": 0.01165}, {\"timestep\": 14078, \"reward\": -0.04815}, {\"timestep\": 14235, \"reward\": -0.10315}, {\"timestep\": 14378, \"reward\": -0.04205}, {\"timestep\": 14513, \"reward\": -0.03595}, {\"timestep\": 14640, \"reward\": -0.02615}, {\"timestep\": 14746, \"reward\": 0.0641}, {\"timestep\": 14875, \"reward\": -0.0412}]}}, {\"mode\": \"vega-lite\"});\n",
       "</script>"
      ],
      "text/plain": [
       "alt.Chart(...)"
      ]
     },
     "execution_count": 7,
     "metadata": {},
     "output_type": "execute_result"
    }
   ],
   "source": [
    "alt.Chart(leduc).mark_line().encode(\n",
    "    x=alt.X(\"timestep:Q\", title=\"weight updates\"),\n",
    "    y=alt.Y(\"reward:Q\", title=\"mean reward per hand\"),\n",
    ").properties(title=\"Leduc hold'em\")"
   ]
  },
  {
   "cell_type": "markdown",
   "metadata": {},
   "source": [
    "# Limit hold'em"
   ]
  },
  {
   "cell_type": "code",
   "execution_count": 8,
   "metadata": {},
   "outputs": [],
   "source": [
    "limit_3 = pd.read_csv('./models/limit_holdem_dqn/03/performance.csv')"
   ]
  },
  {
   "cell_type": "code",
   "execution_count": 9,
   "metadata": {},
   "outputs": [
    {
     "data": {
      "text/html": [
       "<div>\n",
       "<style scoped>\n",
       "    .dataframe tbody tr th:only-of-type {\n",
       "        vertical-align: middle;\n",
       "    }\n",
       "\n",
       "    .dataframe tbody tr th {\n",
       "        vertical-align: top;\n",
       "    }\n",
       "\n",
       "    .dataframe thead th {\n",
       "        text-align: right;\n",
       "    }\n",
       "</style>\n",
       "<table border=\"1\" class=\"dataframe\">\n",
       "  <thead>\n",
       "    <tr style=\"text-align: right;\">\n",
       "      <th></th>\n",
       "      <th>timestep</th>\n",
       "      <th>reward</th>\n",
       "    </tr>\n",
       "  </thead>\n",
       "  <tbody>\n",
       "    <tr>\n",
       "      <th>0</th>\n",
       "      <td>0</td>\n",
       "      <td>2.94425</td>\n",
       "    </tr>\n",
       "    <tr>\n",
       "      <th>1</th>\n",
       "      <td>758</td>\n",
       "      <td>1.46255</td>\n",
       "    </tr>\n",
       "    <tr>\n",
       "      <th>2</th>\n",
       "      <td>1842</td>\n",
       "      <td>2.80475</td>\n",
       "    </tr>\n",
       "    <tr>\n",
       "      <th>3</th>\n",
       "      <td>2941</td>\n",
       "      <td>2.94215</td>\n",
       "    </tr>\n",
       "    <tr>\n",
       "      <th>4</th>\n",
       "      <td>4035</td>\n",
       "      <td>2.83210</td>\n",
       "    </tr>\n",
       "  </tbody>\n",
       "</table>\n",
       "</div>"
      ],
      "text/plain": [
       "   timestep   reward\n",
       "0         0  2.94425\n",
       "1       758  1.46255\n",
       "2      1842  2.80475\n",
       "3      2941  2.94215\n",
       "4      4035  2.83210"
      ]
     },
     "execution_count": 9,
     "metadata": {},
     "output_type": "execute_result"
    }
   ],
   "source": [
    "limit_3.head()"
   ]
  },
  {
   "cell_type": "code",
   "execution_count": 10,
   "metadata": {},
   "outputs": [
    {
     "data": {
      "text/html": [
       "\n",
       "<div id=\"altair-viz-e5071e3aea1a4fb29da3d99eee709983\"></div>\n",
       "<script type=\"text/javascript\">\n",
       "  (function(spec, embedOpt){\n",
       "    let outputDiv = document.currentScript.previousElementSibling;\n",
       "    if (outputDiv.id !== \"altair-viz-e5071e3aea1a4fb29da3d99eee709983\") {\n",
       "      outputDiv = document.getElementById(\"altair-viz-e5071e3aea1a4fb29da3d99eee709983\");\n",
       "    }\n",
       "    const paths = {\n",
       "      \"vega\": \"https://cdn.jsdelivr.net/npm//vega@5?noext\",\n",
       "      \"vega-lib\": \"https://cdn.jsdelivr.net/npm//vega-lib?noext\",\n",
       "      \"vega-lite\": \"https://cdn.jsdelivr.net/npm//vega-lite@4.8.1?noext\",\n",
       "      \"vega-embed\": \"https://cdn.jsdelivr.net/npm//vega-embed@6?noext\",\n",
       "    };\n",
       "\n",
       "    function loadScript(lib) {\n",
       "      return new Promise(function(resolve, reject) {\n",
       "        var s = document.createElement('script');\n",
       "        s.src = paths[lib];\n",
       "        s.async = true;\n",
       "        s.onload = () => resolve(paths[lib]);\n",
       "        s.onerror = () => reject(`Error loading script: ${paths[lib]}`);\n",
       "        document.getElementsByTagName(\"head\")[0].appendChild(s);\n",
       "      });\n",
       "    }\n",
       "\n",
       "    function showError(err) {\n",
       "      outputDiv.innerHTML = `<div class=\"error\" style=\"color:red;\">${err}</div>`;\n",
       "      throw err;\n",
       "    }\n",
       "\n",
       "    function displayChart(vegaEmbed) {\n",
       "      vegaEmbed(outputDiv, spec, embedOpt)\n",
       "        .catch(err => showError(`Javascript Error: ${err.message}<br>This usually means there's a typo in your chart specification. See the javascript console for the full traceback.`));\n",
       "    }\n",
       "\n",
       "    if(typeof define === \"function\" && define.amd) {\n",
       "      requirejs.config({paths});\n",
       "      require([\"vega-embed\"], displayChart, err => showError(`Error loading script: ${err.message}`));\n",
       "    } else if (typeof vegaEmbed === \"function\") {\n",
       "      displayChart(vegaEmbed);\n",
       "    } else {\n",
       "      loadScript(\"vega\")\n",
       "        .then(() => loadScript(\"vega-lite\"))\n",
       "        .then(() => loadScript(\"vega-embed\"))\n",
       "        .catch(showError)\n",
       "        .then(() => displayChart(vegaEmbed));\n",
       "    }\n",
       "  })({\"config\": {\"view\": {\"continuousWidth\": 400, \"continuousHeight\": 300}}, \"data\": {\"name\": \"data-1535575adcec992d84b08dc9c569a3fb\"}, \"mark\": \"line\", \"encoding\": {\"x\": {\"type\": \"quantitative\", \"field\": \"timestep\", \"title\": \"weight updates\"}, \"y\": {\"type\": \"quantitative\", \"field\": \"reward\", \"title\": \"mean reward per hand\"}}, \"title\": \"Limit hold'em: Settings A\", \"$schema\": \"https://vega.github.io/schema/vega-lite/v4.8.1.json\", \"datasets\": {\"data-1535575adcec992d84b08dc9c569a3fb\": [{\"timestep\": 0, \"reward\": 2.94425}, {\"timestep\": 758, \"reward\": 1.46255}, {\"timestep\": 1842, \"reward\": 2.80475}, {\"timestep\": 2941, \"reward\": 2.94215}, {\"timestep\": 4035, \"reward\": 2.8321}, {\"timestep\": 4935, \"reward\": 2.85595}, {\"timestep\": 5971, \"reward\": 1.82535}, {\"timestep\": 6874, \"reward\": 2.9301}, {\"timestep\": 7826, \"reward\": 2.48695}, {\"timestep\": 8753, \"reward\": 2.0066}, {\"timestep\": 9671, \"reward\": 2.1681}, {\"timestep\": 10687, \"reward\": 2.86215}, {\"timestep\": 11789, \"reward\": 2.0553}, {\"timestep\": 12808, \"reward\": 2.60345}, {\"timestep\": 13716, \"reward\": 2.82605}, {\"timestep\": 14748, \"reward\": 2.60075}, {\"timestep\": 15719, \"reward\": 2.67545}, {\"timestep\": 16636, \"reward\": 1.9838}, {\"timestep\": 17621, \"reward\": 1.73135}, {\"timestep\": 18618, \"reward\": 1.4253}, {\"timestep\": 19531, \"reward\": 2.21285}, {\"timestep\": 20491, \"reward\": 2.07485}, {\"timestep\": 21523, \"reward\": 2.2664}, {\"timestep\": 22501, \"reward\": 1.99845}, {\"timestep\": 23289, \"reward\": 2.51325}, {\"timestep\": 24046, \"reward\": 1.1828}, {\"timestep\": 24811, \"reward\": 1.6247}, {\"timestep\": 25663, \"reward\": 1.68055}, {\"timestep\": 26459, \"reward\": 1.53145}, {\"timestep\": 27310, \"reward\": 2.48695}, {\"timestep\": 28147, \"reward\": 2.736}, {\"timestep\": 29019, \"reward\": 1.55135}, {\"timestep\": 29883, \"reward\": 1.525}, {\"timestep\": 30768, \"reward\": 1.6285}, {\"timestep\": 31631, \"reward\": 2.4274}, {\"timestep\": 32471, \"reward\": 1.6971}, {\"timestep\": 33355, \"reward\": 2.5384}, {\"timestep\": 34344, \"reward\": 2.0654}, {\"timestep\": 35462, \"reward\": 2.1932}, {\"timestep\": 36660, \"reward\": 2.3829}, {\"timestep\": 37765, \"reward\": 2.60525}, {\"timestep\": 39039, \"reward\": 2.4781}, {\"timestep\": 40143, \"reward\": 2.34395}, {\"timestep\": 41206, \"reward\": 2.0939}, {\"timestep\": 42064, \"reward\": 1.73025}, {\"timestep\": 42768, \"reward\": 1.7061}, {\"timestep\": 43471, \"reward\": 1.7341}, {\"timestep\": 44174, \"reward\": 1.74035}, {\"timestep\": 44876, \"reward\": 1.72515}, {\"timestep\": 45579, \"reward\": 1.72535}]}}, {\"mode\": \"vega-lite\"});\n",
       "</script>"
      ],
      "text/plain": [
       "alt.Chart(...)"
      ]
     },
     "execution_count": 10,
     "metadata": {},
     "output_type": "execute_result"
    }
   ],
   "source": [
    "alt.Chart(limit_3).mark_line().encode(\n",
    "    x=alt.X(\"timestep:Q\", title=\"weight updates\"),\n",
    "    y=alt.Y(\"reward:Q\", title=\"mean reward per hand\"),\n",
    ").properties(title=\"Limit hold'em: Settings A\")"
   ]
  },
  {
   "cell_type": "code",
   "execution_count": 11,
   "metadata": {},
   "outputs": [],
   "source": [
    "limit_5 = pd.read_csv('./models/limit_holdem_dqn/05/performance.csv')"
   ]
  },
  {
   "cell_type": "code",
   "execution_count": 12,
   "metadata": {},
   "outputs": [
    {
     "data": {
      "text/html": [
       "\n",
       "<div id=\"altair-viz-7e69330f48584e26a2113d59c4b1e744\"></div>\n",
       "<script type=\"text/javascript\">\n",
       "  (function(spec, embedOpt){\n",
       "    let outputDiv = document.currentScript.previousElementSibling;\n",
       "    if (outputDiv.id !== \"altair-viz-7e69330f48584e26a2113d59c4b1e744\") {\n",
       "      outputDiv = document.getElementById(\"altair-viz-7e69330f48584e26a2113d59c4b1e744\");\n",
       "    }\n",
       "    const paths = {\n",
       "      \"vega\": \"https://cdn.jsdelivr.net/npm//vega@5?noext\",\n",
       "      \"vega-lib\": \"https://cdn.jsdelivr.net/npm//vega-lib?noext\",\n",
       "      \"vega-lite\": \"https://cdn.jsdelivr.net/npm//vega-lite@4.8.1?noext\",\n",
       "      \"vega-embed\": \"https://cdn.jsdelivr.net/npm//vega-embed@6?noext\",\n",
       "    };\n",
       "\n",
       "    function loadScript(lib) {\n",
       "      return new Promise(function(resolve, reject) {\n",
       "        var s = document.createElement('script');\n",
       "        s.src = paths[lib];\n",
       "        s.async = true;\n",
       "        s.onload = () => resolve(paths[lib]);\n",
       "        s.onerror = () => reject(`Error loading script: ${paths[lib]}`);\n",
       "        document.getElementsByTagName(\"head\")[0].appendChild(s);\n",
       "      });\n",
       "    }\n",
       "\n",
       "    function showError(err) {\n",
       "      outputDiv.innerHTML = `<div class=\"error\" style=\"color:red;\">${err}</div>`;\n",
       "      throw err;\n",
       "    }\n",
       "\n",
       "    function displayChart(vegaEmbed) {\n",
       "      vegaEmbed(outputDiv, spec, embedOpt)\n",
       "        .catch(err => showError(`Javascript Error: ${err.message}<br>This usually means there's a typo in your chart specification. See the javascript console for the full traceback.`));\n",
       "    }\n",
       "\n",
       "    if(typeof define === \"function\" && define.amd) {\n",
       "      requirejs.config({paths});\n",
       "      require([\"vega-embed\"], displayChart, err => showError(`Error loading script: ${err.message}`));\n",
       "    } else if (typeof vegaEmbed === \"function\") {\n",
       "      displayChart(vegaEmbed);\n",
       "    } else {\n",
       "      loadScript(\"vega\")\n",
       "        .then(() => loadScript(\"vega-lite\"))\n",
       "        .then(() => loadScript(\"vega-embed\"))\n",
       "        .catch(showError)\n",
       "        .then(() => displayChart(vegaEmbed));\n",
       "    }\n",
       "  })({\"config\": {\"view\": {\"continuousWidth\": 400, \"continuousHeight\": 300}}, \"data\": {\"name\": \"data-d3682d51060ed0525585d72193d8cd1d\"}, \"mark\": \"line\", \"encoding\": {\"x\": {\"type\": \"quantitative\", \"field\": \"timestep\", \"title\": \"weight updates\"}, \"y\": {\"type\": \"quantitative\", \"field\": \"reward\", \"title\": \"mean reward per hand\"}}, \"title\": \"Limit hold'em: Settings B\", \"$schema\": \"https://vega.github.io/schema/vega-lite/v4.8.1.json\", \"datasets\": {\"data-d3682d51060ed0525585d72193d8cd1d\": [{\"timestep\": 0, \"reward\": 0.1386}, {\"timestep\": 469, \"reward\": 0.0609}, {\"timestep\": 899, \"reward\": -0.0406}, {\"timestep\": 1307, \"reward\": 0.1071}, {\"timestep\": 1697, \"reward\": -0.0089}, {\"timestep\": 2102, \"reward\": -0.1493}, {\"timestep\": 2547, \"reward\": -0.1364}, {\"timestep\": 2989, \"reward\": 0.0798}, {\"timestep\": 3390, \"reward\": -0.0049}, {\"timestep\": 3790, \"reward\": 0.0714}, {\"timestep\": 4205, \"reward\": -0.0709}, {\"timestep\": 4671, \"reward\": 0.1358}, {\"timestep\": 5121, \"reward\": -0.1163}, {\"timestep\": 5542, \"reward\": 0.0714}, {\"timestep\": 5955, \"reward\": 0.0693}, {\"timestep\": 6366, \"reward\": 0.1141}, {\"timestep\": 6772, \"reward\": 0.0052}, {\"timestep\": 7179, \"reward\": -0.0154}, {\"timestep\": 7614, \"reward\": -0.0509}, {\"timestep\": 8033, \"reward\": 0.0847}, {\"timestep\": 8541, \"reward\": -0.0154}, {\"timestep\": 9016, \"reward\": 0.0931}, {\"timestep\": 9472, \"reward\": 0.0553}, {\"timestep\": 9897, \"reward\": 0.4204}, {\"timestep\": 10339, \"reward\": 0.1156}, {\"timestep\": 10779, \"reward\": 0.1441}, {\"timestep\": 11197, \"reward\": 0.0693}, {\"timestep\": 11580, \"reward\": -0.0511}, {\"timestep\": 11963, \"reward\": -0.0415}, {\"timestep\": 12316, \"reward\": -0.0554}, {\"timestep\": 12665, \"reward\": -0.1239}, {\"timestep\": 13019, \"reward\": -0.0917}, {\"timestep\": 13373, \"reward\": -0.0374}, {\"timestep\": 13743, \"reward\": -0.0744}, {\"timestep\": 14110, \"reward\": -0.11}, {\"timestep\": 14454, \"reward\": -0.1468}, {\"timestep\": 14815, \"reward\": -0.1248}, {\"timestep\": 15185, \"reward\": 0.0602}, {\"timestep\": 15542, \"reward\": -0.0112}, {\"timestep\": 15903, \"reward\": -0.1137}, {\"timestep\": 16254, \"reward\": -0.10300000000000001}, {\"timestep\": 16596, \"reward\": -1.0474}, {\"timestep\": 16939, \"reward\": -0.0927}, {\"timestep\": 17337, \"reward\": -1.5504}, {\"timestep\": 17769, \"reward\": -0.6102}, {\"timestep\": 18224, \"reward\": -1.3924}, {\"timestep\": 18721, \"reward\": -0.2349}, {\"timestep\": 19230, \"reward\": -1.5955}, {\"timestep\": 19739, \"reward\": -1.368}, {\"timestep\": 20230, \"reward\": -1.6256}]}}, {\"mode\": \"vega-lite\"});\n",
       "</script>"
      ],
      "text/plain": [
       "alt.Chart(...)"
      ]
     },
     "execution_count": 12,
     "metadata": {},
     "output_type": "execute_result"
    }
   ],
   "source": [
    "alt.Chart(limit_5).mark_line().encode(\n",
    "    x=alt.X(\"timestep:Q\", title=\"weight updates\"),\n",
    "    y=alt.Y(\"reward:Q\", title=\"mean reward per hand\"),\n",
    ").properties(title=\"Limit hold'em: Settings B\")"
   ]
  },
  {
   "cell_type": "code",
   "execution_count": 13,
   "metadata": {},
   "outputs": [],
   "source": [
    "limit_6 = pd.read_csv('./models/limit_holdem_dqn/06/performance.csv')"
   ]
  },
  {
   "cell_type": "code",
   "execution_count": 14,
   "metadata": {},
   "outputs": [
    {
     "data": {
      "text/html": [
       "\n",
       "<div id=\"altair-viz-d59dbcf1d0a84287bd37ef5ce4904742\"></div>\n",
       "<script type=\"text/javascript\">\n",
       "  (function(spec, embedOpt){\n",
       "    let outputDiv = document.currentScript.previousElementSibling;\n",
       "    if (outputDiv.id !== \"altair-viz-d59dbcf1d0a84287bd37ef5ce4904742\") {\n",
       "      outputDiv = document.getElementById(\"altair-viz-d59dbcf1d0a84287bd37ef5ce4904742\");\n",
       "    }\n",
       "    const paths = {\n",
       "      \"vega\": \"https://cdn.jsdelivr.net/npm//vega@5?noext\",\n",
       "      \"vega-lib\": \"https://cdn.jsdelivr.net/npm//vega-lib?noext\",\n",
       "      \"vega-lite\": \"https://cdn.jsdelivr.net/npm//vega-lite@4.8.1?noext\",\n",
       "      \"vega-embed\": \"https://cdn.jsdelivr.net/npm//vega-embed@6?noext\",\n",
       "    };\n",
       "\n",
       "    function loadScript(lib) {\n",
       "      return new Promise(function(resolve, reject) {\n",
       "        var s = document.createElement('script');\n",
       "        s.src = paths[lib];\n",
       "        s.async = true;\n",
       "        s.onload = () => resolve(paths[lib]);\n",
       "        s.onerror = () => reject(`Error loading script: ${paths[lib]}`);\n",
       "        document.getElementsByTagName(\"head\")[0].appendChild(s);\n",
       "      });\n",
       "    }\n",
       "\n",
       "    function showError(err) {\n",
       "      outputDiv.innerHTML = `<div class=\"error\" style=\"color:red;\">${err}</div>`;\n",
       "      throw err;\n",
       "    }\n",
       "\n",
       "    function displayChart(vegaEmbed) {\n",
       "      vegaEmbed(outputDiv, spec, embedOpt)\n",
       "        .catch(err => showError(`Javascript Error: ${err.message}<br>This usually means there's a typo in your chart specification. See the javascript console for the full traceback.`));\n",
       "    }\n",
       "\n",
       "    if(typeof define === \"function\" && define.amd) {\n",
       "      requirejs.config({paths});\n",
       "      require([\"vega-embed\"], displayChart, err => showError(`Error loading script: ${err.message}`));\n",
       "    } else if (typeof vegaEmbed === \"function\") {\n",
       "      displayChart(vegaEmbed);\n",
       "    } else {\n",
       "      loadScript(\"vega\")\n",
       "        .then(() => loadScript(\"vega-lite\"))\n",
       "        .then(() => loadScript(\"vega-embed\"))\n",
       "        .catch(showError)\n",
       "        .then(() => displayChart(vegaEmbed));\n",
       "    }\n",
       "  })({\"config\": {\"view\": {\"continuousWidth\": 400, \"continuousHeight\": 300}}, \"data\": {\"name\": \"data-d57a139ab699153a3961572ea6713c72\"}, \"mark\": \"line\", \"encoding\": {\"x\": {\"type\": \"quantitative\", \"field\": \"timestep\", \"title\": \"weight updates\"}, \"y\": {\"type\": \"quantitative\", \"field\": \"reward\", \"title\": \"mean reward per hand\"}}, \"title\": \"Limit hold'em: Settings C\", \"$schema\": \"https://vega.github.io/schema/vega-lite/v4.8.1.json\", \"datasets\": {\"data-d57a139ab699153a3961572ea6713c72\": [{\"timestep\": 0, \"reward\": 0.1386}, {\"timestep\": 889, \"reward\": 0.0609}, {\"timestep\": 1695, \"reward\": -0.0406}, {\"timestep\": 2463, \"reward\": 0.1071}, {\"timestep\": 3265, \"reward\": 0.0077}, {\"timestep\": 4032, \"reward\": -0.1463}, {\"timestep\": 4821, \"reward\": -0.1681}, {\"timestep\": 5599, \"reward\": 0.0919}, {\"timestep\": 6390, \"reward\": -0.0049}, {\"timestep\": 7256, \"reward\": 0.0714}, {\"timestep\": 8070, \"reward\": -0.07}, {\"timestep\": 8950, \"reward\": 0.1358}, {\"timestep\": 9822, \"reward\": -0.1169}, {\"timestep\": 10773, \"reward\": 0.0714}, {\"timestep\": 11726, \"reward\": 0.0693}, {\"timestep\": 12699, \"reward\": 0.1141}, {\"timestep\": 13700, \"reward\": 0.0056}, {\"timestep\": 14585, \"reward\": -0.0154}, {\"timestep\": 15481, \"reward\": -0.0511}, {\"timestep\": 16379, \"reward\": 0.0847}, {\"timestep\": 17234, \"reward\": -0.0154}, {\"timestep\": 18046, \"reward\": 0.0931}, {\"timestep\": 18807, \"reward\": 0.0553}, {\"timestep\": 19528, \"reward\": 0.1092}, {\"timestep\": 20258, \"reward\": 0.0208}, {\"timestep\": 20968, \"reward\": 0.0693}, {\"timestep\": 21609, \"reward\": -0.0074}, {\"timestep\": 22241, \"reward\": -0.0509}, {\"timestep\": 22883, \"reward\": -0.0425}, {\"timestep\": 23566, \"reward\": -0.0255}, {\"timestep\": 24268, \"reward\": -0.0605}, {\"timestep\": 25008, \"reward\": 0.0685}, {\"timestep\": 25731, \"reward\": 0.0864}, {\"timestep\": 26457, \"reward\": 0.1033}, {\"timestep\": 27189, \"reward\": -0.0283}, {\"timestep\": 27993, \"reward\": -0.11199999999999999}, {\"timestep\": 28789, \"reward\": -0.0366}, {\"timestep\": 29519, \"reward\": 0.023}, {\"timestep\": 30255, \"reward\": -0.0402}, {\"timestep\": 30984, \"reward\": -0.0119}, {\"timestep\": 31745, \"reward\": -0.1629}, {\"timestep\": 32611, \"reward\": -0.06955}, {\"timestep\": 33506, \"reward\": -0.5083}, {\"timestep\": 34287, \"reward\": -0.99615}, {\"timestep\": 34997, \"reward\": -0.69975}, {\"timestep\": 35850, \"reward\": -1.10395}, {\"timestep\": 36676, \"reward\": -1.62005}, {\"timestep\": 37485, \"reward\": -1.22465}, {\"timestep\": 38289, \"reward\": -1.18945}, {\"timestep\": 39118, \"reward\": -0.7612}]}}, {\"mode\": \"vega-lite\"});\n",
       "</script>"
      ],
      "text/plain": [
       "alt.Chart(...)"
      ]
     },
     "execution_count": 14,
     "metadata": {},
     "output_type": "execute_result"
    }
   ],
   "source": [
    "alt.Chart(limit_6).mark_line().encode(\n",
    "    x=alt.X(\"timestep:Q\", title=\"weight updates\"),\n",
    "    y=alt.Y(\"reward:Q\", title=\"mean reward per hand\"),\n",
    ").properties(title=\"Limit hold'em: Settings C\")"
   ]
  },
  {
   "cell_type": "code",
   "execution_count": null,
   "metadata": {},
   "outputs": [],
   "source": []
  }
 ],
 "metadata": {
  "kernelspec": {
   "display_name": "dl",
   "language": "python",
   "name": "dl"
  },
  "language_info": {
   "codemirror_mode": {
    "name": "ipython",
    "version": 3
   },
   "file_extension": ".py",
   "mimetype": "text/x-python",
   "name": "python",
   "nbconvert_exporter": "python",
   "pygments_lexer": "ipython3",
   "version": "3.6.9"
  }
 },
 "nbformat": 4,
 "nbformat_minor": 4
}
