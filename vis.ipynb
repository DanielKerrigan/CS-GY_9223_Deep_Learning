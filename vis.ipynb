{
 "cells": [
  {
   "cell_type": "code",
   "execution_count": 1,
   "metadata": {},
   "outputs": [],
   "source": [
    "import altair as alt\n",
    "from vega_datasets import data\n",
    "import pandas as pd"
   ]
  },
  {
   "cell_type": "code",
   "execution_count": 2,
   "metadata": {},
   "outputs": [],
   "source": [
    "kuhn = pd.read_csv('experiments/kuhn_poker_dqn_result/performance.csv')"
   ]
  },
  {
   "cell_type": "code",
   "execution_count": 3,
   "metadata": {},
   "outputs": [
    {
     "data": {
      "text/html": [
       "<div>\n",
       "<style scoped>\n",
       "    .dataframe tbody tr th:only-of-type {\n",
       "        vertical-align: middle;\n",
       "    }\n",
       "\n",
       "    .dataframe tbody tr th {\n",
       "        vertical-align: top;\n",
       "    }\n",
       "\n",
       "    .dataframe thead th {\n",
       "        text-align: right;\n",
       "    }\n",
       "</style>\n",
       "<table border=\"1\" class=\"dataframe\">\n",
       "  <thead>\n",
       "    <tr style=\"text-align: right;\">\n",
       "      <th></th>\n",
       "      <th>timestep</th>\n",
       "      <th>reward</th>\n",
       "    </tr>\n",
       "  </thead>\n",
       "  <tbody>\n",
       "    <tr>\n",
       "      <th>0</th>\n",
       "      <td>0</td>\n",
       "      <td>-0.2520</td>\n",
       "    </tr>\n",
       "    <tr>\n",
       "      <th>1</th>\n",
       "      <td>7</td>\n",
       "      <td>-0.1023</td>\n",
       "    </tr>\n",
       "    <tr>\n",
       "      <th>2</th>\n",
       "      <td>16</td>\n",
       "      <td>-0.0596</td>\n",
       "    </tr>\n",
       "    <tr>\n",
       "      <th>3</th>\n",
       "      <td>25</td>\n",
       "      <td>-0.0002</td>\n",
       "    </tr>\n",
       "    <tr>\n",
       "      <th>4</th>\n",
       "      <td>34</td>\n",
       "      <td>0.0150</td>\n",
       "    </tr>\n",
       "  </tbody>\n",
       "</table>\n",
       "</div>"
      ],
      "text/plain": [
       "   timestep  reward\n",
       "0         0 -0.2520\n",
       "1         7 -0.1023\n",
       "2        16 -0.0596\n",
       "3        25 -0.0002\n",
       "4        34  0.0150"
      ]
     },
     "execution_count": 3,
     "metadata": {},
     "output_type": "execute_result"
    }
   ],
   "source": [
    "kuhn.head()"
   ]
  },
  {
   "cell_type": "code",
   "execution_count": 4,
   "metadata": {},
   "outputs": [],
   "source": [
    "leduc = pd.read_csv('experiments/leduc_holdem_dqn_result_million/performance.csv')"
   ]
  },
  {
   "cell_type": "code",
   "execution_count": 5,
   "metadata": {},
   "outputs": [
    {
     "data": {
      "text/html": [
       "<div>\n",
       "<style scoped>\n",
       "    .dataframe tbody tr th:only-of-type {\n",
       "        vertical-align: middle;\n",
       "    }\n",
       "\n",
       "    .dataframe tbody tr th {\n",
       "        vertical-align: top;\n",
       "    }\n",
       "\n",
       "    .dataframe thead th {\n",
       "        text-align: right;\n",
       "    }\n",
       "</style>\n",
       "<table border=\"1\" class=\"dataframe\">\n",
       "  <thead>\n",
       "    <tr style=\"text-align: right;\">\n",
       "      <th></th>\n",
       "      <th>timestep</th>\n",
       "      <th>reward</th>\n",
       "    </tr>\n",
       "  </thead>\n",
       "  <tbody>\n",
       "    <tr>\n",
       "      <th>0</th>\n",
       "      <td>0</td>\n",
       "      <td>-0.49285</td>\n",
       "    </tr>\n",
       "    <tr>\n",
       "      <th>1</th>\n",
       "      <td>189</td>\n",
       "      <td>-0.33145</td>\n",
       "    </tr>\n",
       "    <tr>\n",
       "      <th>2</th>\n",
       "      <td>383</td>\n",
       "      <td>-0.08425</td>\n",
       "    </tr>\n",
       "    <tr>\n",
       "      <th>3</th>\n",
       "      <td>581</td>\n",
       "      <td>-0.15775</td>\n",
       "    </tr>\n",
       "    <tr>\n",
       "      <th>4</th>\n",
       "      <td>765</td>\n",
       "      <td>-0.01900</td>\n",
       "    </tr>\n",
       "  </tbody>\n",
       "</table>\n",
       "</div>"
      ],
      "text/plain": [
       "   timestep   reward\n",
       "0         0 -0.49285\n",
       "1       189 -0.33145\n",
       "2       383 -0.08425\n",
       "3       581 -0.15775\n",
       "4       765 -0.01900"
      ]
     },
     "execution_count": 5,
     "metadata": {},
     "output_type": "execute_result"
    }
   ],
   "source": [
    "leduc.head()"
   ]
  },
  {
   "cell_type": "code",
   "execution_count": 6,
   "metadata": {},
   "outputs": [
    {
     "data": {
      "text/html": [
       "\n",
       "<div id=\"altair-viz-4d01cbf990a748959c53e633468113f5\"></div>\n",
       "<script type=\"text/javascript\">\n",
       "  (function(spec, embedOpt){\n",
       "    let outputDiv = document.currentScript.previousElementSibling;\n",
       "    if (outputDiv.id !== \"altair-viz-4d01cbf990a748959c53e633468113f5\") {\n",
       "      outputDiv = document.getElementById(\"altair-viz-4d01cbf990a748959c53e633468113f5\");\n",
       "    }\n",
       "    const paths = {\n",
       "      \"vega\": \"https://cdn.jsdelivr.net/npm//vega@5?noext\",\n",
       "      \"vega-lib\": \"https://cdn.jsdelivr.net/npm//vega-lib?noext\",\n",
       "      \"vega-lite\": \"https://cdn.jsdelivr.net/npm//vega-lite@4.8.1?noext\",\n",
       "      \"vega-embed\": \"https://cdn.jsdelivr.net/npm//vega-embed@6?noext\",\n",
       "    };\n",
       "\n",
       "    function loadScript(lib) {\n",
       "      return new Promise(function(resolve, reject) {\n",
       "        var s = document.createElement('script');\n",
       "        s.src = paths[lib];\n",
       "        s.async = true;\n",
       "        s.onload = () => resolve(paths[lib]);\n",
       "        s.onerror = () => reject(`Error loading script: ${paths[lib]}`);\n",
       "        document.getElementsByTagName(\"head\")[0].appendChild(s);\n",
       "      });\n",
       "    }\n",
       "\n",
       "    function showError(err) {\n",
       "      outputDiv.innerHTML = `<div class=\"error\" style=\"color:red;\">${err}</div>`;\n",
       "      throw err;\n",
       "    }\n",
       "\n",
       "    function displayChart(vegaEmbed) {\n",
       "      vegaEmbed(outputDiv, spec, embedOpt)\n",
       "        .catch(err => showError(`Javascript Error: ${err.message}<br>This usually means there's a typo in your chart specification. See the javascript console for the full traceback.`));\n",
       "    }\n",
       "\n",
       "    if(typeof define === \"function\" && define.amd) {\n",
       "      requirejs.config({paths});\n",
       "      require([\"vega-embed\"], displayChart, err => showError(`Error loading script: ${err.message}`));\n",
       "    } else if (typeof vegaEmbed === \"function\") {\n",
       "      displayChart(vegaEmbed);\n",
       "    } else {\n",
       "      loadScript(\"vega\")\n",
       "        .then(() => loadScript(\"vega-lite\"))\n",
       "        .then(() => loadScript(\"vega-embed\"))\n",
       "        .catch(showError)\n",
       "        .then(() => displayChart(vegaEmbed));\n",
       "    }\n",
       "  })({\"config\": {\"view\": {\"continuousWidth\": 400, \"continuousHeight\": 300}}, \"data\": {\"name\": \"data-040cb1436ce7eb52733d1ce04c09536d\"}, \"mark\": \"line\", \"encoding\": {\"x\": {\"type\": \"quantitative\", \"field\": \"timestep\", \"title\": \"weight updates\"}, \"y\": {\"type\": \"quantitative\", \"field\": \"reward\", \"title\": \"mean reward per hand\"}}, \"title\": \"Kuhn poker\", \"$schema\": \"https://vega.github.io/schema/vega-lite/v4.8.1.json\", \"datasets\": {\"data-040cb1436ce7eb52733d1ce04c09536d\": [{\"timestep\": 0, \"reward\": -0.252}, {\"timestep\": 7, \"reward\": -0.1023}, {\"timestep\": 16, \"reward\": -0.0596}, {\"timestep\": 25, \"reward\": -0.0002}, {\"timestep\": 34, \"reward\": 0.015}, {\"timestep\": 44, \"reward\": 0.0092}, {\"timestep\": 53, \"reward\": 0.0002}, {\"timestep\": 62, \"reward\": -0.0157}, {\"timestep\": 71, \"reward\": 0.0021}, {\"timestep\": 80, \"reward\": -0.0044}, {\"timestep\": 89, \"reward\": -0.0185}, {\"timestep\": 98, \"reward\": -0.0142}, {\"timestep\": 106, \"reward\": -0.0546}, {\"timestep\": 115, \"reward\": -0.0122}, {\"timestep\": 124, \"reward\": -0.0382}, {\"timestep\": 133, \"reward\": -0.0173}, {\"timestep\": 142, \"reward\": 0.0159}, {\"timestep\": 151, \"reward\": 0.009000000000000001}, {\"timestep\": 160, \"reward\": -0.0041}, {\"timestep\": 169, \"reward\": 0.0062}, {\"timestep\": 178, \"reward\": -0.0074}, {\"timestep\": 187, \"reward\": -0.0131}, {\"timestep\": 196, \"reward\": -0.0187}, {\"timestep\": 205, \"reward\": 0.0027}, {\"timestep\": 214, \"reward\": 0.0073}, {\"timestep\": 223, \"reward\": 0.0016}, {\"timestep\": 232, \"reward\": -0.0068}, {\"timestep\": 241, \"reward\": -0.0505}, {\"timestep\": 250, \"reward\": -0.0109}, {\"timestep\": 259, \"reward\": -0.0109}, {\"timestep\": 268, \"reward\": 0.003}, {\"timestep\": 277, \"reward\": -0.0151}, {\"timestep\": 286, \"reward\": -0.0166}, {\"timestep\": 295, \"reward\": -0.059000000000000004}, {\"timestep\": 303, \"reward\": -0.0197}, {\"timestep\": 310, \"reward\": 0.0045}, {\"timestep\": 318, \"reward\": 0.0129}, {\"timestep\": 325, \"reward\": 0.0052}, {\"timestep\": 332, \"reward\": 0.0052}, {\"timestep\": 339, \"reward\": 0.0157}, {\"timestep\": 347, \"reward\": -0.0047}, {\"timestep\": 354, \"reward\": -0.0006}, {\"timestep\": 361, \"reward\": -0.001}, {\"timestep\": 369, \"reward\": 0.0051}, {\"timestep\": 377, \"reward\": 0.0234}, {\"timestep\": 384, \"reward\": -0.0175}, {\"timestep\": 392, \"reward\": 0.0117}, {\"timestep\": 400, \"reward\": -0.0069}, {\"timestep\": 408, \"reward\": 0.0028}, {\"timestep\": 416, \"reward\": -0.0467}, {\"timestep\": 423, \"reward\": -0.0021}, {\"timestep\": 430, \"reward\": -0.0148}, {\"timestep\": 439, \"reward\": 0.0039}, {\"timestep\": 447, \"reward\": -0.0093}, {\"timestep\": 455, \"reward\": 0.0103}, {\"timestep\": 462, \"reward\": 0.0106}, {\"timestep\": 469, \"reward\": -0.013000000000000001}, {\"timestep\": 477, \"reward\": 0.0161}, {\"timestep\": 485, \"reward\": -0.0059}, {\"timestep\": 493, \"reward\": 0.0115}, {\"timestep\": 501, \"reward\": -0.009000000000000001}, {\"timestep\": 509, \"reward\": -0.0029}, {\"timestep\": 516, \"reward\": -0.0561}, {\"timestep\": 524, \"reward\": -0.0102}, {\"timestep\": 532, \"reward\": -0.0056}, {\"timestep\": 540, \"reward\": -0.0174}, {\"timestep\": 548, \"reward\": 0.0016}, {\"timestep\": 556, \"reward\": 0.0071}, {\"timestep\": 564, \"reward\": -0.0164}, {\"timestep\": 571, \"reward\": 0.0031}, {\"timestep\": 580, \"reward\": -0.0447}, {\"timestep\": 587, \"reward\": -0.0717}, {\"timestep\": 595, \"reward\": 0.0108}, {\"timestep\": 603, \"reward\": -0.0164}, {\"timestep\": 610, \"reward\": 0.0035}, {\"timestep\": 618, \"reward\": 0.004}, {\"timestep\": 625, \"reward\": -0.0098}, {\"timestep\": 633, \"reward\": -0.0185}, {\"timestep\": 640, \"reward\": -0.017}, {\"timestep\": 648, \"reward\": 0.0061}, {\"timestep\": 656, \"reward\": 0.0167}, {\"timestep\": 663, \"reward\": -0.0479}, {\"timestep\": 671, \"reward\": -0.0123}, {\"timestep\": 679, \"reward\": -0.0016}, {\"timestep\": 687, \"reward\": -0.0023}, {\"timestep\": 695, \"reward\": -0.0491}, {\"timestep\": 703, \"reward\": -0.0192}, {\"timestep\": 711, \"reward\": 0.013000000000000001}, {\"timestep\": 718, \"reward\": -0.003}, {\"timestep\": 726, \"reward\": -0.0079}, {\"timestep\": 734, \"reward\": 0.005}, {\"timestep\": 742, \"reward\": -0.0465}, {\"timestep\": 750, \"reward\": 0.0001}, {\"timestep\": 757, \"reward\": -0.001}, {\"timestep\": 765, \"reward\": -0.0219}, {\"timestep\": 773, \"reward\": -0.0032}, {\"timestep\": 780, \"reward\": -0.0018}, {\"timestep\": 788, \"reward\": -0.0001}, {\"timestep\": 796, \"reward\": -0.0027}, {\"timestep\": 803, \"reward\": -0.0089}]}}, {\"mode\": \"vega-lite\"});\n",
       "</script>"
      ],
      "text/plain": [
       "alt.Chart(...)"
      ]
     },
     "execution_count": 6,
     "metadata": {},
     "output_type": "execute_result"
    }
   ],
   "source": [
    "alt.Chart(kuhn).mark_line().encode(\n",
    "    x=alt.X(\"timestep:Q\", title=\"weight updates\"),\n",
    "    y=alt.Y(\"reward:Q\", title=\"mean reward per hand\"),\n",
    ").properties(title=\"Kuhn poker\")"
   ]
  },
  {
   "cell_type": "code",
   "execution_count": 7,
   "metadata": {},
   "outputs": [
    {
     "data": {
      "text/html": [
       "\n",
       "<div id=\"altair-viz-dbf54171eed74704a057f44c32a6f371\"></div>\n",
       "<script type=\"text/javascript\">\n",
       "  (function(spec, embedOpt){\n",
       "    let outputDiv = document.currentScript.previousElementSibling;\n",
       "    if (outputDiv.id !== \"altair-viz-dbf54171eed74704a057f44c32a6f371\") {\n",
       "      outputDiv = document.getElementById(\"altair-viz-dbf54171eed74704a057f44c32a6f371\");\n",
       "    }\n",
       "    const paths = {\n",
       "      \"vega\": \"https://cdn.jsdelivr.net/npm//vega@5?noext\",\n",
       "      \"vega-lib\": \"https://cdn.jsdelivr.net/npm//vega-lib?noext\",\n",
       "      \"vega-lite\": \"https://cdn.jsdelivr.net/npm//vega-lite@4.8.1?noext\",\n",
       "      \"vega-embed\": \"https://cdn.jsdelivr.net/npm//vega-embed@6?noext\",\n",
       "    };\n",
       "\n",
       "    function loadScript(lib) {\n",
       "      return new Promise(function(resolve, reject) {\n",
       "        var s = document.createElement('script');\n",
       "        s.src = paths[lib];\n",
       "        s.async = true;\n",
       "        s.onload = () => resolve(paths[lib]);\n",
       "        s.onerror = () => reject(`Error loading script: ${paths[lib]}`);\n",
       "        document.getElementsByTagName(\"head\")[0].appendChild(s);\n",
       "      });\n",
       "    }\n",
       "\n",
       "    function showError(err) {\n",
       "      outputDiv.innerHTML = `<div class=\"error\" style=\"color:red;\">${err}</div>`;\n",
       "      throw err;\n",
       "    }\n",
       "\n",
       "    function displayChart(vegaEmbed) {\n",
       "      vegaEmbed(outputDiv, spec, embedOpt)\n",
       "        .catch(err => showError(`Javascript Error: ${err.message}<br>This usually means there's a typo in your chart specification. See the javascript console for the full traceback.`));\n",
       "    }\n",
       "\n",
       "    if(typeof define === \"function\" && define.amd) {\n",
       "      requirejs.config({paths});\n",
       "      require([\"vega-embed\"], displayChart, err => showError(`Error loading script: ${err.message}`));\n",
       "    } else if (typeof vegaEmbed === \"function\") {\n",
       "      displayChart(vegaEmbed);\n",
       "    } else {\n",
       "      loadScript(\"vega\")\n",
       "        .then(() => loadScript(\"vega-lite\"))\n",
       "        .then(() => loadScript(\"vega-embed\"))\n",
       "        .catch(showError)\n",
       "        .then(() => displayChart(vegaEmbed));\n",
       "    }\n",
       "  })({\"config\": {\"view\": {\"continuousWidth\": 400, \"continuousHeight\": 300}}, \"data\": {\"name\": \"data-b94731f3cd6df3902f06e60e983bf58d\"}, \"mark\": \"line\", \"encoding\": {\"x\": {\"type\": \"quantitative\", \"field\": \"timestep\", \"title\": \"weight updates\"}, \"y\": {\"type\": \"quantitative\", \"field\": \"reward\", \"title\": \"mean reward per hand\"}}, \"title\": \"Leduc hold'em\", \"$schema\": \"https://vega.github.io/schema/vega-lite/v4.8.1.json\", \"datasets\": {\"data-b94731f3cd6df3902f06e60e983bf58d\": [{\"timestep\": 0, \"reward\": -0.49285}, {\"timestep\": 189, \"reward\": -0.33145}, {\"timestep\": 383, \"reward\": -0.08425}, {\"timestep\": 581, \"reward\": -0.15775}, {\"timestep\": 765, \"reward\": -0.019}, {\"timestep\": 953, \"reward\": -0.05745}, {\"timestep\": 1136, \"reward\": -0.1202}, {\"timestep\": 1310, \"reward\": -0.06885}, {\"timestep\": 1482, \"reward\": -0.013000000000000001}, {\"timestep\": 1669, \"reward\": -0.0097}, {\"timestep\": 1855, \"reward\": -0.0804}, {\"timestep\": 2035, \"reward\": 0.0169}, {\"timestep\": 2209, \"reward\": -0.039}, {\"timestep\": 2385, \"reward\": -0.0335}, {\"timestep\": 2571, \"reward\": 0.0838}, {\"timestep\": 2761, \"reward\": 0.0006}, {\"timestep\": 2946, \"reward\": -0.03155}, {\"timestep\": 3132, \"reward\": -0.1043}, {\"timestep\": 3311, \"reward\": -0.0412}, {\"timestep\": 3489, \"reward\": 0.0798}, {\"timestep\": 3668, \"reward\": -0.01455}, {\"timestep\": 3828, \"reward\": 0.0788}, {\"timestep\": 3985, \"reward\": 0.0183}, {\"timestep\": 4127, \"reward\": -0.00545}, {\"timestep\": 4274, \"reward\": 0.00665}, {\"timestep\": 4423, \"reward\": 0.0404}, {\"timestep\": 4580, \"reward\": 0.03805}, {\"timestep\": 4742, \"reward\": 0.03175}, {\"timestep\": 4906, \"reward\": -0.05455}, {\"timestep\": 5083, \"reward\": -0.00835}, {\"timestep\": 5221, \"reward\": -0.01945}, {\"timestep\": 5356, \"reward\": 0.07085}, {\"timestep\": 5478, \"reward\": 0.0179}, {\"timestep\": 5604, \"reward\": 0.07575}, {\"timestep\": 5732, \"reward\": 0.06475}, {\"timestep\": 5880, \"reward\": -0.00445}, {\"timestep\": 6036, \"reward\": -0.0589}, {\"timestep\": 6197, \"reward\": 0.09}, {\"timestep\": 6346, \"reward\": -0.00525}, {\"timestep\": 6483, \"reward\": 0.0646}, {\"timestep\": 6612, \"reward\": 0.05825}, {\"timestep\": 6745, \"reward\": 0.06555}, {\"timestep\": 6880, \"reward\": 0.0426}, {\"timestep\": 7055, \"reward\": -0.04345}, {\"timestep\": 7238, \"reward\": 0.01165}, {\"timestep\": 7398, \"reward\": 0.0498}, {\"timestep\": 7553, \"reward\": 0.0081}, {\"timestep\": 7711, \"reward\": 0.01675}, {\"timestep\": 7863, \"reward\": -0.0362}, {\"timestep\": 8019, \"reward\": -0.03465}, {\"timestep\": 8165, \"reward\": 0.00315}, {\"timestep\": 8296, \"reward\": 0.05705}, {\"timestep\": 8423, \"reward\": -0.01955}, {\"timestep\": 8551, \"reward\": 0.00235}, {\"timestep\": 8679, \"reward\": 0.0398}, {\"timestep\": 8821, \"reward\": 0.028999999999999998}, {\"timestep\": 8968, \"reward\": 0.07085}, {\"timestep\": 9129, \"reward\": -0.0021}, {\"timestep\": 9285, \"reward\": 0.0589}, {\"timestep\": 9473, \"reward\": 0.02405}, {\"timestep\": 9646, \"reward\": -0.0655}, {\"timestep\": 9792, \"reward\": 0.0725}, {\"timestep\": 9929, \"reward\": -0.00435}, {\"timestep\": 10055, \"reward\": 0.00655}, {\"timestep\": 10180, \"reward\": 0.0225}, {\"timestep\": 10311, \"reward\": -0.053}, {\"timestep\": 10454, \"reward\": 0.04115}, {\"timestep\": 10582, \"reward\": -0.01245}, {\"timestep\": 10711, \"reward\": 0.00115}, {\"timestep\": 10835, \"reward\": -0.01185}, {\"timestep\": 10946, \"reward\": 0.0356}, {\"timestep\": 11069, \"reward\": 0.02905}, {\"timestep\": 11194, \"reward\": 0.0565}, {\"timestep\": 11324, \"reward\": -0.0049}, {\"timestep\": 11454, \"reward\": 0.0565}, {\"timestep\": 11584, \"reward\": 0.0099}, {\"timestep\": 11710, \"reward\": 0.06015}, {\"timestep\": 11839, \"reward\": 0.03765}, {\"timestep\": 11963, \"reward\": 0.05385}, {\"timestep\": 12094, \"reward\": 0.01225}, {\"timestep\": 12237, \"reward\": -0.07965}, {\"timestep\": 12382, \"reward\": 0.0246}, {\"timestep\": 12545, \"reward\": -0.04705}, {\"timestep\": 12683, \"reward\": -0.00455}, {\"timestep\": 12807, \"reward\": 0.0823}, {\"timestep\": 12941, \"reward\": 0.02035}, {\"timestep\": 13085, \"reward\": 0.0221}, {\"timestep\": 13220, \"reward\": 0.00845}, {\"timestep\": 13353, \"reward\": 0.0411}, {\"timestep\": 13489, \"reward\": 0.0533}, {\"timestep\": 13624, \"reward\": 0.0416}, {\"timestep\": 13757, \"reward\": 0.0296}, {\"timestep\": 13916, \"reward\": 0.01165}, {\"timestep\": 14078, \"reward\": -0.04815}, {\"timestep\": 14235, \"reward\": -0.10315}, {\"timestep\": 14378, \"reward\": -0.04205}, {\"timestep\": 14513, \"reward\": -0.03595}, {\"timestep\": 14640, \"reward\": -0.02615}, {\"timestep\": 14746, \"reward\": 0.0641}, {\"timestep\": 14875, \"reward\": -0.0412}]}}, {\"mode\": \"vega-lite\"});\n",
       "</script>"
      ],
      "text/plain": [
       "alt.Chart(...)"
      ]
     },
     "execution_count": 7,
     "metadata": {},
     "output_type": "execute_result"
    }
   ],
   "source": [
    "alt.Chart(leduc).mark_line().encode(\n",
    "    x=alt.X(\"timestep:Q\", title=\"weight updates\"),\n",
    "    y=alt.Y(\"reward:Q\", title=\"mean reward per hand\"),\n",
    ").properties(title=\"Leduc hold'em\")"
   ]
  },
  {
   "cell_type": "code",
   "execution_count": null,
   "metadata": {},
   "outputs": [],
   "source": []
  }
 ],
 "metadata": {
  "kernelspec": {
   "display_name": "dl",
   "language": "python",
   "name": "dl"
  },
  "language_info": {
   "codemirror_mode": {
    "name": "ipython",
    "version": 3
   },
   "file_extension": ".py",
   "mimetype": "text/x-python",
   "name": "python",
   "nbconvert_exporter": "python",
   "pygments_lexer": "ipython3",
   "version": "3.6.9"
  }
 },
 "nbformat": 4,
 "nbformat_minor": 4
}
