{
 "cells": [
  {
   "cell_type": "markdown",
   "metadata": {},
   "source": [
    "Adapted from `rlcard/examples/leduc_holdem_dqn_pytorch.py`"
   ]
  },
  {
   "cell_type": "code",
   "execution_count": 1,
   "metadata": {},
   "outputs": [],
   "source": [
    "import os\n",
    "import sys\n",
    "sys.path.insert(0, os.path.abspath('./rlcard'))"
   ]
  },
  {
   "cell_type": "code",
   "execution_count": 2,
   "metadata": {},
   "outputs": [],
   "source": [
    "import warnings\n",
    "warnings.simplefilter(action='ignore', category=FutureWarning)"
   ]
  },
  {
   "cell_type": "code",
   "execution_count": 3,
   "metadata": {},
   "outputs": [],
   "source": [
    "import torch\n",
    "import rlcard\n",
    "from DQNAgent import DQNAgent\n",
    "from rlcard.agents import RandomAgent\n",
    "from rlcard.utils import set_global_seed, tournament\n",
    "from rlcard.utils import Logger"
   ]
  },
  {
   "cell_type": "code",
   "execution_count": 4,
   "metadata": {},
   "outputs": [],
   "source": [
    "# Make environment\n",
    "env = rlcard.make('leduc-holdem', config={'seed': 0})\n",
    "eval_env = rlcard.make('leduc-holdem', config={'seed': 0})"
   ]
  },
  {
   "cell_type": "code",
   "execution_count": 5,
   "metadata": {},
   "outputs": [],
   "source": [
    "# Set the iterations numbers and how frequently we evaluate the performance\n",
    "evaluate_every = 200\n",
    "evaluate_num = 10000\n",
    "episode_num = 10000"
   ]
  },
  {
   "cell_type": "code",
   "execution_count": 6,
   "metadata": {},
   "outputs": [],
   "source": [
    "# The paths for saving the logs and learning curves\n",
    "log_dir = './experiments/leduc_holdem_dqn_result/'"
   ]
  },
  {
   "cell_type": "code",
   "execution_count": 7,
   "metadata": {},
   "outputs": [
    {
     "name": "stdout",
     "output_type": "stream",
     "text": [
      "WARNING:tensorflow:From /Users/Dan/nyu/classes/deep-learning/project/src/rlcard/rlcard/utils/utils.py:332: The name tf.set_random_seed is deprecated. Please use tf.compat.v1.set_random_seed instead.\n",
      "\n"
     ]
    }
   ],
   "source": [
    "# Set a global seed\n",
    "set_global_seed(0)"
   ]
  },
  {
   "cell_type": "code",
   "execution_count": 8,
   "metadata": {},
   "outputs": [],
   "source": [
    "agent = DQNAgent(env.action_num, env.state_shape[0])\n",
    "random_agent = RandomAgent(action_num=eval_env.action_num)\n",
    "env.set_agents([agent, agent])\n",
    "eval_env.set_agents([agent, random_agent])"
   ]
  },
  {
   "cell_type": "code",
   "execution_count": 9,
   "metadata": {},
   "outputs": [],
   "source": [
    "# Init a Logger to plot the learning curve\n",
    "logger = Logger(log_dir)"
   ]
  },
  {
   "cell_type": "code",
   "execution_count": 10,
   "metadata": {},
   "outputs": [
    {
     "name": "stdout",
     "output_type": "stream",
     "text": [
      "\n",
      "----------------------------------------\n",
      "  timestep     |  0\n",
      "  reward       |  -0.5029\n",
      "----------------------------------------\n",
      "\n",
      "----------------------------------------\n",
      "  timestep     |  75\n",
      "  reward       |  0.7441\n",
      "----------------------------------------\n",
      "\n",
      "----------------------------------------\n",
      "  timestep     |  500\n",
      "  reward       |  0.9492\n",
      "----------------------------------------\n",
      "\n",
      "----------------------------------------\n",
      "  timestep     |  964\n",
      "  reward       |  0.87345\n",
      "----------------------------------------\n",
      "\n",
      "----------------------------------------\n",
      "  timestep     |  1407\n",
      "  reward       |  0.79595\n",
      "----------------------------------------\n",
      "\n",
      "----------------------------------------\n",
      "  timestep     |  1825\n",
      "  reward       |  0.8774\n",
      "----------------------------------------\n",
      "\n",
      "----------------------------------------\n",
      "  timestep     |  2268\n",
      "  reward       |  0.9649\n",
      "----------------------------------------\n",
      "\n",
      "----------------------------------------\n",
      "  timestep     |  2715\n",
      "  reward       |  0.8873\n",
      "----------------------------------------\n",
      "\n",
      "----------------------------------------\n",
      "  timestep     |  3165\n",
      "  reward       |  0.936\n",
      "----------------------------------------\n",
      "\n",
      "----------------------------------------\n",
      "  timestep     |  3611\n",
      "  reward       |  0.8818\n",
      "----------------------------------------\n",
      "\n",
      "----------------------------------------\n",
      "  timestep     |  4074\n",
      "  reward       |  0.8873\n",
      "----------------------------------------\n",
      "\n",
      "----------------------------------------\n",
      "  timestep     |  4506\n",
      "  reward       |  0.7483\n",
      "----------------------------------------\n",
      "\n",
      "----------------------------------------\n",
      "  timestep     |  4953\n",
      "  reward       |  0.854\n",
      "----------------------------------------\n",
      "\n",
      "----------------------------------------\n",
      "  timestep     |  5408\n",
      "  reward       |  0.82745\n",
      "----------------------------------------\n",
      "\n",
      "----------------------------------------\n",
      "  timestep     |  5874\n",
      "  reward       |  1.0344\n",
      "----------------------------------------\n",
      "\n",
      "----------------------------------------\n",
      "  timestep     |  6322\n",
      "  reward       |  0.94085\n",
      "----------------------------------------\n",
      "\n",
      "----------------------------------------\n",
      "  timestep     |  6768\n",
      "  reward       |  0.90245\n",
      "----------------------------------------\n",
      "\n",
      "----------------------------------------\n",
      "  timestep     |  7237\n",
      "  reward       |  0.99555\n",
      "----------------------------------------\n",
      "\n",
      "----------------------------------------\n",
      "  timestep     |  7689\n",
      "  reward       |  0.9546\n",
      "----------------------------------------\n",
      "\n",
      "----------------------------------------\n",
      "  timestep     |  8144\n",
      "  reward       |  0.95435\n",
      "----------------------------------------\n",
      "\n",
      "----------------------------------------\n",
      "  timestep     |  8609\n",
      "  reward       |  0.82425\n",
      "----------------------------------------\n",
      "\n",
      "----------------------------------------\n",
      "  timestep     |  9057\n",
      "  reward       |  0.91225\n",
      "----------------------------------------\n",
      "\n",
      "----------------------------------------\n",
      "  timestep     |  9499\n",
      "  reward       |  0.94865\n",
      "----------------------------------------\n",
      "\n",
      "----------------------------------------\n",
      "  timestep     |  9963\n",
      "  reward       |  0.8917\n",
      "----------------------------------------\n",
      "\n",
      "----------------------------------------\n",
      "  timestep     |  10408\n",
      "  reward       |  0.94715\n",
      "----------------------------------------\n",
      "\n",
      "----------------------------------------\n",
      "  timestep     |  10866\n",
      "  reward       |  0.8599\n",
      "----------------------------------------\n",
      "\n",
      "----------------------------------------\n",
      "  timestep     |  11330\n",
      "  reward       |  0.78515\n",
      "----------------------------------------\n",
      "\n",
      "----------------------------------------\n",
      "  timestep     |  11762\n",
      "  reward       |  0.83845\n",
      "----------------------------------------\n",
      "\n",
      "----------------------------------------\n",
      "  timestep     |  12207\n",
      "  reward       |  0.8863\n",
      "----------------------------------------\n",
      "\n",
      "----------------------------------------\n",
      "  timestep     |  12641\n",
      "  reward       |  0.8361\n",
      "----------------------------------------\n",
      "\n",
      "----------------------------------------\n",
      "  timestep     |  13094\n",
      "  reward       |  0.84785\n",
      "----------------------------------------\n",
      "\n",
      "----------------------------------------\n",
      "  timestep     |  13551\n",
      "  reward       |  0.7652\n",
      "----------------------------------------\n",
      "\n",
      "----------------------------------------\n",
      "  timestep     |  14000\n",
      "  reward       |  0.7539\n",
      "----------------------------------------\n",
      "\n",
      "----------------------------------------\n",
      "  timestep     |  14437\n",
      "  reward       |  0.7587\n",
      "----------------------------------------\n",
      "\n",
      "----------------------------------------\n",
      "  timestep     |  14892\n",
      "  reward       |  0.76635\n",
      "----------------------------------------\n",
      "\n",
      "----------------------------------------\n",
      "  timestep     |  15347\n",
      "  reward       |  0.70435\n",
      "----------------------------------------\n",
      "\n",
      "----------------------------------------\n",
      "  timestep     |  15794\n",
      "  reward       |  0.76665\n",
      "----------------------------------------\n",
      "\n",
      "----------------------------------------\n",
      "  timestep     |  16249\n",
      "  reward       |  0.8985\n",
      "----------------------------------------\n",
      "\n",
      "----------------------------------------\n",
      "  timestep     |  16704\n",
      "  reward       |  0.7371\n",
      "----------------------------------------\n",
      "\n",
      "----------------------------------------\n",
      "  timestep     |  17141\n",
      "  reward       |  0.7093\n",
      "----------------------------------------\n",
      "\n",
      "----------------------------------------\n",
      "  timestep     |  17520\n",
      "  reward       |  0.69385\n",
      "----------------------------------------\n",
      "\n",
      "----------------------------------------\n",
      "  timestep     |  17913\n",
      "  reward       |  0.88645\n",
      "----------------------------------------\n",
      "\n",
      "----------------------------------------\n",
      "  timestep     |  18342\n",
      "  reward       |  0.9154\n",
      "----------------------------------------\n",
      "\n",
      "----------------------------------------\n",
      "  timestep     |  18776\n",
      "  reward       |  0.9184\n",
      "----------------------------------------\n",
      "\n",
      "----------------------------------------\n",
      "  timestep     |  19231\n",
      "  reward       |  0.95745\n",
      "----------------------------------------\n",
      "\n",
      "----------------------------------------\n",
      "  timestep     |  19694\n",
      "  reward       |  0.93375\n",
      "----------------------------------------\n",
      "\n",
      "----------------------------------------\n",
      "  timestep     |  20171\n",
      "  reward       |  0.91075\n",
      "----------------------------------------\n",
      "\n",
      "----------------------------------------\n",
      "  timestep     |  20629\n",
      "  reward       |  0.8035\n",
      "----------------------------------------\n",
      "\n",
      "----------------------------------------\n",
      "  timestep     |  21096\n",
      "  reward       |  0.91865\n",
      "----------------------------------------\n",
      "\n",
      "----------------------------------------\n",
      "  timestep     |  21551\n",
      "  reward       |  0.8543\n",
      "----------------------------------------\n"
     ]
    }
   ],
   "source": [
    "for episode in range(episode_num):\n",
    "    # Generate data from the environment\n",
    "    trajectories, _ = env.run(is_training=True)\n",
    "\n",
    "    # Feed transitions into agent memory, and train the agent\n",
    "    for ts in trajectories[0]:\n",
    "        agent.train(ts)\n",
    "\n",
    "    # Evaluate the performance. Play with random agents.\n",
    "    if episode % evaluate_every == 0:\n",
    "        logger.log_performance(agent.weight_updates,\n",
    "                               tournament(eval_env, evaluate_num)[0])"
   ]
  },
  {
   "cell_type": "code",
   "execution_count": 11,
   "metadata": {},
   "outputs": [],
   "source": [
    "# Close files in the logger\n",
    "logger.close_files()"
   ]
  },
  {
   "cell_type": "code",
   "execution_count": 12,
   "metadata": {},
   "outputs": [
    {
     "name": "stdout",
     "output_type": "stream",
     "text": [
      "./experiments/leduc_holdem_dqn_result/performance.csv\n"
     ]
    }
   ],
   "source": [
    "# Plot the learning curve\n",
    "logger.plot('DQN')"
   ]
  },
  {
   "cell_type": "code",
   "execution_count": 13,
   "metadata": {},
   "outputs": [],
   "source": [
    "# Save model\n",
    "save_dir = 'models/leduc_holdem_dqn'\n",
    "if not os.path.exists(save_dir):\n",
    "    os.makedirs(save_dir)\n",
    "    \n",
    "state_dict = agent.get_state_dict()\n",
    "torch.save(state_dict, os.path.join(save_dir, 'model.pth'))"
   ]
  },
  {
   "cell_type": "code",
   "execution_count": 14,
   "metadata": {},
   "outputs": [
    {
     "name": "stdout",
     "output_type": "stream",
     "text": [
      "[-0.0184, 0.0184]\n"
     ]
    }
   ],
   "source": [
    "eval_env_dqn_dqn = rlcard.make('leduc-holdem', config={'seed': 1})\n",
    "eval_env_dqn_dqn.set_agents([agent, agent])\n",
    "payoffs = tournament(eval_env_dqn_dqn, 10000)\n",
    "print(payoffs)"
   ]
  },
  {
   "cell_type": "code",
   "execution_count": null,
   "metadata": {},
   "outputs": [],
   "source": []
  }
 ],
 "metadata": {
  "kernelspec": {
   "display_name": "dl",
   "language": "python",
   "name": "dl"
  },
  "language_info": {
   "codemirror_mode": {
    "name": "ipython",
    "version": 3
   },
   "file_extension": ".py",
   "mimetype": "text/x-python",
   "name": "python",
   "nbconvert_exporter": "python",
   "pygments_lexer": "ipython3",
   "version": "3.6.9"
  }
 },
 "nbformat": 4,
 "nbformat_minor": 4
}
