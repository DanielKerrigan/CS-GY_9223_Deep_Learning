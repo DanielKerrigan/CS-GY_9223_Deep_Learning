{
 "cells": [
  {
   "cell_type": "markdown",
   "metadata": {},
   "source": [
    "Adapted from `rlcard/examples/leduc_holdem_dqn_pytorch.py`"
   ]
  },
  {
   "cell_type": "code",
   "execution_count": 1,
   "metadata": {},
   "outputs": [],
   "source": [
    "import os\n",
    "import sys\n",
    "sys.path.insert(0, os.path.abspath('./rlcard'))"
   ]
  },
  {
   "cell_type": "code",
   "execution_count": 2,
   "metadata": {},
   "outputs": [],
   "source": [
    "import warnings\n",
    "warnings.simplefilter(action='ignore', category=FutureWarning)"
   ]
  },
  {
   "cell_type": "code",
   "execution_count": 3,
   "metadata": {},
   "outputs": [],
   "source": [
    "import torch\n",
    "import rlcard\n",
    "from DQNAgent import DQNAgent\n",
    "from rlcard.agents import RandomAgent\n",
    "from rlcard.utils import set_global_seed, tournament\n",
    "from rlcard.utils import Logger"
   ]
  },
  {
   "cell_type": "code",
   "execution_count": 4,
   "metadata": {},
   "outputs": [],
   "source": [
    "# Make environment\n",
    "env = rlcard.make('leduc-holdem', config={'seed': 0})\n",
    "eval_env = rlcard.make('leduc-holdem', config={'seed': 0})"
   ]
  },
  {
   "cell_type": "code",
   "execution_count": 5,
   "metadata": {},
   "outputs": [],
   "source": [
    "# Set the iterations numbers and how frequently we evaluate the performance\n",
    "evaluate_every = 200\n",
    "evaluate_num = 10000\n",
    "episode_num = 10000"
   ]
  },
  {
   "cell_type": "code",
   "execution_count": 6,
   "metadata": {},
   "outputs": [],
   "source": [
    "# The paths for saving the logs and learning curves\n",
    "log_dir = './experiments/leduc_holdem_dqn_result/'"
   ]
  },
  {
   "cell_type": "code",
   "execution_count": 7,
   "metadata": {},
   "outputs": [
    {
     "name": "stdout",
     "output_type": "stream",
     "text": [
      "WARNING:tensorflow:From /Users/Dan/nyu/classes/deep-learning/project/src/rlcard/rlcard/utils/utils.py:332: The name tf.set_random_seed is deprecated. Please use tf.compat.v1.set_random_seed instead.\n",
      "\n"
     ]
    }
   ],
   "source": [
    "# Set a global seed\n",
    "set_global_seed(0)"
   ]
  },
  {
   "cell_type": "code",
   "execution_count": 8,
   "metadata": {},
   "outputs": [],
   "source": [
    "agent = DQNAgent(env.action_num, env.state_shape[0])\n",
    "random_agent = RandomAgent(action_num=eval_env.action_num)\n",
    "env.set_agents([agent, agent])\n",
    "eval_env.set_agents([agent, random_agent])"
   ]
  },
  {
   "cell_type": "code",
   "execution_count": 9,
   "metadata": {},
   "outputs": [],
   "source": [
    "# Init a Logger to plot the learning curve\n",
    "logger = Logger(log_dir)"
   ]
  },
  {
   "cell_type": "code",
   "execution_count": 10,
   "metadata": {},
   "outputs": [
    {
     "name": "stdout",
     "output_type": "stream",
     "text": [
      "\n",
      "----------------------------------------\n",
      "  timestep     |  0\n",
      "  reward       |  -0.5029\n",
      "----------------------------------------\n",
      "\n",
      "----------------------------------------\n",
      "  timestep     |  82\n",
      "  reward       |  0.71235\n",
      "----------------------------------------\n",
      "\n",
      "----------------------------------------\n",
      "  timestep     |  537\n",
      "  reward       |  1.09255\n",
      "----------------------------------------\n",
      "\n",
      "----------------------------------------\n",
      "  timestep     |  943\n",
      "  reward       |  0.83595\n",
      "----------------------------------------\n",
      "\n",
      "----------------------------------------\n",
      "  timestep     |  1286\n",
      "  reward       |  0.87925\n",
      "----------------------------------------\n",
      "\n",
      "----------------------------------------\n",
      "  timestep     |  1584\n",
      "  reward       |  0.76805\n",
      "----------------------------------------\n",
      "\n",
      "----------------------------------------\n",
      "  timestep     |  1950\n",
      "  reward       |  1.1397\n",
      "----------------------------------------\n",
      "\n",
      "----------------------------------------\n",
      "  timestep     |  2336\n",
      "  reward       |  0.89095\n",
      "----------------------------------------\n",
      "\n",
      "----------------------------------------\n",
      "  timestep     |  2744\n",
      "  reward       |  0.8847\n",
      "----------------------------------------\n",
      "\n",
      "----------------------------------------\n",
      "  timestep     |  3097\n",
      "  reward       |  0.78865\n",
      "----------------------------------------\n",
      "\n",
      "----------------------------------------\n",
      "  timestep     |  3467\n",
      "  reward       |  0.6911\n",
      "----------------------------------------\n",
      "\n",
      "----------------------------------------\n",
      "  timestep     |  3837\n",
      "  reward       |  0.8337\n",
      "----------------------------------------\n",
      "\n",
      "----------------------------------------\n",
      "  timestep     |  4235\n",
      "  reward       |  0.7103\n",
      "----------------------------------------\n",
      "\n",
      "----------------------------------------\n",
      "  timestep     |  4607\n",
      "  reward       |  0.7309\n",
      "----------------------------------------\n",
      "\n",
      "----------------------------------------\n",
      "  timestep     |  4941\n",
      "  reward       |  0.6905\n",
      "----------------------------------------\n",
      "\n",
      "----------------------------------------\n",
      "  timestep     |  5317\n",
      "  reward       |  0.61\n",
      "----------------------------------------\n",
      "\n",
      "----------------------------------------\n",
      "  timestep     |  5689\n",
      "  reward       |  0.6752\n",
      "----------------------------------------\n",
      "\n",
      "----------------------------------------\n",
      "  timestep     |  6029\n",
      "  reward       |  0.74165\n",
      "----------------------------------------\n",
      "\n",
      "----------------------------------------\n",
      "  timestep     |  6381\n",
      "  reward       |  0.66135\n",
      "----------------------------------------\n",
      "\n",
      "----------------------------------------\n",
      "  timestep     |  6723\n",
      "  reward       |  0.69355\n",
      "----------------------------------------\n",
      "\n",
      "----------------------------------------\n",
      "  timestep     |  7082\n",
      "  reward       |  0.70065\n",
      "----------------------------------------\n",
      "\n",
      "----------------------------------------\n",
      "  timestep     |  7411\n",
      "  reward       |  0.6784\n",
      "----------------------------------------\n",
      "\n",
      "----------------------------------------\n",
      "  timestep     |  7744\n",
      "  reward       |  0.60745\n",
      "----------------------------------------\n",
      "\n",
      "----------------------------------------\n",
      "  timestep     |  8077\n",
      "  reward       |  0.5348\n",
      "----------------------------------------\n",
      "\n",
      "----------------------------------------\n",
      "  timestep     |  8383\n",
      "  reward       |  0.64565\n",
      "----------------------------------------\n",
      "\n",
      "----------------------------------------\n",
      "  timestep     |  8730\n",
      "  reward       |  0.6339\n",
      "----------------------------------------\n",
      "\n",
      "----------------------------------------\n",
      "  timestep     |  9085\n",
      "  reward       |  0.58175\n",
      "----------------------------------------\n",
      "\n",
      "----------------------------------------\n",
      "  timestep     |  9452\n",
      "  reward       |  0.6208\n",
      "----------------------------------------\n",
      "\n",
      "----------------------------------------\n",
      "  timestep     |  9807\n",
      "  reward       |  0.5726\n",
      "----------------------------------------\n",
      "\n",
      "----------------------------------------\n",
      "  timestep     |  10135\n",
      "  reward       |  0.7702\n",
      "----------------------------------------\n",
      "\n",
      "----------------------------------------\n",
      "  timestep     |  10482\n",
      "  reward       |  0.54535\n",
      "----------------------------------------\n",
      "\n",
      "----------------------------------------\n",
      "  timestep     |  10825\n",
      "  reward       |  0.6632\n",
      "----------------------------------------\n",
      "\n",
      "----------------------------------------\n",
      "  timestep     |  11144\n",
      "  reward       |  0.62235\n",
      "----------------------------------------\n",
      "\n",
      "----------------------------------------\n",
      "  timestep     |  11493\n",
      "  reward       |  0.62135\n",
      "----------------------------------------\n",
      "\n",
      "----------------------------------------\n",
      "  timestep     |  11801\n",
      "  reward       |  0.5805\n",
      "----------------------------------------\n",
      "\n",
      "----------------------------------------\n",
      "  timestep     |  12120\n",
      "  reward       |  0.55275\n",
      "----------------------------------------\n",
      "\n",
      "----------------------------------------\n",
      "  timestep     |  12440\n",
      "  reward       |  0.6967\n",
      "----------------------------------------\n",
      "\n",
      "----------------------------------------\n",
      "  timestep     |  12773\n",
      "  reward       |  0.59335\n",
      "----------------------------------------\n",
      "\n",
      "----------------------------------------\n",
      "  timestep     |  13137\n",
      "  reward       |  0.6536\n",
      "----------------------------------------\n",
      "\n",
      "----------------------------------------\n",
      "  timestep     |  13491\n",
      "  reward       |  0.71045\n",
      "----------------------------------------\n",
      "\n",
      "----------------------------------------\n",
      "  timestep     |  13821\n",
      "  reward       |  0.594\n",
      "----------------------------------------\n",
      "\n",
      "----------------------------------------\n",
      "  timestep     |  14161\n",
      "  reward       |  0.53005\n",
      "----------------------------------------\n",
      "\n",
      "----------------------------------------\n",
      "  timestep     |  14528\n",
      "  reward       |  0.76415\n",
      "----------------------------------------\n",
      "\n",
      "----------------------------------------\n",
      "  timestep     |  14892\n",
      "  reward       |  0.6567\n",
      "----------------------------------------\n",
      "\n",
      "----------------------------------------\n",
      "  timestep     |  15222\n",
      "  reward       |  0.62425\n",
      "----------------------------------------\n",
      "\n",
      "----------------------------------------\n",
      "  timestep     |  15575\n",
      "  reward       |  0.7545\n",
      "----------------------------------------\n",
      "\n",
      "----------------------------------------\n",
      "  timestep     |  15961\n",
      "  reward       |  0.62295\n",
      "----------------------------------------\n",
      "\n",
      "----------------------------------------\n",
      "  timestep     |  16303\n",
      "  reward       |  0.68015\n",
      "----------------------------------------\n",
      "\n",
      "----------------------------------------\n",
      "  timestep     |  16694\n",
      "  reward       |  0.7846\n",
      "----------------------------------------\n",
      "\n",
      "----------------------------------------\n",
      "  timestep     |  17088\n",
      "  reward       |  0.76715\n",
      "----------------------------------------\n"
     ]
    }
   ],
   "source": [
    "for episode in range(episode_num):\n",
    "    # Generate data from the environment\n",
    "    trajectories, _ = env.run(is_training=True)\n",
    "\n",
    "    # Feed transitions into agent memory, and train the agent\n",
    "    for ts in trajectories[0]:\n",
    "        agent.train(ts)\n",
    "\n",
    "    # Evaluate the performance. Play with random agents.\n",
    "    if episode % evaluate_every == 0:\n",
    "        logger.log_performance(agent.weight_updates,\n",
    "                               tournament(eval_env, evaluate_num)[0])"
   ]
  },
  {
   "cell_type": "code",
   "execution_count": 11,
   "metadata": {},
   "outputs": [],
   "source": [
    "# Close files in the logger\n",
    "logger.close_files()"
   ]
  },
  {
   "cell_type": "code",
   "execution_count": 12,
   "metadata": {},
   "outputs": [
    {
     "name": "stdout",
     "output_type": "stream",
     "text": [
      "./experiments/leduc_holdem_dqn_result/performance.csv\n"
     ]
    }
   ],
   "source": [
    "# Plot the learning curve\n",
    "logger.plot('DQN')"
   ]
  },
  {
   "cell_type": "code",
   "execution_count": 13,
   "metadata": {},
   "outputs": [],
   "source": [
    "# Save model\n",
    "save_dir = 'models/leduc_holdem_dqn'\n",
    "if not os.path.exists(save_dir):\n",
    "    os.makedirs(save_dir)"
   ]
  },
  {
   "cell_type": "code",
   "execution_count": 14,
   "metadata": {},
   "outputs": [],
   "source": [
    "state_dict = agent.get_state_dict()"
   ]
  },
  {
   "cell_type": "code",
   "execution_count": 15,
   "metadata": {},
   "outputs": [],
   "source": [
    "torch.save(state_dict, os.path.join(save_dir, 'model.pth'))"
   ]
  },
  {
   "cell_type": "code",
   "execution_count": 16,
   "metadata": {},
   "outputs": [
    {
     "data": {
      "text/plain": [
       "17517"
      ]
     },
     "execution_count": 16,
     "metadata": {},
     "output_type": "execute_result"
    }
   ],
   "source": [
    "agent.weight_updates"
   ]
  },
  {
   "cell_type": "code",
   "execution_count": null,
   "metadata": {},
   "outputs": [],
   "source": []
  }
 ],
 "metadata": {
  "kernelspec": {
   "display_name": "dl",
   "language": "python",
   "name": "dl"
  },
  "language_info": {
   "codemirror_mode": {
    "name": "ipython",
    "version": 3
   },
   "file_extension": ".py",
   "mimetype": "text/x-python",
   "name": "python",
   "nbconvert_exporter": "python",
   "pygments_lexer": "ipython3",
   "version": "3.6.9"
  }
 },
 "nbformat": 4,
 "nbformat_minor": 4
}
